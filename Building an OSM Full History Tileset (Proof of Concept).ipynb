{
 "cells": [
  {
   "cell_type": "markdown",
   "metadata": {},
   "source": [
    "# Building OSM Full History objects from History Files\n",
    "\n",
    "Test case: **Boulder, CO**"
   ]
  },
  {
   "cell_type": "code",
   "execution_count": 16,
   "metadata": {
    "collapsed": true
   },
   "outputs": [],
   "source": [
    "import sys, os, json, pprint\n",
    "import osmium as o; import numpy as np"
   ]
  },
  {
   "cell_type": "markdown",
   "metadata": {},
   "source": [
    "### Classes & Functions"
   ]
  },
  {
   "cell_type": "code",
   "execution_count": 2,
   "metadata": {
    "collapsed": false
   },
   "outputs": [],
   "source": [
    "class FileHandler(o.SimpleHandler):                                                                                           \n",
    "    def __init__(self):\n",
    "        o.SimpleHandler.__init__(self)                                                                                              \n",
    "        self.w_cnt = 0\n",
    "        self.n_cnt = 0\n",
    "    def node(self, n):\n",
    "        self.n_cnt +=1\n",
    "        if n.id in nodes:\n",
    "            nodes[n.id].add(n)\n",
    "        elif len(n.tags)>0:\n",
    "            nodes[n.id] = Node(n)            \n",
    "    def way(self, w):\n",
    "        self.w_cnt += 1\n",
    "        if w.id in ways: \n",
    "            ways[w.id].add(w)\n",
    "        else:\n",
    "            ways[w.id] = Way(w)\n",
    "        if self.w_cnt%1000==0:\n",
    "            sys.stderr.write(\"\\r{0} ways processed\".format(self.w_cnt))"
   ]
  },
  {
   "cell_type": "code",
   "execution_count": 5,
   "metadata": {
    "collapsed": false
   },
   "outputs": [],
   "source": [
    "class OSMObject:\n",
    "    def __init__(self, w):\n",
    "        self.id = w.id\n",
    "        self.history = []\n",
    "        self.add(w)\n",
    "        \n",
    "    def add(self,w):\n",
    "        self.history.append(\n",
    "            {\n",
    "                'version':w.version,\n",
    "#                 'deleted':w.deleted, # These are not doing their part\n",
    "#                 'visible':w.visible, #TODO: Why don't these work properly?\n",
    "                \n",
    "                'uid' : w.uid,\n",
    "                'user': w.user,\n",
    "                'created_at': w.timestamp.isoformat(),\n",
    "                'timestamp' : w.timestamp,\n",
    "                \n",
    "                'tags': dict( (t.k, t.v) for t in list(w.tags) ),\n",
    "                'geometry': self.get_geometry(w)\n",
    "            })\n",
    "        \n",
    "    def process_history(self):\n",
    "        if len(self.history[0]['tags']):\n",
    "            self.history[0]['new_tags'] = self.history[0]['tags']\n",
    "            \n",
    "        if len(self.history)>1:\n",
    "\n",
    "            #Ensure it's in order\n",
    "            self.history.sort(key=lambda x: x['version'])\n",
    "            \n",
    "            for prev_idx, w in enumerate(self.history[1:]):\n",
    "\n",
    "                prev_keys  = set(self.history[prev_idx]['tags'])\n",
    "                these_keys = set(w['tags'])\n",
    "\n",
    "                new_keys = these_keys - prev_keys\n",
    "                if len(new_keys) > 0:\n",
    "                    w['new_tags'] = dict( (k, w['tags'][k]) for k in new_keys)\n",
    "\n",
    "                del_keys = prev_keys - new_keys - these_keys\n",
    "                if len(del_keys) > 0:\n",
    "                    w['deleted_tags'] = dict( (k, self.history[prev_idx]['tags'][k]) for k in del_keys)\n",
    "                \n",
    "                changed_tags = {}\n",
    "                for k in these_keys:\n",
    "                    if k in prev_keys:\n",
    "                        if w['tags'][k] != self.history[prev_idx]['tags'][k]:\n",
    "                            changed_tags[k] = (self.history[prev_idx]['tags'][k], w['tags'][k])\n",
    "                if len(changed_tags):\n",
    "                    w['changed_tags'] = changed_tags\n",
    "                    \n",
    "                w['seconds_since_last_edit'] = int((w['timestamp'] - self.history[prev_idx]['timestamp']).total_seconds())\n",
    "            \n",
    "    def as_geojson(self):\n",
    "        geojson = {'type':'Feature'}\n",
    "        geojson['properties']   = self.history[-1]['tags'].copy()\n",
    "        geojson['properties']['@id']          = self.id\n",
    "        geojson['properties']['@created_at']  = self.history[-1]['created_at']\n",
    "        geojson['properties']['@uid']         = self.history[-1]['uid']\n",
    "        geojson['properties']['@user']        = self.history[-1]['user']\n",
    "        geojson['properties']['@version']     = self.history[-1]['version']\n",
    "\n",
    "        for hist_obj in self.history:\n",
    "            if 'timestamp' in hist_obj:\n",
    "                del hist_obj['timestamp']\n",
    "        \n",
    "        if len(self.history)>1:    \n",
    "            geojson['properties']['@object_history'] = self.history\n",
    "        \n",
    "        geojson['geometry'] = self.history[-1]['geometry']\n",
    "        \n",
    "        return geojson\n",
    "    \n",
    "    def __str__(self):\n",
    "        \"\"\"\n",
    "            Override str() function so when calling print(), we get back the full information\n",
    "        \"\"\"\n",
    "        string = \"ID: {0}; revisions: {1}\".format(self.id, len(self.history)-1)\n",
    "        if len(self.history)>1:\n",
    "            string += \"\\n-------------------------------------------------------------------------------\"\n",
    "            for o in self.history:\n",
    "                string += \"\\n({0}) - {1} - {2}, Nodes: {3}\".format(o['version'], o['user'], o['created_at'], len(o['geometry']['coordinates']))\n",
    "                if 'new_tags' in o:\n",
    "                    string += \"\\n\\tNew Tags: {0}\".format(o['new_tags'])\n",
    "                if 'deleted_tags' in o:\n",
    "                    string += \"\\n\\tDeleted Tags: {0}\".format(o['deleted_tags'])\n",
    "                if 'changed_tags' in o:\n",
    "                    string += \"\\n\\tChanged Tags: {0}\".format(o['changed_tags'])\n",
    "            string += \"\\n===============================================================================\"\n",
    "        return string\n",
    "            \n",
    "class Way(OSMObject):\n",
    "    def __init__(self, w):\n",
    "        self.errors = 0\n",
    "        OSMObject.__init__(self, w)\n",
    "    \n",
    "    def get_geometry(self,w):\n",
    "        \"\"\"\n",
    "            Currently does not work properly for historical geometries because pyosmium library does not yet support\n",
    "            multimap index. See https://github.com/Project-EPIC/epic-osm/blob/master/modules/domain_objects/osm_to_mongo.rb#L53 \n",
    "            for example of how this can be implemented.\n",
    "        \"\"\"\n",
    "        coords = [[n.location.lon, n.location.lat] for n in w.nodes] \n",
    "        return {\"type\":\"LineString\", \"coordinates\": coords}\n",
    "#         try:\n",
    "#             geom = o.geom.WKBFactory.create_linestring(w.nodes)\n",
    "#         except Exception as e:\n",
    "#             self.errors += 1\n",
    "#             print(context(e))\n",
    "#             sys.exit(1)\n",
    "        \n",
    "class Node(OSMObject):\n",
    "    def __init__(self, n):\n",
    "        self.errors = 0\n",
    "        OSMObject.__init__(self, n)\n",
    "    \n",
    "    def get_geometry(self, n):\n",
    "        return {\"type\": \"Point\", \"coordinates\":[ n.location.lon, n.location.lat]}"
   ]
  },
  {
   "cell_type": "markdown",
   "metadata": {},
   "source": [
    "# 1.  Load the file into memory as Nodes & Ways\n",
    "Unfortunately this is all single-threaded, but the performance is not _as bad_ as I thought it would be."
   ]
  },
  {
   "cell_type": "code",
   "execution_count": 6,
   "metadata": {
    "collapsed": false
   },
   "outputs": [
    {
     "name": "stderr",
     "output_type": "stream",
     "text": [
      "32000 ways processed"
     ]
    }
   ],
   "source": [
    "nodes = dict({})\n",
    "ways  = dict({})\n",
    "h = FileHandler()\n",
    "h.apply_file('/data/osm/boulder.osh.pbf', locations=True)"
   ]
  },
  {
   "cell_type": "markdown",
   "metadata": {},
   "source": [
    "### (Optional) Process a sample of the data first?"
   ]
  },
  {
   "cell_type": "code",
   "execution_count": 11,
   "metadata": {
    "collapsed": false
   },
   "outputs": [
    {
     "name": "stdout",
     "output_type": "stream",
     "text": [
      "ID: 438929638; revisions: 0\n",
      "ID: 117092123; revisions: 0\n",
      "ID: 176492340; revisions: 1\n",
      "-------------------------------------------------------------------------------\n",
      "(1) - DaveHansenTiger - 2007-12-18T07:45:43+00:00, Nodes: 2\n",
      "\tNew Tags: {'source': 'tiger_import_dch_v0.6_20070809', 'tiger:county': 'Boulder, CO', 'tiger:upload_uuid': 'bulk_upload.pl-1b7afdac-0ecb-47b2-8901-e595d422ff1f', 'tiger:tlid': '188160245:188160246:188204332:188160253:188160212:188160215:188160216'}\n",
      "(2) - woodpeck_fixbot - 2009-11-10T11:11:49+00:00, Nodes: 2\n",
      "\tDeleted Tags: {'source': 'tiger_import_dch_v0.6_20070809', 'tiger:county': 'Boulder, CO', 'tiger:upload_uuid': 'bulk_upload.pl-1b7afdac-0ecb-47b2-8901-e595d422ff1f', 'tiger:tlid': '188160245:188160246:188204332:188160253:188160212:188160215:188160216'}\n",
      "===============================================================================\n",
      "ID: 176546835; revisions: 1\n",
      "-------------------------------------------------------------------------------\n",
      "(1) - DaveHansenTiger - 2007-12-18T08:25:11+00:00, Nodes: 2\n",
      "\tNew Tags: {'source': 'tiger_import_dch_v0.6_20070809', 'tiger:county': 'Boulder, CO', 'tiger:upload_uuid': 'bulk_upload.pl-1b7afdac-0ecb-47b2-8901-e595d422ff1f', 'tiger:tlid': '188193688:220751743:188193692:220751724'}\n",
      "(2) - woodpeck_fixbot - 2009-11-10T11:24:00+00:00, Nodes: 2\n",
      "\tDeleted Tags: {'source': 'tiger_import_dch_v0.6_20070809', 'tiger:county': 'Boulder, CO', 'tiger:upload_uuid': 'bulk_upload.pl-1b7afdac-0ecb-47b2-8901-e595d422ff1f', 'tiger:tlid': '188193688:220751743:188193692:220751724'}\n",
      "===============================================================================\n"
     ]
    }
   ],
   "source": [
    "# Choose sample of data and process it!\n",
    "sample_ways  = np.random.choice(list(ways.keys()), 2)\n",
    "sample_nodes = np.random.choice(list(nodes.keys()),2)\n",
    "\n",
    "for way in [ways[w_id] for w_id in sample_ways]:\n",
    "    way.process_history()\n",
    "    print(way)\n",
    "\n",
    "for node in [nodes[n_id] for n_id in sample_nodes]:\n",
    "    node.process_history()\n",
    "    print(node)"
   ]
  },
  {
   "cell_type": "markdown",
   "metadata": {},
   "source": [
    "# 2. Process histories for all of the data"
   ]
  },
  {
   "cell_type": "code",
   "execution_count": 12,
   "metadata": {
    "collapsed": false,
    "scrolled": false
   },
   "outputs": [],
   "source": [
    "for w_id, way in ways.items():\n",
    "    way.process_history()\n",
    "\n",
    "for n_id, node in nodes.items():\n",
    "    node.process_history()"
   ]
  },
  {
   "cell_type": "markdown",
   "metadata": {
    "collapsed": true
   },
   "source": [
    "# 3. Write out GeoJSON for tippecanoe"
   ]
  },
  {
   "cell_type": "code",
   "execution_count": 19,
   "metadata": {
    "collapsed": false
   },
   "outputs": [],
   "source": [
    "with open('boulder_history_proof_of_concept.geojsonl','w') as oFile:\n",
    "    for w_id, way in ways.items():\n",
    "        oFile.write(json.dumps(way.as_geojson())+\"\\n\")\n",
    "\n",
    "    for n_id, node in nodes.items():\n",
    "        oFile.write(json.dumps(node.as_geojson())+\"\\n\")"
   ]
  }
 ],
 "metadata": {
  "kernelspec": {
   "display_name": "IPython (Python 3)",
   "language": "python",
   "name": "python3"
  },
  "language_info": {
   "codemirror_mode": {
    "name": "ipython",
    "version": 3
   },
   "file_extension": ".py",
   "mimetype": "text/x-python",
   "name": "python",
   "nbconvert_exporter": "python",
   "pygments_lexer": "ipython3",
   "version": "3.4.3"
  }
 },
 "nbformat": 4,
 "nbformat_minor": 1
}
