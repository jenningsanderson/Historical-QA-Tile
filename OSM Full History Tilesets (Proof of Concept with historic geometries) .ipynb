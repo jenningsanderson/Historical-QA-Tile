{
 "cells": [
  {
   "cell_type": "markdown",
   "metadata": {},
   "source": [
    "# Building OSM Full History objects from History Files\n",
    "\n",
    "> Test case: Boulder, CO"
   ]
  },
  {
   "cell_type": "code",
   "execution_count": 31,
   "metadata": {
    "collapsed": true
   },
   "outputs": [],
   "source": [
    "import osmium as o\n",
    "import numpy as np\n",
    "import sys, os, json, pprint\n",
    "from collections import Counter"
   ]
  },
  {
   "cell_type": "markdown",
   "metadata": {},
   "source": [
    "main runtime, unfortuantely it's single threaded."
   ]
  },
  {
   "cell_type": "code",
   "execution_count": 32,
   "metadata": {
    "collapsed": false
   },
   "outputs": [],
   "source": [
    "class FileHandler(o.SimpleHandler):                                                                                           \n",
    "    def __init__(self):\n",
    "        o.SimpleHandler.__init__(self)                                                                                              \n",
    "        self.w_cnt = 0\n",
    "        self.n_cnt = 0\n",
    "\n",
    "    def node(self, n):\n",
    "        '''\n",
    "            Only save nodes which have extra attributes...\n",
    "            \n",
    "            TODO: If the first version of a node has 0 tags, but version 2 has tags, then version 1 may not show up in the history... maybe?\n",
    "        '''\n",
    "        self.n_cnt +=1\n",
    "        if n.id in nodes:\n",
    "            nodes[n.id].add(n)\n",
    "        elif len(n.tags)>0:\n",
    "            nodes[n.id] = Node(n)\n",
    "            \n",
    "        #Cache these locations:\n",
    "        if n.id not in node_locations:\n",
    "            node_locations[n.id] = []\n",
    "\n",
    "        node_locations[n.id].append({\n",
    "                'v':n.version,\n",
    "                'c':n.changeset,\n",
    "                'g':[n.location.lon, n.location.lat]\n",
    "            })\n",
    "        \n",
    "        if self.n_cnt%10000==0:\n",
    "            sys.stderr.write(\"\\r{0} nodes processed\".format(self.n_cnt))\n",
    "\n",
    "    def way(self, w):\n",
    "        self.w_cnt += 1\n",
    "        if w.id in ways: \n",
    "            ways[w.id].add(w)\n",
    "        else:\n",
    "            ways[w.id] = Way(w)\n",
    "        if self.w_cnt%1000==0:\n",
    "            sys.stderr.write(\"\\r{0} ways processed\".format(self.w_cnt))"
   ]
  },
  {
   "cell_type": "code",
   "execution_count": 33,
   "metadata": {
    "collapsed": false
   },
   "outputs": [],
   "source": [
    "class OSMObject:\n",
    "    def __init__(self, w):\n",
    "        self.id = w.id\n",
    "        self.history = []\n",
    "        self.add(w)\n",
    "        \n",
    "    def add(self,w):\n",
    "        self.history.append(\n",
    "            {\n",
    "                'version':w.version,\n",
    "#                 'deleted':w.deleted, # These are not doing their part\n",
    "#                 'visible':w.visible, #TODO: Why don't these work properly?\n",
    "                \n",
    "                'uid' : w.uid,\n",
    "                'user': w.user,\n",
    "                'created_at': w.timestamp.isoformat(),\n",
    "                'timestamp' : w.timestamp,\n",
    "                \n",
    "                'tags': dict( (t.k, t.v) for t in list(w.tags) ),\n",
    "                'geometry': self.get_geometry(w)\n",
    "            })\n",
    "        \n",
    "    def process_history(self):\n",
    "        if len(self.history[0]['tags']):\n",
    "            self.history[0]['new_tags'] = self.history[0]['tags']\n",
    "            \n",
    "        if len(self.history)>1:\n",
    "\n",
    "            #Ensure it's in order\n",
    "            self.history.sort(key=lambda x: x['version'])\n",
    "            \n",
    "            for prev_idx, w in enumerate(self.history[1:]):\n",
    "\n",
    "                prev_keys  = set(self.history[prev_idx]['tags'])\n",
    "                these_keys = set(w['tags'])\n",
    "\n",
    "                new_keys = these_keys - prev_keys\n",
    "                if len(new_keys) > 0:\n",
    "                    w['new_tags'] = dict( (k, w['tags'][k]) for k in new_keys)\n",
    "\n",
    "                del_keys = prev_keys - new_keys - these_keys\n",
    "                if len(del_keys) > 0:\n",
    "                    w['deleted_tags'] = dict( (k, self.history[prev_idx]['tags'][k]) for k in del_keys)\n",
    "                \n",
    "                changed_tags = {}\n",
    "                for k in these_keys:\n",
    "                    if k in prev_keys:\n",
    "                        if w['tags'][k] != self.history[prev_idx]['tags'][k]:\n",
    "                            changed_tags[k] = (self.history[prev_idx]['tags'][k], w['tags'][k])\n",
    "                if len(changed_tags):\n",
    "                    w['changed_tags'] = changed_tags\n",
    "                    \n",
    "                w['seconds_since_last_edit'] = int((w['timestamp'] - self.history[prev_idx]['timestamp']).total_seconds())\n",
    "            \n",
    "    def as_geojson(self):\n",
    "        geojson = {'type':'Feature'}\n",
    "        geojson['properties']   = self.history[-1]['tags'].copy()\n",
    "        geojson['properties']['@id']          = self.id\n",
    "        geojson['properties']['@created_at']  = self.history[-1]['created_at']\n",
    "        geojson['properties']['@uid']         = self.history[-1]['uid']\n",
    "        geojson['properties']['@user']        = self.history[-1]['user']\n",
    "        geojson['properties']['@version']     = self.history[-1]['version']\n",
    "\n",
    "        for hist_obj in self.history:\n",
    "            if 'timestamp' in hist_obj:\n",
    "                del hist_obj['timestamp']\n",
    "        \n",
    "        if len(self.history)>1:    \n",
    "            geojson['properties']['@object_history'] = self.history\n",
    "        \n",
    "        geojson['geometry'] = self.history[-1]['geometry']\n",
    "        \n",
    "        return geojson\n",
    "    \n",
    "    def __str__(self):\n",
    "        \"\"\"\n",
    "            Override str() function so when calling print(), we get back the full information\n",
    "        \"\"\"\n",
    "        string = \"ID: {0}; revisions: {1}\".format(self.id, len(self.history)-1)\n",
    "        if len(self.history)>1:\n",
    "            string += \"\\n-------------------------------------------------------------------------------\"\n",
    "            for o in self.history:\n",
    "                string += \"\\n({0}) - {1} - {2}, Nodes: {3}\".format(o['version'], o['user'], o['created_at'], len(o['geometry']['coordinates']))\n",
    "                if 'new_tags' in o:\n",
    "                    string += \"\\n\\tNew Tags: {0}\".format(o['new_tags'])\n",
    "                if 'deleted_tags' in o:\n",
    "                    string += \"\\n\\tDeleted Tags: {0}\".format(o['deleted_tags'])\n",
    "                if 'changed_tags' in o:\n",
    "                    string += \"\\n\\tChanged Tags: {0}\".format(o['changed_tags'])\n",
    "            string += \"\\n===============================================================================\"\n",
    "        return string\n",
    "            \n",
    "class Way(OSMObject):\n",
    "    def __init__(self, w):\n",
    "        self.errors = 0\n",
    "        OSMObject.__init__(self, w)\n",
    "    \n",
    "    def get_geometry(self,w):\n",
    "        coords = []\n",
    "        for n in w.nodes:\n",
    "            #If there are multiple versions, then we sort and take the latest\n",
    "            if len(node_locations[n.ref]) > 1:\n",
    "                #Sort by changeset id\n",
    "                node_locations[n.ref].sort(key=lambda x: x['c'])\n",
    "                \n",
    "                # Due to silly error from JOSM or Potlatch, we have to get hacky with this...\n",
    "                try:\n",
    "                    c = [x for x in node_locations[n.ref] if not x['c'] > w.changeset][-1]\n",
    "                except:\n",
    "                    #just take the first one\n",
    "                    c = node_locations[n.ref][0]\n",
    "                coords.append(c['g'])\n",
    "            else:\n",
    "                coords.append(node_locations[n.ref][0]['g'])\n",
    "            \n",
    "        return {\"type\":\"LineString\", \"coordinates\": coords}\n",
    "#         try:\n",
    "#             geom = o.geom.WKBFactory.create_linestring(w.nodes)\n",
    "#         except Exception as e:\n",
    "#             self.errors += 1\n",
    "#             print(context(e))\n",
    "#             sys.exit(1)\n",
    "        \n",
    "class Node(OSMObject):\n",
    "    def __init__(self, n):\n",
    "        self.errors = 0\n",
    "        OSMObject.__init__(self, n)\n",
    "    \n",
    "    def get_geometry(self, n):\n",
    "        return {\"type\": \"Point\", \"coordinates\":[ n.location.lon, n.location.lat]}"
   ]
  },
  {
   "cell_type": "markdown",
   "metadata": {},
   "source": [
    "Run the handler to creat the objects"
   ]
  },
  {
   "cell_type": "markdown",
   "metadata": {},
   "source": [
    "## Now process the object"
   ]
  },
  {
   "cell_type": "code",
   "execution_count": 34,
   "metadata": {
    "collapsed": false
   },
   "outputs": [
    {
     "name": "stderr",
     "output_type": "stream",
     "text": [
      "32000 ways processed"
     ]
    }
   ],
   "source": [
    "node_locations = {}\n",
    "nodes = dict({})\n",
    "ways  = dict({})\n",
    "h = FileHandler()\n",
    "h.apply_file('/data/osm/boulder.osh.pbf', locations=True)"
   ]
  },
  {
   "cell_type": "code",
   "execution_count": 35,
   "metadata": {
    "collapsed": false
   },
   "outputs": [
    {
     "data": {
      "text/plain": [
       "array([ [{'v': 1, 'g': [-105.2697989, 40.0016279], 'c': 18394600}, {'v': 2, 'g': [-105.2697976, 40.0016288], 'c': 18488376}],\n",
       "       [{'v': 1, 'g': [-105.2731312, 40.0127697], 'c': 9367533}],\n",
       "       [{'v': 1, 'g': [-105.2575574, 39.9985619], 'c': 14636030}, {'v': 2, 'g': [-105.2575692, 39.998568], 'c': 22880465}],\n",
       "       [{'v': 1, 'g': [-105.2806574, 40.0126512], 'c': 18386564}, {'v': 2, 'g': [-105.2806596, 40.0126532], 'c': 18487988}],\n",
       "       [{'v': 1, 'g': [-105.2394603, 39.9977948], 'c': 14577446}],\n",
       "       [{'v': 1, 'g': [-105.2487372, 40.0046433], 'c': 22649897}],\n",
       "       [{'v': 1, 'g': [-105.2493102, 40.0095958], 'c': 15213723}],\n",
       "       [{'v': 1, 'g': [-105.2436587, 40.0130771], 'c': 15530040}],\n",
       "       [{'v': 1, 'g': [-105.2773009, 40.009189], 'c': 18389204}, {'v': 2, 'g': [-105.2772982, 40.0091898], 'c': 18488099}],\n",
       "       [{'v': 1, 'g': [-105.231968, 40.013479], 'c': 345684}, {'v': 2, 'g': [-105.231968, 40.013479], 'c': 3391217}]], dtype=object)"
      ]
     },
     "execution_count": 35,
     "metadata": {},
     "output_type": "execute_result"
    }
   ],
   "source": [
    "np.random.choice(list(node_locations.values()),10)"
   ]
  },
  {
   "cell_type": "code",
   "execution_count": 36,
   "metadata": {
    "collapsed": false
   },
   "outputs": [],
   "source": [
    "# Choose sample of data and process it!\n",
    "sample_ways  = np.random.choice(list(ways.keys()),10000)\n",
    "sample_nodes = np.random.choice(list(nodes.keys()),10000)\n",
    "\n",
    "for way in [ways[w_id] for w_id in sample_ways]:\n",
    "    way.process_history()\n",
    "    \n",
    "for node in [nodes[n_id] for n_id in sample_nodes]:\n",
    "    node.process_history() "
   ]
  },
  {
   "cell_type": "code",
   "execution_count": 37,
   "metadata": {
    "collapsed": false,
    "scrolled": false
   },
   "outputs": [],
   "source": [
    "with open('sample_boulder_history.geojsonl','w') as outFile:\n",
    "    for way in [ways[w_id] for w_id in sample_ways]:\n",
    "        outFile.write(json.dumps(way.as_geojson())+\"\\n\")\n",
    "    \n",
    "    for node in [nodes[n_id] for n_id in sample_nodes]:\n",
    "        outFile.write(json.dumps(node.as_geojson())+\"\\n\")\n"
   ]
  },
  {
   "cell_type": "code",
   "execution_count": null,
   "metadata": {
    "collapsed": true
   },
   "outputs": [],
   "source": []
  },
  {
   "cell_type": "code",
   "execution_count": null,
   "metadata": {
    "collapsed": true
   },
   "outputs": [],
   "source": []
  },
  {
   "cell_type": "code",
   "execution_count": null,
   "metadata": {
    "collapsed": true
   },
   "outputs": [],
   "source": []
  },
  {
   "cell_type": "code",
   "execution_count": null,
   "metadata": {
    "collapsed": true
   },
   "outputs": [],
   "source": []
  },
  {
   "cell_type": "code",
   "execution_count": 146,
   "metadata": {
    "collapsed": false,
    "scrolled": false
   },
   "outputs": [
    {
     "name": "stdout",
     "output_type": "stream",
     "text": [
      "{'properties': {'highway': 'residential', 'created_by': 'YahooApplet 1.0', '@user': 'erinn', 'name': 'Colorado Avenue', '@created_at': datetime.datetime(2007, 3, 3, 1, 44, 57, tzinfo=datetime.timezone.utc), '@id': 4325621, '@version': 1, '@uid': 5879}, 'geometry': {'coordinates': [[-105.2664213, 40.0082102], [-105.2693825, 40.0081773]], 'type': 'LineString'}, 'type': 'Feature'}\n",
      "{'properties': {'highway': 'residential', 'created_by': 'YahooApplet 1.0', '@user': 'erinn', 'name': '18th Street', '@created_at': datetime.datetime(2007, 3, 3, 1, 45, 15, tzinfo=datetime.timezone.utc), '@id': 4325622, '@version': 1, '@uid': 5879}, 'geometry': {'coordinates': [[-105.2693825, 40.0081773], [-105.2695327, 40.0080623]], 'type': 'LineString'}, 'type': 'Feature'}\n",
      "{'properties': {'highway': 'service', '@uid': 1778953, '@created_at': datetime.datetime(2016, 3, 1, 1, 58, 30, tzinfo=datetime.timezone.utc), 'maxspeed': '10 mph', '@id': 4325623, '@version': 8, 'object_history': [{'new_tags': {'highway': 'residential', 'created_by': 'YahooApplet 1.0', 'name': 'Libby Drive'}, 'uid': 5879, 'created_at': datetime.datetime(2007, 3, 3, 1, 45, 50, tzinfo=datetime.timezone.utc), 'version': 1, 'tags': {'highway': 'residential', 'created_by': 'YahooApplet 1.0', 'name': 'Libby Drive'}, 'geometry': {'coordinates': [[-105.2664213, 40.0073062], [-105.2664213, 40.0082102]], 'type': 'LineString'}, 'user': 'erinn'}, {'uid': 364, 'created_at': datetime.datetime(2008, 12, 6, 13, 48, 25, tzinfo=datetime.timezone.utc), 'seconds_since_last_edit': 55684955, 'version': 2, 'tags': {'highway': 'residential', 'created_by': 'YahooApplet 1.0', 'name': 'Libby Drive'}, 'geometry': {'coordinates': [[-105.2664213, 40.0073062], [-105.2663324, 40.0076033], [-105.2663415, 40.0077414], [-105.2664213, 40.0082102]], 'type': 'LineString'}, 'user': 'Edward'}, {'uid': 1679, 'created_at': datetime.datetime(2009, 7, 23, 19, 34, 21, tzinfo=datetime.timezone.utc), 'seconds_since_last_edit': 19806356, 'version': 3, 'tags': {'highway': 'residential', 'created_by': 'YahooApplet 1.0', 'name': 'Libby Drive'}, 'geometry': {'coordinates': [[-105.2664213, 40.0073062], [-105.2663324, 40.0076033], [-105.2663415, 40.0077414], [-105.2663333, 40.0082418]], 'type': 'LineString'}, 'user': 'andrewpmk'}, {'uid': 62467, 'created_at': datetime.datetime(2009, 12, 15, 22, 12, 2, tzinfo=datetime.timezone.utc), 'seconds_since_last_edit': 12537461, 'version': 4, 'tags': {'highway': 'residential', 'name': 'Libby Drive'}, 'deleted_tags': {'created_by': 'YahooApplet 1.0'}, 'geometry': {'coordinates': [[-105.265587, 40.007253], [-105.2664213, 40.0073062], [-105.2663324, 40.0076033], [-105.2663415, 40.0077414], [-105.2663333, 40.0082418]], 'type': 'LineString'}, 'user': 'Chris Riddoch'}, {'uid': 62467, 'created_at': datetime.datetime(2009, 12, 16, 23, 54, 43, tzinfo=datetime.timezone.utc), 'seconds_since_last_edit': 92561, 'version': 5, 'tags': {'highway': 'residential', 'name': 'Libby Drive'}, 'geometry': {'coordinates': [[-105.265587, 40.007253], [-105.2664213, 40.0073062], [-105.2663324, 40.0076033], [-105.2663415, 40.0077414], [-105.2663371, 40.008146], [-105.2663333, 40.0082418]], 'type': 'LineString'}, 'user': 'Chris Riddoch'}, {'new_tags': {'maxspeed': '10 mph'}, 'uid': 1209932, 'created_at': datetime.datetime(2013, 2, 6, 17, 8, 14, tzinfo=datetime.timezone.utc), 'seconds_since_last_edit': 99162811, 'version': 6, 'tags': {'highway': 'residential', 'maxspeed': '10 mph', 'name': 'Libby Drive'}, 'geometry': {'coordinates': [[-105.265587, 40.007253], [-105.2664213, 40.0073062], [-105.2663324, 40.0076033], [-105.2663415, 40.0077414], [-105.2663371, 40.008146], [-105.2663333, 40.0082418]], 'type': 'LineString'}, 'user': 'oddityoverseer'}, {'uid': 1209932, 'created_at': datetime.datetime(2013, 3, 13, 17, 18, 38, tzinfo=datetime.timezone.utc), 'seconds_since_last_edit': 3024624, 'version': 7, 'tags': {'highway': 'residential', 'maxspeed': '10 mph'}, 'deleted_tags': {'name': 'Libby Drive'}, 'geometry': {'coordinates': [[-105.264977, 40.007337], [-105.2653395, 40.0073367], [-105.265587, 40.007253], [-105.2664213, 40.0073062], [-105.2663324, 40.0076033], [-105.2663415, 40.0077414], [-105.2663371, 40.008146], [-105.2663333, 40.0082418]], 'type': 'LineString'}, 'user': 'oddityoverseer'}, {'new_tags': {'@version': 8, '@created_at': datetime.datetime(2016, 3, 1, 1, 58, 30, tzinfo=datetime.timezone.utc), '@uid': 1778953, 'object_history': [...], '@user': 'mattchn', '@id': 4325623}, 'changed_tags': {'highway': ('residential', 'service')}, 'uid': 1778953, 'created_at': datetime.datetime(2016, 3, 1, 1, 58, 30, tzinfo=datetime.timezone.utc), 'seconds_since_last_edit': 93602392, 'version': 8, 'tags': {...}, 'geometry': {'coordinates': [[-105.264977, 40.007337], [-105.2653395, 40.0073367], [-105.265587, 40.007253], [-105.2664213, 40.0073062], [-105.2663324, 40.0076033], [-105.2663415, 40.0077414], [-105.2663371, 40.008146], [-105.2663333, 40.0082418]], 'type': 'LineString'}, 'user': 'mattchn'}], '@user': 'mattchn'}, 'geometry': {'coordinates': [[-105.264977, 40.007337], [-105.2653395, 40.0073367], [-105.265587, 40.007253], [-105.2664213, 40.0073062], [-105.2663324, 40.0076033], [-105.2663415, 40.0077414], [-105.2663371, 40.008146], [-105.2663333, 40.0082418]], 'type': 'LineString'}, 'type': 'Feature'}\n",
      "{'properties': {'highway': 'residential', 'created_by': 'YahooApplet 1.0', '@user': 'baunix', 'name': 'Kittridge Loop Road', '@created_at': datetime.datetime(2009, 5, 2, 21, 55, 20, tzinfo=datetime.timezone.utc), '@id': 4325624, '@version': 2, 'object_history': [{'new_tags': {'highway': 'residential', 'created_by': 'YahooApplet 1.0', 'name': 'Kittridge Loop Road'}, 'uid': 5879, 'created_at': datetime.datetime(2007, 3, 3, 1, 47, 56, tzinfo=datetime.timezone.utc), 'version': 1, 'tags': {'highway': 'residential', 'created_by': 'YahooApplet 1.0', 'name': 'Kittridge Loop Road'}, 'geometry': {'coordinates': [[-105.2648978, 40.0038217], [-105.2648549, 40.0032629], [-105.2648978, 40.0027698], [-105.2648764, 40.0023917], [-105.2645974, 40.0020794], [-105.2643399, 40.0015535], [-105.2626019, 40.0015699], [-105.2616148, 40.0016028], [-105.2611642, 40.0016192], [-105.2607565, 40.0017507], [-105.2604561, 40.0019479], [-105.2602844, 40.0021781], [-105.2601986, 40.0025068], [-105.2601771, 40.0028191], [-105.2601986, 40.0031972], [-105.2603703, 40.0035259], [-105.260735, 40.0036903], [-105.2610998, 40.0038217], [-105.2615075, 40.0037724], [-105.2628808, 40.0032793], [-105.2639322, 40.0032793], [-105.2648549, 40.0032629]], 'type': 'LineString'}, 'user': 'erinn'}, {'new_tags': {'@version': 2, '@created_at': datetime.datetime(2009, 5, 2, 21, 55, 20, tzinfo=datetime.timezone.utc), '@uid': 76352, 'object_history': [...], '@user': 'baunix', '@id': 4325624}, 'uid': 76352, 'created_at': datetime.datetime(2009, 5, 2, 21, 55, 20, tzinfo=datetime.timezone.utc), 'seconds_since_last_edit': 68414844, 'version': 2, 'tags': {...}, 'geometry': {'coordinates': [[-105.2648978, 40.0038217], [-105.2648549, 40.0032629], [-105.2648978, 40.0027698], [-105.2648764, 40.0023917], [-105.2645974, 40.0020794], [-105.2643399, 40.0015535], [-105.2626019, 40.0015699], [-105.2616148, 40.0016028], [-105.2614598, 40.0016084], [-105.2611642, 40.0016192], [-105.2607565, 40.0017507], [-105.2604561, 40.0019479], [-105.2602844, 40.0021781], [-105.2601986, 40.0025068], [-105.2601771, 40.0028191], [-105.2601986, 40.0031972], [-105.2603703, 40.0035259], [-105.260735, 40.0036903], [-105.2610998, 40.0038217], [-105.2615075, 40.0037724], [-105.2628808, 40.0032793], [-105.2639322, 40.0032793], [-105.2648549, 40.0032629]], 'type': 'LineString'}, 'user': 'baunix'}], '@uid': 76352}, 'geometry': {'coordinates': [[-105.2648978, 40.0038217], [-105.2648549, 40.0032629], [-105.2648978, 40.0027698], [-105.2648764, 40.0023917], [-105.2645974, 40.0020794], [-105.2643399, 40.0015535], [-105.2626019, 40.0015699], [-105.2616148, 40.0016028], [-105.2614598, 40.0016084], [-105.2611642, 40.0016192], [-105.2607565, 40.0017507], [-105.2604561, 40.0019479], [-105.2602844, 40.0021781], [-105.2601986, 40.0025068], [-105.2601771, 40.0028191], [-105.2601986, 40.0031972], [-105.2603703, 40.0035259], [-105.260735, 40.0036903], [-105.2610998, 40.0038217], [-105.2615075, 40.0037724], [-105.2628808, 40.0032793], [-105.2639322, 40.0032793], [-105.2648549, 40.0032629]], 'type': 'LineString'}, 'type': 'Feature'}\n",
      "{'properties': {'highway': 'steps', '@uid': 1946167, '@created_at': datetime.datetime(2014, 3, 6, 3, 26, 2, tzinfo=datetime.timezone.utc), '@id': 264700153, '@version': 1, '@user': 'Willie Payne'}, 'geometry': {'coordinates': [[-105.2625864, 40.0035577], [-105.2625864, 40.0036563], [-105.2625864, 40.0036789]], 'type': 'LineString'}, 'type': 'Feature'}\n",
      "{'properties': {'highway': 'footway', '@uid': 1778953, '@created_at': datetime.datetime(2015, 10, 31, 3, 51, 19, tzinfo=datetime.timezone.utc), '@id': 264700155, '@version': 2, 'object_history': [{'new_tags': {'highway': 'footway'}, 'uid': 1946167, 'created_at': datetime.datetime(2014, 3, 6, 3, 26, 2, tzinfo=datetime.timezone.utc), 'version': 1, 'tags': {'highway': 'footway'}, 'geometry': {'coordinates': [[-105.2625864, 40.0036563], [-105.2625864, 40.0036789], [-105.2626025, 40.0037806]], 'type': 'LineString'}, 'user': 'Willie Payne'}, {'new_tags': {'@version': 2, '@created_at': datetime.datetime(2015, 10, 31, 3, 51, 19, tzinfo=datetime.timezone.utc), '@uid': 1778953, 'object_history': [...], '@user': 'mattchn', '@id': 264700155}, 'uid': 1778953, 'created_at': datetime.datetime(2015, 10, 31, 3, 51, 19, tzinfo=datetime.timezone.utc), 'seconds_since_last_edit': 52187117, 'version': 2, 'tags': {...}, 'geometry': {'coordinates': [[-105.2625864, 40.0036789], [-105.2626025, 40.0037806]], 'type': 'LineString'}, 'user': 'mattchn'}], '@user': 'mattchn'}, 'geometry': {'coordinates': [[-105.2625864, 40.0036789], [-105.2626025, 40.0037806]], 'type': 'LineString'}, 'type': 'Feature'}\n",
      "{'properties': {'highway': 'footway', '@uid': 1209932, '@created_at': datetime.datetime(2013, 3, 30, 3, 58, 38, tzinfo=datetime.timezone.utc), '@id': 214006623, '@version': 1, '@user': 'oddityoverseer'}, 'geometry': {'coordinates': [[-105.2680809, 40.0133261], [-105.2679321, 40.0133267], [-105.2679292, 40.0131562]], 'type': 'LineString'}, 'type': 'Feature'}\n",
      "{'properties': {'highway': 'service', '@uid': 117055, '@created_at': datetime.datetime(2013, 1, 14, 5, 25, 13, tzinfo=datetime.timezone.utc), '@id': 201064715, '@version': 1, 'service': 'alley', '@user': 'GPS_dr'}, 'geometry': {'coordinates': [[-105.2856508, 40.0237863], [-105.2837367, 40.0237863]], 'type': 'LineString'}, 'type': 'Feature'}\n",
      "{'properties': {'highway': 'service', '@uid': 117055, '@created_at': datetime.datetime(2013, 1, 14, 5, 25, 13, tzinfo=datetime.timezone.utc), '@id': 201064716, '@version': 1, 'service': 'alley', '@user': 'GPS_dr'}, 'geometry': {'coordinates': [[-105.2827365, 40.023278], [-105.2827499, 40.0244569], [-105.2827576, 40.0254188]], 'type': 'LineString'}, 'type': 'Feature'}\n",
      "{'properties': {'@version': 1, '@uid': 1209932, '@created_at': datetime.datetime(2014, 6, 27, 5, 6, 25, tzinfo=datetime.timezone.utc), 'building': 'house', '@id': 289969206, '@user': 'oddityoverseer'}, 'geometry': {'coordinates': [[-105.2427308, 40.002537], [-105.2426718, 40.0025367], [-105.2426715, 40.0025695], [-105.24259, 40.002569], [-105.2425912, 40.002449], [-105.2427317, 40.0024498], [-105.2427308, 40.002537]], 'type': 'LineString'}, 'type': 'Feature'}\n",
      "{'properties': {'@user': '42429', 'tiger:cfcc': 'A41', 'tiger:source': 'tiger_import_dch_v0.6_20070809', 'tiger:county': 'Boulder, CO', '@created_at': datetime.datetime(2011, 10, 20, 20, 14, 28, tzinfo=datetime.timezone.utc), 'tiger:name_type': 'Ave', 'tiger:zip_left': '80302', '@uid': 42429, 'tiger:name_base': 'Euclid', 'highway': 'residential', '@version': 1, 'tiger:reviewed': 'no', 'name': 'Euclid Avenue', 'tiger:separated': 'no', 'tiger:tlid': '220749671', '@id': 134064857, 'tiger:zip_right': '80302'}, 'geometry': {'coordinates': [[-105.272252, 40.00586], [-105.2722144, 40.0058382]], 'type': 'LineString'}, 'type': 'Feature'}\n",
      "{'properties': {'@version': 2, '@uid': 223093, '@created_at': datetime.datetime(2013, 1, 13, 11, 42, 55, tzinfo=datetime.timezone.utc), 'building': 'yes', '@id': 200802351, 'object_history': [{'new_tags': {'building': 'yes'}, 'uid': 223093, 'created_at': datetime.datetime(2013, 1, 12, 18, 49, 54, tzinfo=datetime.timezone.utc), 'version': 1, 'tags': {'building': 'yes'}, 'geometry': {'coordinates': [[-105.2764634, 40.0075963], [-105.2764634, 40.0076104], [-105.2763615, 40.0076104], [-105.2763618, 40.0074165], [-105.2764637, 40.0074166], [-105.2764636, 40.0074747], [-105.2765723, 40.0074748], [-105.2765723, 40.0074538], [-105.2766313, 40.0074538], [-105.2766313, 40.0074748], [-105.2766323, 40.0074748], [-105.2766321, 40.0075964], [-105.2764634, 40.0075963]], 'type': 'LineString'}, 'user': 'geow'}, {'new_tags': {'@version': 2, '@created_at': datetime.datetime(2013, 1, 13, 11, 42, 55, tzinfo=datetime.timezone.utc), '@uid': 223093, 'object_history': [...], '@user': 'geow', '@id': 200802351}, 'uid': 223093, 'created_at': datetime.datetime(2013, 1, 13, 11, 42, 55, tzinfo=datetime.timezone.utc), 'seconds_since_last_edit': 60781, 'version': 2, 'tags': {...}, 'geometry': {'coordinates': [[-105.2764634, 40.0075963], [-105.2764634, 40.0076104], [-105.2763615, 40.0076104], [-105.2763618, 40.0074165], [-105.2764637, 40.0074166], [-105.2764636, 40.0074747], [-105.2765723, 40.0074748], [-105.2765723, 40.0074538], [-105.2766313, 40.0074538], [-105.2766321, 40.0075964], [-105.2764634, 40.0075963]], 'type': 'LineString'}, 'user': 'geow'}], '@user': 'geow'}, 'geometry': {'coordinates': [[-105.2764634, 40.0075963], [-105.2764634, 40.0076104], [-105.2763615, 40.0076104], [-105.2763618, 40.0074165], [-105.2764637, 40.0074166], [-105.2764636, 40.0074747], [-105.2765723, 40.0074748], [-105.2765723, 40.0074538], [-105.2766313, 40.0074538], [-105.2766321, 40.0075964], [-105.2764634, 40.0075963]], 'type': 'LineString'}, 'type': 'Feature'}\n",
      "{'properties': {'@version': 1, '@uid': 223093, '@created_at': datetime.datetime(2013, 1, 12, 18, 49, 54, tzinfo=datetime.timezone.utc), 'building': 'yes', '@id': 200802352, '@user': 'geow'}, 'geometry': {'coordinates': [[-105.2757757, 40.0079438], [-105.2756511, 40.0079443], [-105.275651, 40.0079341], [-105.2756263, 40.0079342], [-105.2756264, 40.0079444], [-105.2756245, 40.0079444], [-105.2756246, 40.0079547], [-105.2755127, 40.0079551], [-105.2755126, 40.0079444], [-105.2754823, 40.0079445], [-105.2754818, 40.0078704], [-105.275454, 40.0078705], [-105.2754537, 40.007832], [-105.2754905, 40.0078318], [-105.2754906, 40.00784], [-105.2756263, 40.0078395], [-105.2756265, 40.0078668], [-105.2756504, 40.0078667], [-105.2756503, 40.0078429], [-105.2757751, 40.0078424], [-105.2757757, 40.0079438]], 'type': 'LineString'}, 'type': 'Feature'}\n",
      "{'properties': {'@version': 1, 'addr:street': '28th Street', '@uid': 369357, 'addr:city': 'Boulder', 'addr:postcode': '80301', '@created_at': datetime.datetime(2012, 12, 25, 21, 22, 9, tzinfo=datetime.timezone.utc), 'building': 'retail', '@id': 198082854, 'addr:state': 'CO', 'addr:country': 'US', '@user': 'Berjoh'}, 'geometry': {'coordinates': [[-105.2578614, 40.0286086], [-105.2579097, 40.0285737], [-105.2579017, 40.0282964], [-105.2574403, 40.0282944], [-105.2574322, 40.0285532], [-105.257384, 40.0285696], [-105.2573919, 40.0286046], [-105.2578614, 40.0286086]], 'type': 'LineString'}, 'type': 'Feature'}\n",
      "{'properties': {'@version': 1, '@uid': 510836, '@created_at': datetime.datetime(2013, 10, 22, 19, 47, 56, tzinfo=datetime.timezone.utc), 'building': 'yes', '@id': 243093970, '@user': 'Rub21'}, 'geometry': {'coordinates': [[-105.2655501, 40.0223807], [-105.265422, 40.0224092], [-105.265366, 40.0222611], [-105.2654941, 40.0222326], [-105.2655501, 40.0223807]], 'type': 'LineString'}, 'type': 'Feature'}\n",
      "{'properties': {'@version': 1, 'amenity': 'parking', '@uid': 13817, 'name': 'Lot 145', '@created_at': datetime.datetime(2016, 9, 18, 19, 43, 47, tzinfo=datetime.timezone.utc), '@id': 443089205, 'access': 'private', '@user': 'kakrueger'}, 'geometry': {'coordinates': [[-105.2698719, 40.0127076], [-105.2698721, 40.012624], [-105.2692046, 40.0126234], [-105.2692045, 40.0127069], [-105.2698719, 40.0127076]], 'type': 'LineString'}, 'type': 'Feature'}\n",
      "{'properties': {'@version': 1, 'amenity': 'parking', '@uid': 13817, 'name': 'Lot 146', '@created_at': datetime.datetime(2016, 9, 18, 19, 43, 47, tzinfo=datetime.timezone.utc), '@id': 443089206, 'access': 'private', '@user': 'kakrueger'}, 'geometry': {'coordinates': [[-105.2698805, 40.0126221], [-105.2698799, 40.0125455], [-105.2689789, 40.0125498], [-105.2689795, 40.0126263], [-105.269063, 40.0126259], [-105.2698805, 40.0126221]], 'type': 'LineString'}, 'type': 'Feature'}\n",
      "{'properties': {'@version': 1, '@uid': 1209932, '@created_at': datetime.datetime(2014, 7, 14, 23, 11, 43, tzinfo=datetime.timezone.utc), 'building': 'yes', '@id': 292809979, '@user': 'oddityoverseer'}, 'geometry': {'coordinates': [[-105.2506741, 39.9913797], [-105.2505831, 39.9913792], [-105.2505845, 39.9912279], [-105.2506755, 39.9912284], [-105.2506741, 39.9913797]], 'type': 'LineString'}, 'type': 'Feature'}\n",
      "{'properties': {'highway': 'primary_link', 'bus': 'yes', '@uid': 1778953, '@created_at': datetime.datetime(2015, 10, 1, 3, 27, 22, tzinfo=datetime.timezone.utc), 'object_history': [{'new_tags': {'highway': 'primary_link', 'oneway': 'yes'}, 'uid': 207745, 'created_at': datetime.datetime(2012, 10, 19, 1, 30, 29, tzinfo=datetime.timezone.utc), 'version': 1, 'tags': {'highway': 'primary_link', 'oneway': 'yes'}, 'geometry': {'coordinates': [[-105.258343, 40.013491], [-105.2584016, 40.0135541], [-105.258432, 40.0136189], [-105.2584293, 40.0137659]], 'type': 'LineString'}, 'user': 'NE2'}, {'new_tags': {'bus': 'yes', '@version': 2, '@created_at': datetime.datetime(2015, 10, 1, 3, 27, 22, tzinfo=datetime.timezone.utc), '@uid': 1778953, 'object_history': [...], 'access': 'no', '@user': 'mattchn', '@id': 186581304}, 'uid': 1778953, 'created_at': datetime.datetime(2015, 10, 1, 3, 27, 22, tzinfo=datetime.timezone.utc), 'seconds_since_last_edit': 93059813, 'version': 2, 'tags': {...}, 'geometry': {'coordinates': [[-105.258343, 40.013491], [-105.2584016, 40.0135541], [-105.258432, 40.0136189], [-105.2584293, 40.0137659]], 'type': 'LineString'}, 'user': 'mattchn'}], '@id': 186581304, '@version': 2, 'access': 'no', '@user': 'mattchn', 'oneway': 'yes'}, 'geometry': {'coordinates': [[-105.258343, 40.013491], [-105.2584016, 40.0135541], [-105.258432, 40.0136189], [-105.2584293, 40.0137659]], 'type': 'LineString'}, 'type': 'Feature'}\n",
      "{'properties': {'highway': 'footway', '@uid': 1778953, 'bicycle': 'yes', '@created_at': datetime.datetime(2016, 1, 9, 5, 57, 24, tzinfo=datetime.timezone.utc), '@id': 186581306, '@version': 4, 'object_history': [{'new_tags': {'highway': 'footway', 'bicycle': 'yes'}, 'uid': 207745, 'created_at': datetime.datetime(2012, 10, 19, 1, 30, 30, tzinfo=datetime.timezone.utc), 'version': 1, 'tags': {'highway': 'footway', 'bicycle': 'yes'}, 'geometry': {'coordinates': [[-105.2582234, 40.0144633], [-105.2583231, 40.014467], [-105.2585264, 40.0144872], [-105.258663, 40.014506], [-105.2587816, 40.0144397]], 'type': 'LineString'}, 'user': 'NE2'}, {'uid': 1209932, 'created_at': datetime.datetime(2013, 4, 2, 17, 49, 45, tzinfo=datetime.timezone.utc), 'seconds_since_last_edit': 14314755, 'version': 2, 'tags': {'highway': 'footway', 'bicycle': 'yes'}, 'geometry': {'coordinates': [[-105.2582234, 40.0144633], [-105.2583231, 40.014467], [-105.2585264, 40.0144872], [-105.258663, 40.014506], [-105.2587471, 40.0143853]], 'type': 'LineString'}, 'user': 'oddityoverseer'}, {'uid': 227972, 'created_at': datetime.datetime(2015, 7, 27, 21, 16, 9, tzinfo=datetime.timezone.utc), 'seconds_since_last_edit': 73106784, 'version': 3, 'tags': {'highway': 'footway', 'bicycle': 'yes'}, 'geometry': {'coordinates': [[-105.2582234, 40.0144633], [-105.2583231, 40.014467], [-105.2585264, 40.0144872], [-105.258663, 40.014506], [-105.2587092, 40.0144579], [-105.2587471, 40.0143853]], 'type': 'LineString'}, 'user': 'Your Village Maps'}, {'new_tags': {'@version': 4, '@created_at': datetime.datetime(2016, 1, 9, 5, 57, 24, tzinfo=datetime.timezone.utc), '@uid': 1778953, 'object_history': [...], '@user': 'mattchn', '@id': 186581306}, 'uid': 1778953, 'created_at': datetime.datetime(2016, 1, 9, 5, 57, 24, tzinfo=datetime.timezone.utc), 'seconds_since_last_edit': 14287275, 'version': 4, 'tags': {...}, 'geometry': {'coordinates': [[-105.2561695, 40.0144971], [-105.2565951, 40.0144992], [-105.2567061, 40.0144805], [-105.2571956, 40.0144771], [-105.257455, 40.0144771], [-105.257535, 40.0144924], [-105.2576951, 40.0144799], [-105.2581639, 40.0144754], [-105.2582234, 40.0144633]], 'type': 'LineString'}, 'user': 'mattchn'}], '@user': 'mattchn'}, 'geometry': {'coordinates': [[-105.2561695, 40.0144971], [-105.2565951, 40.0144992], [-105.2567061, 40.0144805], [-105.2571956, 40.0144771], [-105.257455, 40.0144771], [-105.257535, 40.0144924], [-105.2576951, 40.0144799], [-105.2581639, 40.0144754], [-105.2582234, 40.0144633]], 'type': 'LineString'}, 'type': 'Feature'}\n",
      "{'properties': {'@version': 1, '@uid': 1073158, '@created_at': datetime.datetime(2013, 1, 6, 23, 9, 26, tzinfo=datetime.timezone.utc), 'building': 'residential', '@id': 199912159, '@user': 'bobmc'}, 'geometry': {'coordinates': [[-105.2346948, 39.9914154], [-105.2347731, 39.9914708], [-105.2346717, 39.991556], [-105.2346855, 39.9915658], [-105.2346214, 39.9916193], [-105.2345289, 39.9915538], [-105.2345834, 39.9915082], [-105.2345621, 39.9914932], [-105.2346309, 39.9914354], [-105.2346527, 39.9914507], [-105.2346948, 39.9914154]], 'type': 'LineString'}, 'type': 'Feature'}\n",
      "{'properties': {'highway': 'tertiary', 'tiger:cfcc': 'A63', '@uid': 207745, 'tiger:county': 'Boulder, CO', '@created_at': datetime.datetime(2012, 10, 19, 1, 30, 30, tzinfo=datetime.timezone.utc), '@id': 186581309, '@version': 1, 'oneway': 'yes', '@user': 'NE2'}, 'geometry': {'coordinates': [[-105.2572897, 40.0006061], [-105.2573498, 40.0006522], [-105.2574099, 40.0007048], [-105.2575129, 40.0007837], [-105.2576502, 40.0009217], [-105.2577181, 40.0009873], [-105.25783, 40.001192]], 'type': 'LineString'}, 'type': 'Feature'}\n",
      "{'properties': {'highway': 'trunk_link', '@id': 186581310, '@user': 'mattchn', '@created_at': datetime.datetime(2016, 2, 14, 3, 31, 36, tzinfo=datetime.timezone.utc), 'object_history': [{'new_tags': {'highway': 'tertiary_link', 'oneway': 'yes'}, 'uid': 207745, 'created_at': datetime.datetime(2012, 10, 19, 1, 30, 31, tzinfo=datetime.timezone.utc), 'version': 1, 'tags': {'highway': 'tertiary_link', 'oneway': 'yes'}, 'geometry': {'coordinates': [[-105.2321947, 40.000151], [-105.232517, 40.0002257], [-105.2325771, 40.0002388], [-105.2326458, 40.0002651], [-105.2326973, 40.0002914], [-105.2327574, 40.0003309], [-105.23318, 40.000781]], 'type': 'LineString'}, 'user': 'NE2'}, {'changed_tags': {'highway': ('tertiary_link', 'trunk_link')}, 'uid': 227972, 'created_at': datetime.datetime(2015, 7, 28, 21, 54, 48, tzinfo=datetime.timezone.utc), 'seconds_since_last_edit': 87510257, 'version': 2, 'tags': {'highway': 'trunk_link', 'oneway': 'yes'}, 'geometry': {'coordinates': [[-105.2321947, 40.000151], [-105.232517, 40.0002257], [-105.2325771, 40.0002388], [-105.2326458, 40.0002651], [-105.2326973, 40.0002914], [-105.2327574, 40.0003309], [-105.23318, 40.000781]], 'type': 'LineString'}, 'user': 'Your Village Maps'}, {'new_tags': {'@version': 3, '@id': 186581310, '@created_at': datetime.datetime(2016, 2, 14, 3, 31, 36, tzinfo=datetime.timezone.utc), '@uid': 1778953, 'object_history': [...], '@user': 'mattchn', 'lanes': '1'}, 'uid': 1778953, 'created_at': datetime.datetime(2016, 2, 14, 3, 31, 36, tzinfo=datetime.timezone.utc), 'seconds_since_last_edit': 17300208, 'version': 3, 'tags': {...}, 'geometry': {'coordinates': [[-105.2321947, 40.000151], [-105.232517, 40.0002257], [-105.2325771, 40.0002388], [-105.2326458, 40.0002651], [-105.2326973, 40.0002914], [-105.2327574, 40.0003309], [-105.23318, 40.000781]], 'type': 'LineString'}, 'user': 'mattchn'}], 'lanes': '1', '@version': 3, 'oneway': 'yes', '@uid': 1778953}, 'geometry': {'coordinates': [[-105.2321947, 40.000151], [-105.232517, 40.0002257], [-105.2325771, 40.0002388], [-105.2326458, 40.0002651], [-105.2326973, 40.0002914], [-105.2327574, 40.0003309], [-105.23318, 40.000781]], 'type': 'LineString'}, 'type': 'Feature'}\n",
      "{'properties': {'highway': 'trunk_link', 'tiger:cfcc': 'A63', '@uid': 227972, 'tiger:county': 'Boulder, CO', '@user': 'Your Village Maps', '@created_at': datetime.datetime(2015, 7, 28, 22, 45, 57, tzinfo=datetime.timezone.utc), 'object_history': [{'new_tags': {'highway': 'tertiary_link', 'tiger:cfcc': 'A63', 'oneway': 'yes', 'tiger:reviewed': 'no', 'tiger:county': 'Boulder, CO'}, 'uid': 207745, 'created_at': datetime.datetime(2012, 10, 19, 1, 30, 31, tzinfo=datetime.timezone.utc), 'version': 1, 'tags': {'highway': 'tertiary_link', 'tiger:cfcc': 'A63', 'oneway': 'yes', 'tiger:reviewed': 'no', 'tiger:county': 'Boulder, CO'}, 'geometry': {'coordinates': [[-105.2333277, 40.0006684], [-105.233238, 40.0004624], [-105.233228, 40.000382], [-105.233262, 40.000317], [-105.23336, 40.000235], [-105.233444, 40.0001994], [-105.2335384, 40.0001797], [-105.2337873, 40.0001589]], 'type': 'LineString'}, 'user': 'NE2'}, {'changed_tags': {'highway': ('tertiary_link', 'secondary_link')}, 'uid': 207745, 'created_at': datetime.datetime(2012, 10, 19, 1, 33, 7, tzinfo=datetime.timezone.utc), 'seconds_since_last_edit': 156, 'version': 2, 'tags': {'highway': 'secondary_link', 'tiger:cfcc': 'A63', 'oneway': 'yes', 'tiger:reviewed': 'no', 'tiger:county': 'Boulder, CO'}, 'geometry': {'coordinates': [[-105.2333277, 40.0006684], [-105.233238, 40.0004624], [-105.233228, 40.000382], [-105.233262, 40.000317], [-105.23336, 40.000235], [-105.233444, 40.0001994], [-105.2335384, 40.0001797], [-105.2337873, 40.0001589]], 'type': 'LineString'}, 'user': 'NE2'}, {'changed_tags': {'highway': ('secondary_link', 'trunk_link')}, 'uid': 227972, 'created_at': datetime.datetime(2015, 7, 28, 21, 54, 49, tzinfo=datetime.timezone.utc), 'seconds_since_last_edit': 87510102, 'version': 3, 'tags': {'highway': 'trunk_link', 'tiger:cfcc': 'A63', 'oneway': 'yes', 'tiger:reviewed': 'no', 'tiger:county': 'Boulder, CO'}, 'geometry': {'coordinates': [[-105.2333277, 40.0006684], [-105.233238, 40.0004624], [-105.233228, 40.000382], [-105.233262, 40.000317], [-105.23336, 40.000235], [-105.233444, 40.0001994], [-105.2335384, 40.0001797], [-105.2337873, 40.0001589]], 'type': 'LineString'}, 'user': 'Your Village Maps'}, {'new_tags': {'@version': 4, '@created_at': datetime.datetime(2015, 7, 28, 22, 45, 57, tzinfo=datetime.timezone.utc), '@uid': 227972, 'object_history': [...], '@user': 'Your Village Maps', '@id': 186581311}, 'uid': 227972, 'created_at': datetime.datetime(2015, 7, 28, 22, 45, 57, tzinfo=datetime.timezone.utc), 'seconds_since_last_edit': 3068, 'version': 4, 'tags': {...}, 'geometry': {'coordinates': [[-105.2333277, 40.0006684], [-105.2333146, 40.0005741], [-105.233238, 40.0004624], [-105.233228, 40.000382], [-105.233262, 40.000317], [-105.23336, 40.000235], [-105.233444, 40.0001994], [-105.2335384, 40.0001797], [-105.233614, 40.0001941], [-105.2337873, 40.0001589]], 'type': 'LineString'}, 'user': 'Your Village Maps'}], '@id': 186581311, '@version': 4, 'oneway': 'yes', 'tiger:reviewed': 'no'}, 'geometry': {'coordinates': [[-105.2333277, 40.0006684], [-105.2333146, 40.0005741], [-105.233238, 40.0004624], [-105.233228, 40.000382], [-105.233262, 40.000317], [-105.23336, 40.000235], [-105.233444, 40.0001994], [-105.2335384, 40.0001797], [-105.233614, 40.0001941], [-105.2337873, 40.0001589]], 'type': 'LineString'}, 'type': 'Feature'}\n",
      "{'properties': {'tiger:cfcc': 'A63', 'lanes': '1', 'tiger:county': 'Boulder, CO', '@uid': 1778953, 'object_history': [{'new_tags': {'highway': 'secondary_link', 'tiger:cfcc': 'A63', 'oneway': 'yes', 'tiger:reviewed': 'yes', 'tiger:county': 'Boulder, CO'}, 'uid': 207745, 'created_at': datetime.datetime(2012, 10, 19, 1, 30, 31, tzinfo=datetime.timezone.utc), 'version': 1, 'tags': {'highway': 'secondary_link', 'tiger:cfcc': 'A63', 'oneway': 'yes', 'tiger:reviewed': 'yes', 'tiger:county': 'Boulder, CO'}, 'geometry': {'coordinates': [[-105.2601502, 39.9998626], [-105.2600706, 40.0000144], [-105.2600449, 40.0000867], [-105.2600106, 40.0001459], [-105.259949, 40.000199], [-105.2598904, 40.0002445], [-105.2598217, 40.0002774], [-105.259495, 40.000313]], 'type': 'LineString'}, 'user': 'NE2'}, {'uid': 227972, 'created_at': datetime.datetime(2012, 12, 3, 0, 9, 28, tzinfo=datetime.timezone.utc), 'seconds_since_last_edit': 3883137, 'version': 2, 'tags': {'highway': 'secondary_link', 'tiger:cfcc': 'A63', 'oneway': 'yes', 'tiger:reviewed': 'yes', 'tiger:county': 'Boulder, CO'}, 'geometry': {'coordinates': [[-105.260658, 40.00031], [-105.2605302, 40.0002844], [-105.2604444, 40.0002577], [-105.2603585, 40.0002043], [-105.2602969, 40.0001529], [-105.2602539, 40.0000892], [-105.2602028, 39.9999931], [-105.2601502, 39.9998626]], 'type': 'LineString'}, 'user': 'Your Village Maps'}, {'uid': 2512300, 'created_at': datetime.datetime(2015, 5, 18, 19, 46, 28, tzinfo=datetime.timezone.utc), 'seconds_since_last_edit': 77485020, 'version': 3, 'tags': {'highway': 'secondary_link', 'tiger:cfcc': 'A63', 'oneway': 'yes', 'tiger:reviewed': 'yes', 'tiger:county': 'Boulder, CO'}, 'geometry': {'coordinates': [[-105.260658, 40.00031], [-105.2605302, 40.0002844], [-105.2604444, 40.0002577], [-105.2603585, 40.0002043], [-105.2603318, 40.000182], [-105.2602969, 40.0001529], [-105.2602539, 40.0000892], [-105.2602028, 39.9999931]], 'type': 'LineString'}, 'user': 'samely'}, {'new_tags': {'@version': 4, '@id': 186581312, '@created_at': datetime.datetime(2016, 2, 6, 3, 39, 20, tzinfo=datetime.timezone.utc), '@uid': 1778953, 'object_history': [...], '@user': 'mattchn', 'lanes': '1'}, 'uid': 1778953, 'created_at': datetime.datetime(2016, 2, 6, 3, 39, 20, tzinfo=datetime.timezone.utc), 'seconds_since_last_edit': 22751572, 'version': 4, 'tags': {...}, 'geometry': {'coordinates': [[-105.260658, 40.00031], [-105.2605302, 40.0002844], [-105.2604444, 40.0002577], [-105.2603585, 40.0002043], [-105.2603318, 40.000182], [-105.2602969, 40.0001529], [-105.2602539, 40.0000892], [-105.2602028, 39.9999931]], 'type': 'LineString'}, 'user': 'mattchn'}], '@user': 'mattchn', 'highway': 'secondary_link', '@version': 4, 'tiger:reviewed': 'yes', '@created_at': datetime.datetime(2016, 2, 6, 3, 39, 20, tzinfo=datetime.timezone.utc), '@id': 186581312, 'oneway': 'yes'}, 'geometry': {'coordinates': [[-105.260658, 40.00031], [-105.2605302, 40.0002844], [-105.2604444, 40.0002577], [-105.2603585, 40.0002043], [-105.2603318, 40.000182], [-105.2602969, 40.0001529], [-105.2602539, 40.0000892], [-105.2602028, 39.9999931]], 'type': 'LineString'}, 'type': 'Feature'}\n"
     ]
    }
   ],
   "source": [
    "# for w_id, way in ways.items():\n",
    "for way in [ways[w_id] for w_id in first_ten_ways]:\n",
    "    way.process_history()\n",
    "#     way.inspect_changes()\n",
    "    print(way.as_geojson())\n",
    "    \n",
    "# # for w_id, way in ways.items():\n",
    "for node in [nodes[n_id] for n_id in first_ten_nodes]:\n",
    "    node.process_history()\n",
    "#     node.inspect_changes()"
   ]
  },
  {
   "cell_type": "code",
   "execution_count": 174,
   "metadata": {
    "collapsed": true
   },
   "outputs": [],
   "source": [
    "def date_handler(obj):\n",
    "    if hasattr(obj, 'isoformat'):\n",
    "        return obj.isoformat()\n",
    "    else:\n",
    "        return str(obj)"
   ]
  },
  {
   "cell_type": "code",
   "execution_count": 8,
   "metadata": {
    "collapsed": true
   },
   "outputs": [],
   "source": [
    "import numpy as np"
   ]
  },
  {
   "cell_type": "code",
   "execution_count": null,
   "metadata": {
    "collapsed": true
   },
   "outputs": [],
   "source": []
  },
  {
   "cell_type": "code",
   "execution_count": null,
   "metadata": {
    "collapsed": true
   },
   "outputs": [],
   "source": []
  },
  {
   "cell_type": "code",
   "execution_count": null,
   "metadata": {
    "collapsed": true
   },
   "outputs": [],
   "source": []
  },
  {
   "cell_type": "code",
   "execution_count": null,
   "metadata": {
    "collapsed": true
   },
   "outputs": [],
   "source": []
  },
  {
   "cell_type": "code",
   "execution_count": null,
   "metadata": {
    "collapsed": true
   },
   "outputs": [],
   "source": []
  },
  {
   "cell_type": "code",
   "execution_count": 9,
   "metadata": {
    "collapsed": false
   },
   "outputs": [
    {
     "data": {
      "text/plain": [
       "1433017"
      ]
     },
     "execution_count": 9,
     "metadata": {},
     "output_type": "execute_result"
    }
   ],
   "source": [
    "len(np.unique(h.ids))"
   ]
  },
  {
   "cell_type": "code",
   "execution_count": 10,
   "metadata": {
    "collapsed": false
   },
   "outputs": [
    {
     "data": {
      "text/plain": [
       "2764902"
      ]
     },
     "execution_count": 10,
     "metadata": {},
     "output_type": "execute_result"
    }
   ],
   "source": [
    "len(h.ids)"
   ]
  },
  {
   "cell_type": "code",
   "execution_count": 11,
   "metadata": {
    "collapsed": false
   },
   "outputs": [
    {
     "data": {
      "text/plain": [
       "2764902"
      ]
     },
     "execution_count": 11,
     "metadata": {},
     "output_type": "execute_result"
    }
   ],
   "source": [
    "h.cnt"
   ]
  },
  {
   "cell_type": "code",
   "execution_count": null,
   "metadata": {
    "collapsed": true
   },
   "outputs": [],
   "source": []
  },
  {
   "cell_type": "code",
   "execution_count": null,
   "metadata": {
    "collapsed": true
   },
   "outputs": [],
   "source": []
  },
  {
   "cell_type": "markdown",
   "metadata": {},
   "source": [
    "# Can we do stuff with the geometries?"
   ]
  },
  {
   "cell_type": "code",
   "execution_count": 241,
   "metadata": {
    "collapsed": true
   },
   "outputs": [],
   "source": [
    "from shapely.geometry import Point, LineString"
   ]
  },
  {
   "cell_type": "code",
   "execution_count": 242,
   "metadata": {
    "collapsed": true
   },
   "outputs": [],
   "source": [
    "from shapely.geometry import mapping\n",
    "import json"
   ]
  },
  {
   "cell_type": "code",
   "execution_count": 243,
   "metadata": {
    "collapsed": false
   },
   "outputs": [],
   "source": [
    "points = [Point(p.lon, p.lat) for p in h.geometries]"
   ]
  },
  {
   "cell_type": "code",
   "execution_count": 244,
   "metadata": {
    "collapsed": false
   },
   "outputs": [
    {
     "data": {
      "text/plain": [
       "'{\"geometries\": [{\"type\": \"Point\", \"coordinates\": [33.4100813, 45.2611148]}, {\"type\": \"Point\", \"coordinates\": [33.4127985, 45.2647191]}, {\"type\": \"Point\", \"coordinates\": [33.4152544, 45.2676245]}, {\"type\": \"Point\", \"coordinates\": [33.4167175, 45.2692058]}, {\"type\": \"Point\", \"coordinates\": [33.4187554, 45.2708974]}, {\"type\": \"Point\", \"coordinates\": [33.4226744, 45.2743541]}, {\"type\": \"Point\", \"coordinates\": [33.4256529, 45.2770751]}, {\"type\": \"Point\", \"coordinates\": [33.4294674, 45.2806417]}, {\"type\": \"Point\", \"coordinates\": [33.4326026, 45.2833624]}, {\"type\": \"Point\", \"coordinates\": [33.4336477, 45.2846492]}, {\"type\": \"Point\", \"coordinates\": [33.4345883, 45.2861565]}, {\"type\": \"Point\", \"coordinates\": [33.4372009, 45.2902372]}, {\"type\": \"Point\", \"coordinates\": [33.4384028, 45.2920752]}, {\"type\": \"Point\", \"coordinates\": [33.4397091, 45.2936558]}, {\"type\": \"Point\", \"coordinates\": [33.4409109, 45.2949424]}, {\"type\": \"Point\", \"coordinates\": [33.4424263, 45.2962289]}, {\"type\": \"Point\", \"coordinates\": [33.4465543, 45.2997208]}, {\"type\": \"Point\", \"coordinates\": [33.4498986, 45.3025876]}, {\"type\": \"Point\", \"coordinates\": [33.4547582, 45.3066303]}, {\"type\": \"Point\", \"coordinates\": [33.4585204, 45.3100848]}, {\"type\": \"Point\", \"coordinates\": [33.4624394, 45.3138697]}, {\"type\": \"Point\", \"coordinates\": [33.4660972, 45.3173972]}, {\"type\": \"Point\", \"coordinates\": [33.4692847, 45.3205938]}, {\"type\": \"Point\", \"coordinates\": [33.4725766, 45.3237903]}, {\"type\": \"Point\", \"coordinates\": [33.4754506, 45.3265089]}, {\"type\": \"Point\", \"coordinates\": [33.4771227, 45.3281988]}, {\"type\": \"Point\", \"coordinates\": [33.47822, 45.3293376]}, {\"type\": \"Point\", \"coordinates\": [33.4793696, 45.3310642]}, {\"type\": \"Point\", \"coordinates\": [33.4822436, 45.3354355]}, {\"type\": \"Point\", \"coordinates\": [33.4849608, 45.339586]}, {\"type\": \"Point\", \"coordinates\": [33.4875734, 45.3432588]}, {\"type\": \"Point\", \"coordinates\": [33.4900294, 45.3470416]}, {\"type\": \"Point\", \"coordinates\": [33.4927988, 45.351228]}, {\"type\": \"Point\", \"coordinates\": [33.4953592, 45.3551571]}, {\"type\": \"Point\", \"coordinates\": [33.4973971, 45.3583516]}, {\"type\": \"Point\", \"coordinates\": [33.4983899, 45.3596]}, {\"type\": \"Point\", \"coordinates\": [33.499853, 45.3609217]}, {\"type\": \"Point\", \"coordinates\": [33.5041901, 45.3647767]}, {\"type\": \"Point\", \"coordinates\": [33.5084226, 45.3686681]}, {\"type\": \"Point\", \"coordinates\": [33.5122894, 45.3721555]}, {\"type\": \"Point\", \"coordinates\": [33.5166787, 45.3761199]}, {\"type\": \"Point\", \"coordinates\": [33.5205455, 45.3796802]}, {\"type\": \"Point\", \"coordinates\": [33.5226879, 45.381552]}, {\"type\": \"Point\", \"coordinates\": [33.5258754, 45.3849285]}, {\"type\": \"Point\", \"coordinates\": [33.5296899, 45.388892]}, {\"type\": \"Point\", \"coordinates\": [33.5320413, 45.3913873]}, {\"type\": \"Point\", \"coordinates\": [33.5328773, 45.3921946]}, {\"type\": \"Point\", \"coordinates\": [33.5332431, 45.3929652]}, {\"type\": \"Point\", \"coordinates\": [33.5340792, 45.3951668]}, {\"type\": \"Point\", \"coordinates\": [33.4100813, 45.2611148]}, {\"type\": \"Point\", \"coordinates\": [33.4127985, 45.2647191]}, {\"type\": \"Point\", \"coordinates\": [33.4152544, 45.2676245]}, {\"type\": \"Point\", \"coordinates\": [33.4167175, 45.2692058]}, {\"type\": \"Point\", \"coordinates\": [33.4187554, 45.2708974]}, {\"type\": \"Point\", \"coordinates\": [33.4226744, 45.2743541]}, {\"type\": \"Point\", \"coordinates\": [33.4256529, 45.2770751]}, {\"type\": \"Point\", \"coordinates\": [33.4294674, 45.2806417]}, {\"type\": \"Point\", \"coordinates\": [33.4326026, 45.2833624]}, {\"type\": \"Point\", \"coordinates\": [33.4336477, 45.2846492]}, {\"type\": \"Point\", \"coordinates\": [33.4345883, 45.2861565]}, {\"type\": \"Point\", \"coordinates\": [33.4372009, 45.2902372]}, {\"type\": \"Point\", \"coordinates\": [33.4384028, 45.2920752]}, {\"type\": \"Point\", \"coordinates\": [33.4397091, 45.2936558]}, {\"type\": \"Point\", \"coordinates\": [33.4409109, 45.2949424]}, {\"type\": \"Point\", \"coordinates\": [33.4424263, 45.2962289]}, {\"type\": \"Point\", \"coordinates\": [33.4465543, 45.2997208]}, {\"type\": \"Point\", \"coordinates\": [33.4498986, 45.3025876]}, {\"type\": \"Point\", \"coordinates\": [33.4547582, 45.3066303]}, {\"type\": \"Point\", \"coordinates\": [33.4585204, 45.3100848]}, {\"type\": \"Point\", \"coordinates\": [33.4624394, 45.3138697]}, {\"type\": \"Point\", \"coordinates\": [33.4660972, 45.3173972]}, {\"type\": \"Point\", \"coordinates\": [33.4692847, 45.3205938]}, {\"type\": \"Point\", \"coordinates\": [33.4725766, 45.3237903]}, {\"type\": \"Point\", \"coordinates\": [33.4754506, 45.3265089]}, {\"type\": \"Point\", \"coordinates\": [33.4771227, 45.3281988]}, {\"type\": \"Point\", \"coordinates\": [33.47822, 45.3293376]}, {\"type\": \"Point\", \"coordinates\": [33.4793696, 45.3310642]}, {\"type\": \"Point\", \"coordinates\": [33.4822436, 45.3354355]}, {\"type\": \"Point\", \"coordinates\": [33.4849608, 45.339586]}, {\"type\": \"Point\", \"coordinates\": [33.4875734, 45.3432588]}, {\"type\": \"Point\", \"coordinates\": [33.4900294, 45.3470416]}, {\"type\": \"Point\", \"coordinates\": [33.4927988, 45.351228]}, {\"type\": \"Point\", \"coordinates\": [33.4953592, 45.3551571]}, {\"type\": \"Point\", \"coordinates\": [33.4973971, 45.3583516]}, {\"type\": \"Point\", \"coordinates\": [33.4983899, 45.3596]}, {\"type\": \"Point\", \"coordinates\": [33.499853, 45.3609217]}, {\"type\": \"Point\", \"coordinates\": [33.5041901, 45.3647767]}, {\"type\": \"Point\", \"coordinates\": [33.5084226, 45.3686681]}, {\"type\": \"Point\", \"coordinates\": [33.5122894, 45.3721555]}, {\"type\": \"Point\", \"coordinates\": [33.5166787, 45.3761199]}, {\"type\": \"Point\", \"coordinates\": [33.5205455, 45.3796802]}, {\"type\": \"Point\", \"coordinates\": [33.5226879, 45.381552]}, {\"type\": \"Point\", \"coordinates\": [33.5258754, 45.3849285]}, {\"type\": \"Point\", \"coordinates\": [33.5296899, 45.388892]}, {\"type\": \"Point\", \"coordinates\": [33.5320413, 45.3913873]}, {\"type\": \"Point\", \"coordinates\": [33.5328773, 45.3921946]}, {\"type\": \"Point\", \"coordinates\": [33.5332431, 45.3929652]}, {\"type\": \"Point\", \"coordinates\": [33.5340792, 45.3951668]}, {\"type\": \"Point\", \"coordinates\": [33.4100813, 45.2611148]}, {\"type\": \"Point\", \"coordinates\": [33.4127985, 45.2647191]}, {\"type\": \"Point\", \"coordinates\": [33.4152544, 45.2676245]}, {\"type\": \"Point\", \"coordinates\": [33.4167175, 45.2692058]}, {\"type\": \"Point\", \"coordinates\": [33.4187554, 45.2708974]}, {\"type\": \"Point\", \"coordinates\": [33.4226744, 45.2743541]}, {\"type\": \"Point\", \"coordinates\": [33.4256529, 45.2770751]}, {\"type\": \"Point\", \"coordinates\": [33.4294674, 45.2806417]}, {\"type\": \"Point\", \"coordinates\": [33.4326026, 45.2833624]}, {\"type\": \"Point\", \"coordinates\": [33.4336477, 45.2846492]}, {\"type\": \"Point\", \"coordinates\": [33.4345883, 45.2861565]}, {\"type\": \"Point\", \"coordinates\": [33.4372009, 45.2902372]}, {\"type\": \"Point\", \"coordinates\": [33.4384028, 45.2920752]}, {\"type\": \"Point\", \"coordinates\": [33.4397091, 45.2936558]}, {\"type\": \"Point\", \"coordinates\": [33.4409109, 45.2949424]}, {\"type\": \"Point\", \"coordinates\": [33.4424263, 45.2962289]}, {\"type\": \"Point\", \"coordinates\": [33.4465543, 45.2997208]}, {\"type\": \"Point\", \"coordinates\": [33.4498986, 45.3025876]}, {\"type\": \"Point\", \"coordinates\": [33.4547582, 45.3066303]}, {\"type\": \"Point\", \"coordinates\": [33.4585204, 45.3100848]}, {\"type\": \"Point\", \"coordinates\": [33.4624394, 45.3138697]}, {\"type\": \"Point\", \"coordinates\": [33.4660972, 45.3173972]}, {\"type\": \"Point\", \"coordinates\": [33.4692847, 45.3205938]}, {\"type\": \"Point\", \"coordinates\": [33.4725766, 45.3237903]}, {\"type\": \"Point\", \"coordinates\": [33.4754506, 45.3265089]}, {\"type\": \"Point\", \"coordinates\": [33.4771227, 45.3281988]}, {\"type\": \"Point\", \"coordinates\": [33.47822, 45.3293376]}, {\"type\": \"Point\", \"coordinates\": [33.4793696, 45.3310642]}, {\"type\": \"Point\", \"coordinates\": [33.4822436, 45.3354355]}, {\"type\": \"Point\", \"coordinates\": [33.4849608, 45.339586]}, {\"type\": \"Point\", \"coordinates\": [33.4875734, 45.3432588]}, {\"type\": \"Point\", \"coordinates\": [33.4900294, 45.3470416]}, {\"type\": \"Point\", \"coordinates\": [33.4927988, 45.351228]}, {\"type\": \"Point\", \"coordinates\": [33.4953592, 45.3551571]}, {\"type\": \"Point\", \"coordinates\": [33.4973971, 45.3583516]}, {\"type\": \"Point\", \"coordinates\": [33.4983899, 45.3596]}, {\"type\": \"Point\", \"coordinates\": [33.499853, 45.3609217]}, {\"type\": \"Point\", \"coordinates\": [33.5041901, 45.3647767]}, {\"type\": \"Point\", \"coordinates\": [33.5084226, 45.3686681]}, {\"type\": \"Point\", \"coordinates\": [33.5122894, 45.3721555]}, {\"type\": \"Point\", \"coordinates\": [33.5166787, 45.3761199]}, {\"type\": \"Point\", \"coordinates\": [33.5205455, 45.3796802]}, {\"type\": \"Point\", \"coordinates\": [33.5226879, 45.381552]}, {\"type\": \"Point\", \"coordinates\": [33.5258754, 45.3849285]}, {\"type\": \"Point\", \"coordinates\": [33.5296899, 45.388892]}, {\"type\": \"Point\", \"coordinates\": [33.5320413, 45.3913873]}, {\"type\": \"Point\", \"coordinates\": [33.5328773, 45.3921946]}, {\"type\": \"Point\", \"coordinates\": [33.5332431, 45.3929652]}, {\"type\": \"Point\", \"coordinates\": [33.5340792, 45.3951668]}, {\"type\": \"Point\", \"coordinates\": [33.4100813, 45.2611148]}, {\"type\": \"Point\", \"coordinates\": [33.4127985, 45.2647191]}, {\"type\": \"Point\", \"coordinates\": [33.4152544, 45.2676245]}, {\"type\": \"Point\", \"coordinates\": [33.4167175, 45.2692058]}, {\"type\": \"Point\", \"coordinates\": [33.4187554, 45.2708974]}, {\"type\": \"Point\", \"coordinates\": [33.4226744, 45.2743541]}, {\"type\": \"Point\", \"coordinates\": [33.4256529, 45.2770751]}, {\"type\": \"Point\", \"coordinates\": [33.4294674, 45.2806417]}, {\"type\": \"Point\", \"coordinates\": [33.4326026, 45.2833624]}, {\"type\": \"Point\", \"coordinates\": [33.4336477, 45.2846492]}, {\"type\": \"Point\", \"coordinates\": [33.4345883, 45.2861565]}, {\"type\": \"Point\", \"coordinates\": [33.4372009, 45.2902372]}, {\"type\": \"Point\", \"coordinates\": [33.4384028, 45.2920752]}, {\"type\": \"Point\", \"coordinates\": [33.4397091, 45.2936558]}, {\"type\": \"Point\", \"coordinates\": [33.4409109, 45.2949424]}, {\"type\": \"Point\", \"coordinates\": [33.4424263, 45.2962289]}, {\"type\": \"Point\", \"coordinates\": [33.4465543, 45.2997208]}, {\"type\": \"Point\", \"coordinates\": [33.4498986, 45.3025876]}, {\"type\": \"Point\", \"coordinates\": [33.4547582, 45.3066303]}, {\"type\": \"Point\", \"coordinates\": [33.4585204, 45.3100848]}, {\"type\": \"Point\", \"coordinates\": [33.4624394, 45.3138697]}, {\"type\": \"Point\", \"coordinates\": [33.4660972, 45.3173972]}, {\"type\": \"Point\", \"coordinates\": [33.4692847, 45.3205938]}, {\"type\": \"Point\", \"coordinates\": [33.4725766, 45.3237903]}, {\"type\": \"Point\", \"coordinates\": [33.4754506, 45.3265089]}, {\"type\": \"Point\", \"coordinates\": [33.4771227, 45.3281988]}, {\"type\": \"Point\", \"coordinates\": [33.47822, 45.3293376]}, {\"type\": \"Point\", \"coordinates\": [33.4793696, 45.3310642]}, {\"type\": \"Point\", \"coordinates\": [33.4822436, 45.3354355]}, {\"type\": \"Point\", \"coordinates\": [33.4849608, 45.339586]}, {\"type\": \"Point\", \"coordinates\": [33.4875734, 45.3432588]}, {\"type\": \"Point\", \"coordinates\": [33.4900294, 45.3470416]}, {\"type\": \"Point\", \"coordinates\": [33.4927988, 45.351228]}, {\"type\": \"Point\", \"coordinates\": [33.4944035, 45.3535344]}, {\"type\": \"Point\", \"coordinates\": [33.4953592, 45.3551571]}, {\"type\": \"Point\", \"coordinates\": [33.4973971, 45.3583516]}, {\"type\": \"Point\", \"coordinates\": [33.4983899, 45.3596]}, {\"type\": \"Point\", \"coordinates\": [33.499853, 45.3609217]}, {\"type\": \"Point\", \"coordinates\": [33.5041901, 45.3647767]}, {\"type\": \"Point\", \"coordinates\": [33.5084226, 45.3686681]}, {\"type\": \"Point\", \"coordinates\": [33.5122894, 45.3721555]}, {\"type\": \"Point\", \"coordinates\": [33.5166787, 45.3761199]}, {\"type\": \"Point\", \"coordinates\": [33.5205455, 45.3796802]}, {\"type\": \"Point\", \"coordinates\": [33.5226879, 45.381552]}, {\"type\": \"Point\", \"coordinates\": [33.5258754, 45.3849285]}, {\"type\": \"Point\", \"coordinates\": [33.5296899, 45.388892]}, {\"type\": \"Point\", \"coordinates\": [33.5320413, 45.3913873]}, {\"type\": \"Point\", \"coordinates\": [33.5328773, 45.3921946]}, {\"type\": \"Point\", \"coordinates\": [33.5332431, 45.3929652]}, {\"type\": \"Point\", \"coordinates\": [33.5340792, 45.3951668]}, {\"type\": \"Point\", \"coordinates\": [33.4100813, 45.2611148]}, {\"type\": \"Point\", \"coordinates\": [33.4127985, 45.2647191]}, {\"type\": \"Point\", \"coordinates\": [33.4152544, 45.2676245]}, {\"type\": \"Point\", \"coordinates\": [33.4167175, 45.2692058]}, {\"type\": \"Point\", \"coordinates\": [33.4187554, 45.2708974]}, {\"type\": \"Point\", \"coordinates\": [33.4226744, 45.2743541]}, {\"type\": \"Point\", \"coordinates\": [33.4256529, 45.2770751]}, {\"type\": \"Point\", \"coordinates\": [33.4294674, 45.2806417]}, {\"type\": \"Point\", \"coordinates\": [33.4326026, 45.2833624]}, {\"type\": \"Point\", \"coordinates\": [33.4336477, 45.2846492]}, {\"type\": \"Point\", \"coordinates\": [33.4345883, 45.2861565]}, {\"type\": \"Point\", \"coordinates\": [33.4372009, 45.2902372]}, {\"type\": \"Point\", \"coordinates\": [33.4384028, 45.2920752]}, {\"type\": \"Point\", \"coordinates\": [33.4397091, 45.2936558]}, {\"type\": \"Point\", \"coordinates\": [33.4409109, 45.2949424]}, {\"type\": \"Point\", \"coordinates\": [33.4424263, 45.2962289]}, {\"type\": \"Point\", \"coordinates\": [33.4465543, 45.2997208]}, {\"type\": \"Point\", \"coordinates\": [33.4498986, 45.3025876]}, {\"type\": \"Point\", \"coordinates\": [33.4525702, 45.3048101]}, {\"type\": \"Point\", \"coordinates\": [33.4547582, 45.3066303]}, {\"type\": \"Point\", \"coordinates\": [33.4585204, 45.3100848]}, {\"type\": \"Point\", \"coordinates\": [33.4624394, 45.3138697]}, {\"type\": \"Point\", \"coordinates\": [33.4660972, 45.3173972]}, {\"type\": \"Point\", \"coordinates\": [33.4692847, 45.3205938]}, {\"type\": \"Point\", \"coordinates\": [33.4725766, 45.3237903]}, {\"type\": \"Point\", \"coordinates\": [33.4754506, 45.3265089]}, {\"type\": \"Point\", \"coordinates\": [33.4771227, 45.3281988]}, {\"type\": \"Point\", \"coordinates\": [33.47822, 45.3293376]}, {\"type\": \"Point\", \"coordinates\": [33.4793696, 45.3310642]}, {\"type\": \"Point\", \"coordinates\": [33.4822436, 45.3354355]}, {\"type\": \"Point\", \"coordinates\": [33.4849608, 45.339586]}, {\"type\": \"Point\", \"coordinates\": [33.4875734, 45.3432588]}, {\"type\": \"Point\", \"coordinates\": [33.4900294, 45.3470416]}, {\"type\": \"Point\", \"coordinates\": [33.4927988, 45.351228]}, {\"type\": \"Point\", \"coordinates\": [33.4944035, 45.3535344]}, {\"type\": \"Point\", \"coordinates\": [33.4953592, 45.3551571]}, {\"type\": \"Point\", \"coordinates\": [33.4973971, 45.3583516]}, {\"type\": \"Point\", \"coordinates\": [33.4983899, 45.3596]}, {\"type\": \"Point\", \"coordinates\": [33.499853, 45.3609217]}, {\"type\": \"Point\", \"coordinates\": [33.5041901, 45.3647767]}, {\"type\": \"Point\", \"coordinates\": [33.5084226, 45.3686681]}, {\"type\": \"Point\", \"coordinates\": [33.5122894, 45.3721555]}, {\"type\": \"Point\", \"coordinates\": [33.5166787, 45.3761199]}, {\"type\": \"Point\", \"coordinates\": [33.5205455, 45.3796802]}, {\"type\": \"Point\", \"coordinates\": [33.5226879, 45.381552]}, {\"type\": \"Point\", \"coordinates\": [33.5258754, 45.3849285]}, {\"type\": \"Point\", \"coordinates\": [33.5296899, 45.388892]}, {\"type\": \"Point\", \"coordinates\": [33.5320413, 45.3913873]}, {\"type\": \"Point\", \"coordinates\": [33.5328773, 45.3921946]}, {\"type\": \"Point\", \"coordinates\": [33.5332431, 45.3929652]}, {\"type\": \"Point\", \"coordinates\": [33.5340792, 45.3951668]}, {\"type\": \"Point\", \"coordinates\": [33.4100813, 45.2611148]}, {\"type\": \"Point\", \"coordinates\": [33.4127985, 45.2647191]}, {\"type\": \"Point\", \"coordinates\": [33.4152544, 45.2676245]}, {\"type\": \"Point\", \"coordinates\": [33.4167175, 45.2692058]}, {\"type\": \"Point\", \"coordinates\": [33.4187554, 45.2708974]}, {\"type\": \"Point\", \"coordinates\": [33.4226744, 45.2743541]}, {\"type\": \"Point\", \"coordinates\": [33.4256529, 45.2770751]}, {\"type\": \"Point\", \"coordinates\": [33.4294674, 45.2806417]}, {\"type\": \"Point\", \"coordinates\": [33.4326026, 45.2833624]}, {\"type\": \"Point\", \"coordinates\": [33.4336477, 45.2846492]}, {\"type\": \"Point\", \"coordinates\": [33.4345883, 45.2861565]}, {\"type\": \"Point\", \"coordinates\": [33.4372009, 45.2902372]}, {\"type\": \"Point\", \"coordinates\": [33.4384028, 45.2920752]}, {\"type\": \"Point\", \"coordinates\": [33.4397091, 45.2936558]}, {\"type\": \"Point\", \"coordinates\": [33.4409109, 45.2949424]}, {\"type\": \"Point\", \"coordinates\": [33.4424263, 45.2962289]}, {\"type\": \"Point\", \"coordinates\": [33.4465543, 45.2997208]}, {\"type\": \"Point\", \"coordinates\": [33.4498986, 45.3025876]}, {\"type\": \"Point\", \"coordinates\": [33.4525702, 45.3048101]}, {\"type\": \"Point\", \"coordinates\": [33.4547582, 45.3066303]}, {\"type\": \"Point\", \"coordinates\": [33.4566498, 45.3082778]}, {\"type\": \"Point\", \"coordinates\": [33.4585204, 45.3100848]}, {\"type\": \"Point\", \"coordinates\": [33.4624394, 45.3138697]}, {\"type\": \"Point\", \"coordinates\": [33.4660972, 45.3173972]}, {\"type\": \"Point\", \"coordinates\": [33.4692847, 45.3205938]}, {\"type\": \"Point\", \"coordinates\": [33.4725766, 45.3237903]}, {\"type\": \"Point\", \"coordinates\": [33.4754506, 45.3265089]}, {\"type\": \"Point\", \"coordinates\": [33.4771227, 45.3281988]}, {\"type\": \"Point\", \"coordinates\": [33.47822, 45.3293376]}, {\"type\": \"Point\", \"coordinates\": [33.4786707, 45.3299737]}, {\"type\": \"Point\", \"coordinates\": [33.4793696, 45.3310642]}, {\"type\": \"Point\", \"coordinates\": [33.4822436, 45.3354355]}, {\"type\": \"Point\", \"coordinates\": [33.4849608, 45.339586]}, {\"type\": \"Point\", \"coordinates\": [33.4875734, 45.3432588]}, {\"type\": \"Point\", \"coordinates\": [33.4900294, 45.3470416]}, {\"type\": \"Point\", \"coordinates\": [33.4927988, 45.351228]}, {\"type\": \"Point\", \"coordinates\": [33.4944035, 45.3535344]}, {\"type\": \"Point\", \"coordinates\": [33.4953592, 45.3551571]}, {\"type\": \"Point\", \"coordinates\": [33.4973971, 45.3583516]}, {\"type\": \"Point\", \"coordinates\": [33.497774, 45.3588459]}, {\"type\": \"Point\", \"coordinates\": [33.4983899, 45.3596]}, {\"type\": \"Point\", \"coordinates\": [33.499853, 45.3609217]}, {\"type\": \"Point\", \"coordinates\": [33.5041901, 45.3647767]}, {\"type\": \"Point\", \"coordinates\": [33.5084226, 45.3686681]}, {\"type\": \"Point\", \"coordinates\": [33.5122894, 45.3721555]}, {\"type\": \"Point\", \"coordinates\": [33.5166787, 45.3761199]}, {\"type\": \"Point\", \"coordinates\": [33.5205455, 45.3796802]}, {\"type\": \"Point\", \"coordinates\": [33.5216911, 45.3805718]}, {\"type\": \"Point\", \"coordinates\": [33.5226879, 45.381552]}, {\"type\": \"Point\", \"coordinates\": [33.5258754, 45.3849285]}, {\"type\": \"Point\", \"coordinates\": [33.5296899, 45.388892]}, {\"type\": \"Point\", \"coordinates\": [33.5320413, 45.3913873]}, {\"type\": \"Point\", \"coordinates\": [33.5328773, 45.3921946]}, {\"type\": \"Point\", \"coordinates\": [33.533138, 45.392544]}, {\"type\": \"Point\", \"coordinates\": [33.5332431, 45.3929652]}, {\"type\": \"Point\", \"coordinates\": [33.5338083, 45.3941592]}, {\"type\": \"Point\", \"coordinates\": [33.5340792, 45.3951668]}, {\"type\": \"Point\", \"coordinates\": [33.4100813, 45.2611148]}, {\"type\": \"Point\", \"coordinates\": [33.4127985, 45.2647191]}, {\"type\": \"Point\", \"coordinates\": [33.4152544, 45.2676245]}, {\"type\": \"Point\", \"coordinates\": [33.4167175, 45.2692058]}, {\"type\": \"Point\", \"coordinates\": [33.4187554, 45.2708974]}, {\"type\": \"Point\", \"coordinates\": [33.4226744, 45.2743541]}, {\"type\": \"Point\", \"coordinates\": [33.4256529, 45.2770751]}, {\"type\": \"Point\", \"coordinates\": [33.4294674, 45.2806417]}, {\"type\": \"Point\", \"coordinates\": [33.4326026, 45.2833624]}, {\"type\": \"Point\", \"coordinates\": [33.4336477, 45.2846492]}, {\"type\": \"Point\", \"coordinates\": [33.4345883, 45.2861565]}, {\"type\": \"Point\", \"coordinates\": [33.4372009, 45.2902372]}, {\"type\": \"Point\", \"coordinates\": [33.4384028, 45.2920752]}, {\"type\": \"Point\", \"coordinates\": [33.4397091, 45.2936558]}, {\"type\": \"Point\", \"coordinates\": [33.4409109, 45.2949424]}, {\"type\": \"Point\", \"coordinates\": [33.4424263, 45.2962289]}, {\"type\": \"Point\", \"coordinates\": [33.4465543, 45.2997208]}, {\"type\": \"Point\", \"coordinates\": [33.4498986, 45.3025876]}, {\"type\": \"Point\", \"coordinates\": [33.4525702, 45.3048101]}, {\"type\": \"Point\", \"coordinates\": [33.4544491, 45.3064233]}, {\"type\": \"Point\", \"coordinates\": [33.4547582, 45.3066303]}, {\"type\": \"Point\", \"coordinates\": [33.4566498, 45.3082778]}, {\"type\": \"Point\", \"coordinates\": [33.4585204, 45.3100848]}, {\"type\": \"Point\", \"coordinates\": [33.4624394, 45.3138697]}, {\"type\": \"Point\", \"coordinates\": [33.4660972, 45.3173972]}, {\"type\": \"Point\", \"coordinates\": [33.4692847, 45.3205938]}, {\"type\": \"Point\", \"coordinates\": [33.4725766, 45.3237903]}, {\"type\": \"Point\", \"coordinates\": [33.4754506, 45.3265089]}, {\"type\": \"Point\", \"coordinates\": [33.4771227, 45.3281988]}, {\"type\": \"Point\", \"coordinates\": [33.47822, 45.3293376]}, {\"type\": \"Point\", \"coordinates\": [33.4786707, 45.3299737]}, {\"type\": \"Point\", \"coordinates\": [33.4793696, 45.3310642]}, {\"type\": \"Point\", \"coordinates\": [33.4822436, 45.3354355]}, {\"type\": \"Point\", \"coordinates\": [33.4849608, 45.339586]}, {\"type\": \"Point\", \"coordinates\": [33.4875734, 45.3432588]}, {\"type\": \"Point\", \"coordinates\": [33.4900294, 45.3470416]}, {\"type\": \"Point\", \"coordinates\": [33.4927988, 45.351228]}, {\"type\": \"Point\", \"coordinates\": [33.4944035, 45.3535344]}, {\"type\": \"Point\", \"coordinates\": [33.4953592, 45.3551571]}, {\"type\": \"Point\", \"coordinates\": [33.4973971, 45.3583516]}, {\"type\": \"Point\", \"coordinates\": [33.497774, 45.3588459]}, {\"type\": \"Point\", \"coordinates\": [33.4983899, 45.3596]}, {\"type\": \"Point\", \"coordinates\": [33.499853, 45.3609217]}, {\"type\": \"Point\", \"coordinates\": [33.5041901, 45.3647767]}, {\"type\": \"Point\", \"coordinates\": [33.5084226, 45.3686681]}, {\"type\": \"Point\", \"coordinates\": [33.5122894, 45.3721555]}, {\"type\": \"Point\", \"coordinates\": [33.5166787, 45.3761199]}, {\"type\": \"Point\", \"coordinates\": [33.5205455, 45.3796802]}, {\"type\": \"Point\", \"coordinates\": [33.5216911, 45.3805718]}, {\"type\": \"Point\", \"coordinates\": [33.5226879, 45.381552]}, {\"type\": \"Point\", \"coordinates\": [33.5258754, 45.3849285]}, {\"type\": \"Point\", \"coordinates\": [33.5296899, 45.388892]}, {\"type\": \"Point\", \"coordinates\": [33.5320413, 45.3913873]}, {\"type\": \"Point\", \"coordinates\": [33.5328773, 45.3921946]}, {\"type\": \"Point\", \"coordinates\": [33.533138, 45.392544]}, {\"type\": \"Point\", \"coordinates\": [33.5332431, 45.3929652]}, {\"type\": \"Point\", \"coordinates\": [33.5338083, 45.3941592]}, {\"type\": \"Point\", \"coordinates\": [33.5340792, 45.3951668]}, {\"type\": \"Point\", \"coordinates\": [33.4100813, 45.2611148]}, {\"type\": \"Point\", \"coordinates\": [33.4127985, 45.2647191]}, {\"type\": \"Point\", \"coordinates\": [33.4152544, 45.2676245]}, {\"type\": \"Point\", \"coordinates\": [33.4167175, 45.2692058]}, {\"type\": \"Point\", \"coordinates\": [33.4187554, 45.2708974]}, {\"type\": \"Point\", \"coordinates\": [33.4226744, 45.2743541]}, {\"type\": \"Point\", \"coordinates\": [33.4256529, 45.2770751]}, {\"type\": \"Point\", \"coordinates\": [33.4294674, 45.2806417]}, {\"type\": \"Point\", \"coordinates\": [33.4326026, 45.2833624]}, {\"type\": \"Point\", \"coordinates\": [33.4336477, 45.2846492]}, {\"type\": \"Point\", \"coordinates\": [33.4345883, 45.2861565]}, {\"type\": \"Point\", \"coordinates\": [33.4350903, 45.2869407]}, {\"type\": \"Point\", \"coordinates\": [33.4351221, 45.2869902]}, {\"type\": \"Point\", \"coordinates\": [33.4372009, 45.2902372]}, {\"type\": \"Point\", \"coordinates\": [33.4384028, 45.2920752]}, {\"type\": \"Point\", \"coordinates\": [33.4397091, 45.2936558]}, {\"type\": \"Point\", \"coordinates\": [33.4409109, 45.2949424]}, {\"type\": \"Point\", \"coordinates\": [33.4424263, 45.2962289]}, {\"type\": \"Point\", \"coordinates\": [33.4465543, 45.2997208]}, {\"type\": \"Point\", \"coordinates\": [33.4498986, 45.3025876]}, {\"type\": \"Point\", \"coordinates\": [33.4525702, 45.3048101]}, {\"type\": \"Point\", \"coordinates\": [33.4544491, 45.3064233]}, {\"type\": \"Point\", \"coordinates\": [33.4547582, 45.3066303]}, {\"type\": \"Point\", \"coordinates\": [33.4566498, 45.3082778]}, {\"type\": \"Point\", \"coordinates\": [33.4585204, 45.3100848]}, {\"type\": \"Point\", \"coordinates\": [33.4624394, 45.3138697]}, {\"type\": \"Point\", \"coordinates\": [33.4660972, 45.3173972]}, {\"type\": \"Point\", \"coordinates\": [33.4692847, 45.3205938]}, {\"type\": \"Point\", \"coordinates\": [33.4725766, 45.3237903]}, {\"type\": \"Point\", \"coordinates\": [33.4754506, 45.3265089]}, {\"type\": \"Point\", \"coordinates\": [33.4771227, 45.3281988]}, {\"type\": \"Point\", \"coordinates\": [33.47822, 45.3293376]}, {\"type\": \"Point\", \"coordinates\": [33.4786707, 45.3299737]}, {\"type\": \"Point\", \"coordinates\": [33.4793696, 45.3310642]}, {\"type\": \"Point\", \"coordinates\": [33.4822436, 45.3354355]}, {\"type\": \"Point\", \"coordinates\": [33.4849608, 45.339586]}, {\"type\": \"Point\", \"coordinates\": [33.4875734, 45.3432588]}, {\"type\": \"Point\", \"coordinates\": [33.4900294, 45.3470416]}, {\"type\": \"Point\", \"coordinates\": [33.4927988, 45.351228]}, {\"type\": \"Point\", \"coordinates\": [33.4944035, 45.3535344]}, {\"type\": \"Point\", \"coordinates\": [33.4953592, 45.3551571]}, {\"type\": \"Point\", \"coordinates\": [33.4973971, 45.3583516]}, {\"type\": \"Point\", \"coordinates\": [33.497774, 45.3588459]}, {\"type\": \"Point\", \"coordinates\": [33.4983899, 45.3596]}, {\"type\": \"Point\", \"coordinates\": [33.499853, 45.3609217]}, {\"type\": \"Point\", \"coordinates\": [33.5041901, 45.3647767]}, {\"type\": \"Point\", \"coordinates\": [33.5084226, 45.3686681]}, {\"type\": \"Point\", \"coordinates\": [33.5122894, 45.3721555]}, {\"type\": \"Point\", \"coordinates\": [33.5166787, 45.3761199]}, {\"type\": \"Point\", \"coordinates\": [33.5205455, 45.3796802]}, {\"type\": \"Point\", \"coordinates\": [33.5216911, 45.3805718]}, {\"type\": \"Point\", \"coordinates\": [33.5226879, 45.381552]}, {\"type\": \"Point\", \"coordinates\": [33.5258754, 45.3849285]}, {\"type\": \"Point\", \"coordinates\": [33.5296899, 45.388892]}, {\"type\": \"Point\", \"coordinates\": [33.5320413, 45.3913873]}, {\"type\": \"Point\", \"coordinates\": [33.5328773, 45.3921946]}, {\"type\": \"Point\", \"coordinates\": [33.533138, 45.392544]}, {\"type\": \"Point\", \"coordinates\": [33.5332431, 45.3929652]}, {\"type\": \"Point\", \"coordinates\": [33.5338083, 45.3941592]}, {\"type\": \"Point\", \"coordinates\": [33.5340792, 45.3951668]}, {\"type\": \"Point\", \"coordinates\": [33.4100813, 45.2611148]}, {\"type\": \"Point\", \"coordinates\": [33.4127985, 45.2647191]}, {\"type\": \"Point\", \"coordinates\": [33.4152544, 45.2676245]}, {\"type\": \"Point\", \"coordinates\": [33.4167175, 45.2692058]}, {\"type\": \"Point\", \"coordinates\": [33.4187554, 45.2708974]}, {\"type\": \"Point\", \"coordinates\": [33.4208058, 45.2727047]}, {\"type\": \"Point\", \"coordinates\": [33.420891, 45.2727797]}, {\"type\": \"Point\", \"coordinates\": [33.4226744, 45.2743541]}, {\"type\": \"Point\", \"coordinates\": [33.4256529, 45.2770751]}, {\"type\": \"Point\", \"coordinates\": [33.4294674, 45.2806417]}, {\"type\": \"Point\", \"coordinates\": [33.4326026, 45.2833624]}, {\"type\": \"Point\", \"coordinates\": [33.4336477, 45.2846492]}, {\"type\": \"Point\", \"coordinates\": [33.4345883, 45.2861565]}, {\"type\": \"Point\", \"coordinates\": [33.4350903, 45.2869407]}, {\"type\": \"Point\", \"coordinates\": [33.4351221, 45.2869902]}, {\"type\": \"Point\", \"coordinates\": [33.4372009, 45.2902372]}, {\"type\": \"Point\", \"coordinates\": [33.4384028, 45.2920752]}, {\"type\": \"Point\", \"coordinates\": [33.4397091, 45.2936558]}, {\"type\": \"Point\", \"coordinates\": [33.4409109, 45.2949424]}, {\"type\": \"Point\", \"coordinates\": [33.4424263, 45.2962289]}, {\"type\": \"Point\", \"coordinates\": [33.4465543, 45.2997208]}, {\"type\": \"Point\", \"coordinates\": [33.4498986, 45.3025876]}, {\"type\": \"Point\", \"coordinates\": [33.4525702, 45.3048101]}, {\"type\": \"Point\", \"coordinates\": [33.4544491, 45.3064233]}, {\"type\": \"Point\", \"coordinates\": [33.4547582, 45.3066303]}, {\"type\": \"Point\", \"coordinates\": [33.4566498, 45.3082778]}, {\"type\": \"Point\", \"coordinates\": [33.4585204, 45.3100848]}, {\"type\": \"Point\", \"coordinates\": [33.4624394, 45.3138697]}, {\"type\": \"Point\", \"coordinates\": [33.4660972, 45.3173972]}, {\"type\": \"Point\", \"coordinates\": [33.4692847, 45.3205938]}, {\"type\": \"Point\", \"coordinates\": [33.4725766, 45.3237903]}, {\"type\": \"Point\", \"coordinates\": [33.4754506, 45.3265089]}, {\"type\": \"Point\", \"coordinates\": [33.4771227, 45.3281988]}, {\"type\": \"Point\", \"coordinates\": [33.47822, 45.3293376]}, {\"type\": \"Point\", \"coordinates\": [33.4786707, 45.3299737]}, {\"type\": \"Point\", \"coordinates\": [33.4793696, 45.3310642]}, {\"type\": \"Point\", \"coordinates\": [33.4822436, 45.3354355]}, {\"type\": \"Point\", \"coordinates\": [33.4849608, 45.339586]}, {\"type\": \"Point\", \"coordinates\": [33.4875734, 45.3432588]}, {\"type\": \"Point\", \"coordinates\": [33.4900294, 45.3470416]}, {\"type\": \"Point\", \"coordinates\": [33.4927988, 45.351228]}, {\"type\": \"Point\", \"coordinates\": [33.4944035, 45.3535344]}, {\"type\": \"Point\", \"coordinates\": [33.4953592, 45.3551571]}, {\"type\": \"Point\", \"coordinates\": [33.4973971, 45.3583516]}, {\"type\": \"Point\", \"coordinates\": [33.497774, 45.3588459]}, {\"type\": \"Point\", \"coordinates\": [33.4983899, 45.3596]}, {\"type\": \"Point\", \"coordinates\": [33.499853, 45.3609217]}, {\"type\": \"Point\", \"coordinates\": [33.5041901, 45.3647767]}, {\"type\": \"Point\", \"coordinates\": [33.5084226, 45.3686681]}, {\"type\": \"Point\", \"coordinates\": [33.5122894, 45.3721555]}, {\"type\": \"Point\", \"coordinates\": [33.5166787, 45.3761199]}, {\"type\": \"Point\", \"coordinates\": [33.5205455, 45.3796802]}, {\"type\": \"Point\", \"coordinates\": [33.5216911, 45.3805718]}, {\"type\": \"Point\", \"coordinates\": [33.5226879, 45.381552]}, {\"type\": \"Point\", \"coordinates\": [33.5258754, 45.3849285]}, {\"type\": \"Point\", \"coordinates\": [33.5296899, 45.388892]}, {\"type\": \"Point\", \"coordinates\": [33.5320413, 45.3913873]}, {\"type\": \"Point\", \"coordinates\": [33.5328773, 45.3921946]}, {\"type\": \"Point\", \"coordinates\": [33.533138, 45.392544]}, {\"type\": \"Point\", \"coordinates\": [33.5332431, 45.3929652]}, {\"type\": \"Point\", \"coordinates\": [33.5338083, 45.3941592]}, {\"type\": \"Point\", \"coordinates\": [33.5340792, 45.3951668]}, {\"type\": \"Point\", \"coordinates\": [33.4100813, 45.2611148]}, {\"type\": \"Point\", \"coordinates\": [33.4127985, 45.2647191]}, {\"type\": \"Point\", \"coordinates\": [33.4152544, 45.2676245]}, {\"type\": \"Point\", \"coordinates\": [33.4167175, 45.2692058]}, {\"type\": \"Point\", \"coordinates\": [33.4187554, 45.2708974]}, {\"type\": \"Point\", \"coordinates\": [33.4208058, 45.2727047]}, {\"type\": \"Point\", \"coordinates\": [33.420891, 45.2727797]}, {\"type\": \"Point\", \"coordinates\": [33.4226744, 45.2743541]}, {\"type\": \"Point\", \"coordinates\": [33.4256529, 45.2770751]}, {\"type\": \"Point\", \"coordinates\": [33.4294674, 45.2806417]}, {\"type\": \"Point\", \"coordinates\": [33.4326026, 45.2833624]}, {\"type\": \"Point\", \"coordinates\": [33.4336477, 45.2846492]}, {\"type\": \"Point\", \"coordinates\": [33.4345883, 45.2861565]}, {\"type\": \"Point\", \"coordinates\": [33.4350903, 45.2869407]}, {\"type\": \"Point\", \"coordinates\": [33.4351221, 45.2869902]}, {\"type\": \"Point\", \"coordinates\": [33.4372009, 45.2902372]}, {\"type\": \"Point\", \"coordinates\": [33.4384028, 45.2920752]}, {\"type\": \"Point\", \"coordinates\": [33.4397091, 45.2936558]}, {\"type\": \"Point\", \"coordinates\": [33.4409109, 45.2949424]}, {\"type\": \"Point\", \"coordinates\": [33.4424263, 45.2962289]}, {\"type\": \"Point\", \"coordinates\": [33.4465543, 45.2997208]}, {\"type\": \"Point\", \"coordinates\": [33.4498986, 45.3025876]}, {\"type\": \"Point\", \"coordinates\": [33.4525702, 45.3048101]}, {\"type\": \"Point\", \"coordinates\": [33.4544491, 45.3064233]}, {\"type\": \"Point\", \"coordinates\": [33.4547582, 45.3066303]}, {\"type\": \"Point\", \"coordinates\": [33.4566498, 45.3082778]}, {\"type\": \"Point\", \"coordinates\": [33.4585204, 45.3100848]}, {\"type\": \"Point\", \"coordinates\": [33.4624394, 45.3138697]}, {\"type\": \"Point\", \"coordinates\": [33.4660972, 45.3173972]}, {\"type\": \"Point\", \"coordinates\": [33.4692847, 45.3205938]}, {\"type\": \"Point\", \"coordinates\": [33.4725766, 45.3237903]}, {\"type\": \"Point\", \"coordinates\": [33.4754506, 45.3265089]}, {\"type\": \"Point\", \"coordinates\": [33.4771227, 45.3281988]}, {\"type\": \"Point\", \"coordinates\": [33.47822, 45.3293376]}, {\"type\": \"Point\", \"coordinates\": [33.4786707, 45.3299737]}, {\"type\": \"Point\", \"coordinates\": [33.4793696, 45.3310642]}, {\"type\": \"Point\", \"coordinates\": [33.4822436, 45.3354355]}, {\"type\": \"Point\", \"coordinates\": [33.4849608, 45.339586]}, {\"type\": \"Point\", \"coordinates\": [33.4875734, 45.3432588]}, {\"type\": \"Point\", \"coordinates\": [33.4900294, 45.3470416]}, {\"type\": \"Point\", \"coordinates\": [33.4927988, 45.351228]}, {\"type\": \"Point\", \"coordinates\": [33.4944035, 45.3535344]}, {\"type\": \"Point\", \"coordinates\": [33.4953592, 45.3551571]}, {\"type\": \"Point\", \"coordinates\": [33.4973971, 45.3583516]}, {\"type\": \"Point\", \"coordinates\": [33.4978047, 45.3589204]}, {\"type\": \"Point\", \"coordinates\": [33.497774, 45.3588459]}, {\"type\": \"Point\", \"coordinates\": [33.4983899, 45.3596]}, {\"type\": \"Point\", \"coordinates\": [33.4985423, 45.3596758]}, {\"type\": \"Point\", \"coordinates\": [33.4993628, 45.3604172]}, {\"type\": \"Point\", \"coordinates\": [33.499853, 45.3609217]}, {\"type\": \"Point\", \"coordinates\": [33.501521, 45.3623541]}, {\"type\": \"Point\", \"coordinates\": [33.5030742, 45.3637449]}, {\"type\": \"Point\", \"coordinates\": [33.5039156, 45.3644984]}, {\"type\": \"Point\", \"coordinates\": [33.5041901, 45.3647767]}, {\"type\": \"Point\", \"coordinates\": [33.5084226, 45.3686681]}, {\"type\": \"Point\", \"coordinates\": [33.5122894, 45.3721555]}, {\"type\": \"Point\", \"coordinates\": [33.5166787, 45.3761199]}, {\"type\": \"Point\", \"coordinates\": [33.5205455, 45.3796802]}, {\"type\": \"Point\", \"coordinates\": [33.5216911, 45.3805718]}, {\"type\": \"Point\", \"coordinates\": [33.5226879, 45.381552]}, {\"type\": \"Point\", \"coordinates\": [33.5258754, 45.3849285]}, {\"type\": \"Point\", \"coordinates\": [33.5296899, 45.388892]}, {\"type\": \"Point\", \"coordinates\": [33.5320413, 45.3913873]}, {\"type\": \"Point\", \"coordinates\": [33.5328773, 45.3921946]}, {\"type\": \"Point\", \"coordinates\": [33.533138, 45.392544]}, {\"type\": \"Point\", \"coordinates\": [33.5332431, 45.3929652]}, {\"type\": \"Point\", \"coordinates\": [33.5338083, 45.3941592]}, {\"type\": \"Point\", \"coordinates\": [33.5340792, 45.3951668]}, {\"type\": \"Point\", \"coordinates\": [33.4100813, 45.2611148]}, {\"type\": \"Point\", \"coordinates\": [33.4127985, 45.2647191]}, {\"type\": \"Point\", \"coordinates\": [33.4152544, 45.2676245]}, {\"type\": \"Point\", \"coordinates\": [33.4167175, 45.2692058]}, {\"type\": \"Point\", \"coordinates\": [33.4187554, 45.2708974]}, {\"type\": \"Point\", \"coordinates\": [33.4208058, 45.2727047]}, {\"type\": \"Point\", \"coordinates\": [33.420891, 45.2727797]}, {\"type\": \"Point\", \"coordinates\": [33.4226744, 45.2743541]}, {\"type\": \"Point\", \"coordinates\": [33.4256529, 45.2770751]}, {\"type\": \"Point\", \"coordinates\": [33.4294674, 45.2806417]}, {\"type\": \"Point\", \"coordinates\": [33.4326026, 45.2833624]}, {\"type\": \"Point\", \"coordinates\": [33.4336477, 45.2846492]}, {\"type\": \"Point\", \"coordinates\": [33.4345883, 45.2861565]}, {\"type\": \"Point\", \"coordinates\": [33.4350903, 45.2869407]}, {\"type\": \"Point\", \"coordinates\": [33.4351221, 45.2869902]}, {\"type\": \"Point\", \"coordinates\": [33.4372009, 45.2902372]}, {\"type\": \"Point\", \"coordinates\": [33.4384028, 45.2920752]}, {\"type\": \"Point\", \"coordinates\": [33.4397091, 45.2936558]}, {\"type\": \"Point\", \"coordinates\": [33.4409109, 45.2949424]}, {\"type\": \"Point\", \"coordinates\": [33.4424263, 45.2962289]}, {\"type\": \"Point\", \"coordinates\": [33.4465543, 45.2997208]}, {\"type\": \"Point\", \"coordinates\": [33.4498986, 45.3025876]}, {\"type\": \"Point\", \"coordinates\": [33.4525702, 45.3048101]}, {\"type\": \"Point\", \"coordinates\": [33.4544491, 45.3064233]}, {\"type\": \"Point\", \"coordinates\": [33.4547582, 45.3066303]}, {\"type\": \"Point\", \"coordinates\": [33.4566498, 45.3082778]}, {\"type\": \"Point\", \"coordinates\": [33.4585204, 45.3100848]}, {\"type\": \"Point\", \"coordinates\": [33.4624394, 45.3138697]}, {\"type\": \"Point\", \"coordinates\": [33.4660972, 45.3173972]}, {\"type\": \"Point\", \"coordinates\": [33.4692847, 45.3205938]}, {\"type\": \"Point\", \"coordinates\": [33.4725766, 45.3237903]}, {\"type\": \"Point\", \"coordinates\": [33.4754506, 45.3265089]}, {\"type\": \"Point\", \"coordinates\": [33.4767856, 45.3278486]}, {\"type\": \"Point\", \"coordinates\": [33.4771227, 45.3281988]}, {\"type\": \"Point\", \"coordinates\": [33.47822, 45.3293376]}, {\"type\": \"Point\", \"coordinates\": [33.4786707, 45.3299737]}, {\"type\": \"Point\", \"coordinates\": [33.4792311, 45.3309239]}, {\"type\": \"Point\", \"coordinates\": [33.4793696, 45.3310642]}, {\"type\": \"Point\", \"coordinates\": [33.4822436, 45.3354355]}, {\"type\": \"Point\", \"coordinates\": [33.4827845, 45.3362105]}, {\"type\": \"Point\", \"coordinates\": [33.4849608, 45.339586]}, {\"type\": \"Point\", \"coordinates\": [33.4875734, 45.3432588]}, {\"type\": \"Point\", \"coordinates\": [33.4900294, 45.3470416]}, {\"type\": \"Point\", \"coordinates\": [33.4927988, 45.351228]}, {\"type\": \"Point\", \"coordinates\": [33.4944035, 45.3535344]}, {\"type\": \"Point\", \"coordinates\": [33.4953592, 45.3551571]}, {\"type\": \"Point\", \"coordinates\": [33.4973971, 45.3583516]}, {\"type\": \"Point\", \"coordinates\": [33.4978047, 45.3589204]}, {\"type\": \"Point\", \"coordinates\": [33.497774, 45.3588459]}, {\"type\": \"Point\", \"coordinates\": [33.4983899, 45.3596]}, {\"type\": \"Point\", \"coordinates\": [33.4985423, 45.3596758]}, {\"type\": \"Point\", \"coordinates\": [33.4993628, 45.3604172]}, {\"type\": \"Point\", \"coordinates\": [33.499853, 45.3609217]}, {\"type\": \"Point\", \"coordinates\": [33.501521, 45.3623541]}, {\"type\": \"Point\", \"coordinates\": [33.5030742, 45.3637449]}, {\"type\": \"Point\", \"coordinates\": [33.5039156, 45.3644984]}, {\"type\": \"Point\", \"coordinates\": [33.5041901, 45.3647767]}, {\"type\": \"Point\", \"coordinates\": [33.5084226, 45.3686681]}, {\"type\": \"Point\", \"coordinates\": [33.5122894, 45.3721555]}, {\"type\": \"Point\", \"coordinates\": [33.5166787, 45.3761199]}, {\"type\": \"Point\", \"coordinates\": [33.5205455, 45.3796802]}, {\"type\": \"Point\", \"coordinates\": [33.5216911, 45.3805718]}, {\"type\": \"Point\", \"coordinates\": [33.5226879, 45.381552]}, {\"type\": \"Point\", \"coordinates\": [33.5258754, 45.3849285]}, {\"type\": \"Point\", \"coordinates\": [33.5296899, 45.388892]}, {\"type\": \"Point\", \"coordinates\": [33.5320413, 45.3913873]}, {\"type\": \"Point\", \"coordinates\": [33.5328773, 45.3921946]}, {\"type\": \"Point\", \"coordinates\": [33.533138, 45.392544]}, {\"type\": \"Point\", \"coordinates\": [33.5332431, 45.3929652]}, {\"type\": \"Point\", \"coordinates\": [33.5338083, 45.3941592]}, {\"type\": \"Point\", \"coordinates\": [33.5340792, 45.3951668]}, {\"type\": \"Point\", \"coordinates\": [33.4100813, 45.2611148]}, {\"type\": \"Point\", \"coordinates\": [33.4127985, 45.2647191]}, {\"type\": \"Point\", \"coordinates\": [33.4152544, 45.2676245]}, {\"type\": \"Point\", \"coordinates\": [33.4167175, 45.2692058]}, {\"type\": \"Point\", \"coordinates\": [33.4187554, 45.2708974]}, {\"type\": \"Point\", \"coordinates\": [33.4208058, 45.2727047]}, {\"type\": \"Point\", \"coordinates\": [33.420891, 45.2727797]}, {\"type\": \"Point\", \"coordinates\": [33.4226744, 45.2743541]}, {\"type\": \"Point\", \"coordinates\": [33.4256529, 45.2770751]}, {\"type\": \"Point\", \"coordinates\": [33.4294674, 45.2806417]}, {\"type\": \"Point\", \"coordinates\": [33.4326026, 45.2833624]}, {\"type\": \"Point\", \"coordinates\": [33.4336477, 45.2846492]}, {\"type\": \"Point\", \"coordinates\": [33.4345883, 45.2861565]}, {\"type\": \"Point\", \"coordinates\": [33.4350903, 45.2869407]}, {\"type\": \"Point\", \"coordinates\": [33.4351221, 45.2869902]}, {\"type\": \"Point\", \"coordinates\": [33.4372009, 45.2902372]}, {\"type\": \"Point\", \"coordinates\": [33.4384028, 45.2920752]}, {\"type\": \"Point\", \"coordinates\": [33.4397091, 45.2936558]}, {\"type\": \"Point\", \"coordinates\": [33.4409109, 45.2949424]}, {\"type\": \"Point\", \"coordinates\": [33.4424263, 45.2962289]}, {\"type\": \"Point\", \"coordinates\": [33.4465543, 45.2997208]}, {\"type\": \"Point\", \"coordinates\": [33.4498986, 45.3025876]}, {\"type\": \"Point\", \"coordinates\": [33.4525702, 45.3048101]}, {\"type\": \"Point\", \"coordinates\": [33.4544491, 45.3064233]}, {\"type\": \"Point\", \"coordinates\": [33.4547582, 45.3066303]}, {\"type\": \"Point\", \"coordinates\": [33.4566498, 45.3082778]}, {\"type\": \"Point\", \"coordinates\": [33.4585204, 45.3100848]}, {\"type\": \"Point\", \"coordinates\": [33.4624394, 45.3138697]}, {\"type\": \"Point\", \"coordinates\": [33.4660972, 45.3173972]}, {\"type\": \"Point\", \"coordinates\": [33.4692847, 45.3205938]}, {\"type\": \"Point\", \"coordinates\": [33.4725766, 45.3237903]}, {\"type\": \"Point\", \"coordinates\": [33.4754506, 45.3265089]}, {\"type\": \"Point\", \"coordinates\": [33.4767856, 45.3278486]}, {\"type\": \"Point\", \"coordinates\": [33.4771227, 45.3281988]}, {\"type\": \"Point\", \"coordinates\": [33.47822, 45.3293376]}, {\"type\": \"Point\", \"coordinates\": [33.4786707, 45.3299737]}, {\"type\": \"Point\", \"coordinates\": [33.4792311, 45.3309239]}, {\"type\": \"Point\", \"coordinates\": [33.4793696, 45.3310642]}, {\"type\": \"Point\", \"coordinates\": [33.4822436, 45.3354355]}, {\"type\": \"Point\", \"coordinates\": [33.4827845, 45.3362105]}, {\"type\": \"Point\", \"coordinates\": [33.4849608, 45.339586]}, {\"type\": \"Point\", \"coordinates\": [33.4875734, 45.3432588]}, {\"type\": \"Point\", \"coordinates\": [33.4900294, 45.3470416]}, {\"type\": \"Point\", \"coordinates\": [33.4927988, 45.351228]}, {\"type\": \"Point\", \"coordinates\": [33.4944035, 45.3535344]}, {\"type\": \"Point\", \"coordinates\": [33.4953592, 45.3551571]}, {\"type\": \"Point\", \"coordinates\": [33.4973971, 45.3583516]}, {\"type\": \"Point\", \"coordinates\": [33.4978047, 45.3589204]}, {\"type\": \"Point\", \"coordinates\": [33.497774, 45.3588459]}, {\"type\": \"Point\", \"coordinates\": [33.4983899, 45.3596]}, {\"type\": \"Point\", \"coordinates\": [33.4985423, 45.3596758]}, {\"type\": \"Point\", \"coordinates\": [33.4993628, 45.3604172]}, {\"type\": \"Point\", \"coordinates\": [33.499853, 45.3609217]}, {\"type\": \"Point\", \"coordinates\": [33.501521, 45.3623541]}, {\"type\": \"Point\", \"coordinates\": [33.5030742, 45.3637449]}, {\"type\": \"Point\", \"coordinates\": [33.5039156, 45.3644984]}, {\"type\": \"Point\", \"coordinates\": [33.5041901, 45.3647767]}, {\"type\": \"Point\", \"coordinates\": [33.5084226, 45.3686681]}, {\"type\": \"Point\", \"coordinates\": [33.5122894, 45.3721555]}, {\"type\": \"Point\", \"coordinates\": [33.5166787, 45.3761199]}, {\"type\": \"Point\", \"coordinates\": [33.5205455, 45.3796802]}, {\"type\": \"Point\", \"coordinates\": [33.5216911, 45.3805718]}, {\"type\": \"Point\", \"coordinates\": [33.5226879, 45.381552]}, {\"type\": \"Point\", \"coordinates\": [33.5258754, 45.3849285]}, {\"type\": \"Point\", \"coordinates\": [33.5296899, 45.388892]}, {\"type\": \"Point\", \"coordinates\": [33.5320413, 45.3913873]}, {\"type\": \"Point\", \"coordinates\": [33.5328773, 45.3921946]}, {\"type\": \"Point\", \"coordinates\": [33.533138, 45.392544]}, {\"type\": \"Point\", \"coordinates\": [33.5332431, 45.3929652]}, {\"type\": \"Point\", \"coordinates\": [33.5338083, 45.3941592]}, {\"type\": \"Point\", \"coordinates\": [33.5340792, 45.3951668]}, {\"type\": \"Point\", \"coordinates\": [33.3891193, 45.2327707]}, {\"type\": \"Point\", \"coordinates\": [33.3870292, 45.2359721]}, {\"type\": \"Point\", \"coordinates\": [33.3865589, 45.2368184]}, {\"type\": \"Point\", \"coordinates\": [33.3864021, 45.2375175]}, {\"type\": \"Point\", \"coordinates\": [33.3864544, 45.2382902]}, {\"type\": \"Point\", \"coordinates\": [33.3869769, 45.2389525]}, {\"type\": \"Point\", \"coordinates\": [33.388231, 45.2397252]}, {\"type\": \"Point\", \"coordinates\": [33.3906347, 45.240829]}, {\"type\": \"Point\", \"coordinates\": [33.3923068, 45.2416016]}, {\"type\": \"Point\", \"coordinates\": [33.3931951, 45.2420799]}, {\"type\": \"Point\", \"coordinates\": [33.3940312, 45.2428158]}, {\"type\": \"Point\", \"coordinates\": [33.3971141, 45.2452808]}, {\"type\": \"Point\", \"coordinates\": [33.398525, 45.2464949]}, {\"type\": \"Point\", \"coordinates\": [33.3995783, 45.2477252]}, {\"type\": \"Point\", \"coordinates\": [33.401982, 45.2507786]}, {\"type\": \"Point\", \"coordinates\": [33.4049604, 45.2544939]}, {\"type\": \"Point\", \"coordinates\": [33.4078866, 45.2579516]}, {\"type\": \"Point\", \"coordinates\": [33.4100813, 45.2611148]}, {\"type\": \"Point\", \"coordinates\": [33.3952624, 45.2099615]}, {\"type\": \"Point\", \"coordinates\": [33.3981321, 45.2140989]}, {\"type\": \"Point\", \"coordinates\": [33.3978746, 45.2197218]}, {\"type\": \"Point\", \"coordinates\": [33.3891193, 45.2327707]}, {\"type\": \"Point\", \"coordinates\": [33.3870292, 45.2359721]}, {\"type\": \"Point\", \"coordinates\": [33.3865589, 45.2368184]}, {\"type\": \"Point\", \"coordinates\": [33.3864021, 45.2375175]}, {\"type\": \"Point\", \"coordinates\": [33.3864544, 45.2382902]}, {\"type\": \"Point\", \"coordinates\": [33.3869769, 45.2389525]}, {\"type\": \"Point\", \"coordinates\": [33.388231, 45.2397252]}, {\"type\": \"Point\", \"coordinates\": [33.3906347, 45.240829]}, {\"type\": \"Point\", \"coordinates\": [33.3923068, 45.2416016]}, {\"type\": \"Point\", \"coordinates\": [33.3931951, 45.2420799]}, {\"type\": \"Point\", \"coordinates\": [33.3940312, 45.2428158]}, {\"type\": \"Point\", \"coordinates\": [33.3971141, 45.2452808]}, {\"type\": \"Point\", \"coordinates\": [33.398525, 45.2464949]}, {\"type\": \"Point\", \"coordinates\": [33.3995783, 45.2477252]}, {\"type\": \"Point\", \"coordinates\": [33.401982, 45.2507786]}, {\"type\": \"Point\", \"coordinates\": [33.4049604, 45.2544939]}, {\"type\": \"Point\", \"coordinates\": [33.4078866, 45.2579516]}, {\"type\": \"Point\", \"coordinates\": [33.4100813, 45.2611148]}, {\"type\": \"Point\", \"coordinates\": [33.3950534, 45.2099799]}, {\"type\": \"Point\", \"coordinates\": [33.3961049, 45.2112989]}, {\"type\": \"Point\", \"coordinates\": [33.5340792, 45.3951668]}, {\"type\": \"Point\", \"coordinates\": [33.5355423, 45.3990562]}, {\"type\": \"Point\", \"coordinates\": [33.5362216, 45.4007439]}, {\"type\": \"Point\", \"coordinates\": [33.5371621, 45.4025417]}, {\"type\": \"Point\", \"coordinates\": [33.538573, 45.4052199]}, {\"type\": \"Point\", \"coordinates\": [33.5402451, 45.4082281]}, {\"type\": \"Point\", \"coordinates\": [33.5426488, 45.4124467]}, {\"type\": \"Point\", \"coordinates\": [33.5450524, 45.4164816]}, {\"type\": \"Point\", \"coordinates\": [33.5476129, 45.4208096]}, {\"type\": \"Point\", \"coordinates\": [33.5501211, 45.4249172]}, {\"type\": \"Point\", \"coordinates\": [33.5517409, 45.4277777]}, {\"type\": \"Point\", \"coordinates\": [33.5529427, 45.4292079]}, {\"type\": \"Point\", \"coordinates\": [33.5562347, 45.4326182]}, {\"type\": \"Point\", \"coordinates\": [33.5588474, 45.4353316]}, {\"type\": \"Point\", \"coordinates\": [33.5603628, 45.4370916]}, {\"type\": \"Point\", \"coordinates\": [33.5633412, 45.4407947]}, {\"type\": \"Point\", \"coordinates\": [33.5666855, 45.4451209]}, {\"type\": \"Point\", \"coordinates\": [33.5700819, 45.4493734]}, {\"type\": \"Point\", \"coordinates\": [33.5731127, 45.453259]}, {\"type\": \"Point\", \"coordinates\": [33.5758821, 45.4566678]}, {\"type\": \"Point\", \"coordinates\": [33.5776065, 45.4589769]}, {\"type\": \"Point\", \"coordinates\": [33.57792, 45.45971]}, {\"type\": \"Point\", \"coordinates\": [33.5780245, 45.460443]}, {\"type\": \"Point\", \"coordinates\": [33.5783903, 45.461066]}, {\"type\": \"Point\", \"coordinates\": [33.5821003, 45.4661236]}, {\"type\": \"Point\", \"coordinates\": [33.5858625, 45.4714371]}, {\"type\": \"Point\", \"coordinates\": [33.5889978, 45.4757976]}, {\"type\": \"Point\", \"coordinates\": [33.5915059, 45.4794615]}, {\"type\": \"Point\", \"coordinates\": [33.5944321, 45.4834916]}, {\"type\": \"Point\", \"coordinates\": [33.5969403, 45.4870452]}, {\"type\": \"Point\", \"coordinates\": [33.5996053, 45.4906718]}, {\"type\": \"Point\", \"coordinates\": [33.6019567, 45.4937487]}, {\"type\": \"Point\", \"coordinates\": [33.5340792, 45.3951668]}, {\"type\": \"Point\", \"coordinates\": [33.5355423, 45.3990562]}, {\"type\": \"Point\", \"coordinates\": [33.5362216, 45.4007439]}, {\"type\": \"Point\", \"coordinates\": [33.5371621, 45.4025417]}, {\"type\": \"Point\", \"coordinates\": [33.538573, 45.4052199]}, {\"type\": \"Point\", \"coordinates\": [33.5402451, 45.4082281]}, {\"type\": \"Point\", \"coordinates\": [33.5426488, 45.4124467]}, {\"type\": \"Point\", \"coordinates\": [33.5450524, 45.4164816]}, {\"type\": \"Point\", \"coordinates\": [33.5476129, 45.4208096]}, {\"type\": \"Point\", \"coordinates\": [33.5501211, 45.4249172]}, {\"type\": \"Point\", \"coordinates\": [33.5517409, 45.4277777]}, {\"type\": \"Point\", \"coordinates\": [33.5529427, 45.4292079]}, {\"type\": \"Point\", \"coordinates\": [33.5562347, 45.4326182]}, {\"type\": \"Point\", \"coordinates\": [33.5588474, 45.4353316]}, {\"type\": \"Point\", \"coordinates\": [33.5603628, 45.4370916]}, {\"type\": \"Point\", \"coordinates\": [33.5633412, 45.4407947]}, {\"type\": \"Point\", \"coordinates\": [33.5666855, 45.4451209]}, {\"type\": \"Point\", \"coordinates\": [33.5700819, 45.4493734]}, {\"type\": \"Point\", \"coordinates\": [33.5731127, 45.453259]}, {\"type\": \"Point\", \"coordinates\": [33.5758821, 45.4566678]}, {\"type\": \"Point\", \"coordinates\": [33.5776065, 45.4589769]}, {\"type\": \"Point\", \"coordinates\": [33.57792, 45.45971]}, {\"type\": \"Point\", \"coordinates\": [33.5780245, 45.460443]}, {\"type\": \"Point\", \"coordinates\": [33.5783903, 45.461066]}, {\"type\": \"Point\", \"coordinates\": [33.5821003, 45.4661236]}, {\"type\": \"Point\", \"coordinates\": [33.5858625, 45.4714371]}, {\"type\": \"Point\", \"coordinates\": [33.5889978, 45.4757976]}, {\"type\": \"Point\", \"coordinates\": [33.5915059, 45.4794615]}, {\"type\": \"Point\", \"coordinates\": [33.5944321, 45.4834916]}, {\"type\": \"Point\", \"coordinates\": [33.5969403, 45.4870452]}, {\"type\": \"Point\", \"coordinates\": [33.5996053, 45.4906718]}, {\"type\": \"Point\", \"coordinates\": [33.6019567, 45.4937487]}, {\"type\": \"Point\", \"coordinates\": [33.5340792, 45.3951668]}, {\"type\": \"Point\", \"coordinates\": [33.5355423, 45.3990562]}, {\"type\": \"Point\", \"coordinates\": [33.5362216, 45.4007439]}, {\"type\": \"Point\", \"coordinates\": [33.5371621, 45.4025417]}, {\"type\": \"Point\", \"coordinates\": [33.538573, 45.4052199]}, {\"type\": \"Point\", \"coordinates\": [33.5402451, 45.4082281]}, {\"type\": \"Point\", \"coordinates\": [33.5426488, 45.4124467]}, {\"type\": \"Point\", \"coordinates\": [33.5450524, 45.4164816]}, {\"type\": \"Point\", \"coordinates\": [33.5476129, 45.4208096]}, {\"type\": \"Point\", \"coordinates\": [33.5501211, 45.4249172]}, {\"type\": \"Point\", \"coordinates\": [33.5517409, 45.4277777]}, {\"type\": \"Point\", \"coordinates\": [33.5529427, 45.4292079]}, {\"type\": \"Point\", \"coordinates\": [33.5562347, 45.4326182]}, {\"type\": \"Point\", \"coordinates\": [33.5588474, 45.4353316]}, {\"type\": \"Point\", \"coordinates\": [33.5603628, 45.4370916]}, {\"type\": \"Point\", \"coordinates\": [33.5633412, 45.4407947]}, {\"type\": \"Point\", \"coordinates\": [33.5666855, 45.4451209]}, {\"type\": \"Point\", \"coordinates\": [33.5700819, 45.4493734]}, {\"type\": \"Point\", \"coordinates\": [33.5706344, 45.4500817]}, {\"type\": \"Point\", \"coordinates\": [33.5340792, 45.3951668]}, {\"type\": \"Point\", \"coordinates\": [33.5355423, 45.3990562]}, {\"type\": \"Point\", \"coordinates\": [33.5362216, 45.4007439]}, {\"type\": \"Point\", \"coordinates\": [33.5371621, 45.4025417]}, {\"type\": \"Point\", \"coordinates\": [33.538573, 45.4052199]}, {\"type\": \"Point\", \"coordinates\": [33.5402451, 45.4082281]}, {\"type\": \"Point\", \"coordinates\": [33.5426488, 45.4124467]}, {\"type\": \"Point\", \"coordinates\": [33.5450524, 45.4164816]}, {\"type\": \"Point\", \"coordinates\": [33.5476129, 45.4208096]}, {\"type\": \"Point\", \"coordinates\": [33.5501211, 45.4249172]}, {\"type\": \"Point\", \"coordinates\": [33.5517409, 45.4277777]}, {\"type\": \"Point\", \"coordinates\": [33.5529427, 45.4292079]}, {\"type\": \"Point\", \"coordinates\": [33.5562347, 45.4326182]}, {\"type\": \"Point\", \"coordinates\": [33.5588474, 45.4353316]}, {\"type\": \"Point\", \"coordinates\": [33.5603628, 45.4370916]}, {\"type\": \"Point\", \"coordinates\": [33.5633412, 45.4407947]}, {\"type\": \"Point\", \"coordinates\": [33.5666855, 45.4451209]}, {\"type\": \"Point\", \"coordinates\": [33.5700819, 45.4493734]}, {\"type\": \"Point\", \"coordinates\": [33.5706344, 45.4500817]}, {\"type\": \"Point\", \"coordinates\": [33.5340792, 45.3951668]}, {\"type\": \"Point\", \"coordinates\": [33.5355423, 45.3990562]}, {\"type\": \"Point\", \"coordinates\": [33.5362216, 45.4007439]}, {\"type\": \"Point\", \"coordinates\": [33.5371621, 45.4025417]}, {\"type\": \"Point\", \"coordinates\": [33.538573, 45.4052199]}, {\"type\": \"Point\", \"coordinates\": [33.5402451, 45.4082281]}, {\"type\": \"Point\", \"coordinates\": [33.5426488, 45.4124467]}, {\"type\": \"Point\", \"coordinates\": [33.5450524, 45.4164816]}, {\"type\": \"Point\", \"coordinates\": [33.5476129, 45.4208096]}, {\"type\": \"Point\", \"coordinates\": [33.5501211, 45.4249172]}, {\"type\": \"Point\", \"coordinates\": [33.5517409, 45.4277777]}, {\"type\": \"Point\", \"coordinates\": [33.5522359, 45.4283666]}, {\"type\": \"Point\", \"coordinates\": [33.5529427, 45.4292079]}, {\"type\": \"Point\", \"coordinates\": [33.5562347, 45.4326182]}, {\"type\": \"Point\", \"coordinates\": [33.5588474, 45.4353316]}, {\"type\": \"Point\", \"coordinates\": [33.5603628, 45.4370916]}, {\"type\": \"Point\", \"coordinates\": [33.5633412, 45.4407947]}, {\"type\": \"Point\", \"coordinates\": [33.5666855, 45.4451209]}, {\"type\": \"Point\", \"coordinates\": [33.5700819, 45.4493734]}, {\"type\": \"Point\", \"coordinates\": [33.5706344, 45.4500817]}, {\"type\": \"Point\", \"coordinates\": [33.5340792, 45.3951668]}, {\"type\": \"Point\", \"coordinates\": [33.5355423, 45.3990562]}, {\"type\": \"Point\", \"coordinates\": [33.5362216, 45.4007439]}, {\"type\": \"Point\", \"coordinates\": [33.5364318, 45.401171]}, {\"type\": \"Point\", \"coordinates\": [33.5371621, 45.4025417]}, {\"type\": \"Point\", \"coordinates\": [33.538573, 45.4052199]}, {\"type\": \"Point\", \"coordinates\": [33.5402451, 45.4082281]}, {\"type\": \"Point\", \"coordinates\": [33.5426488, 45.4124467]}, {\"type\": \"Point\", \"coordinates\": [33.5450524, 45.4164816]}, {\"type\": \"Point\", \"coordinates\": [33.5476129, 45.4208096]}, {\"type\": \"Point\", \"coordinates\": [33.5501211, 45.4249172]}, {\"type\": \"Point\", \"coordinates\": [33.5517409, 45.4277777]}, {\"type\": \"Point\", \"coordinates\": [33.5522359, 45.4283666]}, {\"type\": \"Point\", \"coordinates\": [33.5529427, 45.4292079]}, {\"type\": \"Point\", \"coordinates\": [33.5562347, 45.4326182]}, {\"type\": \"Point\", \"coordinates\": [33.5588474, 45.4353316]}, {\"type\": \"Point\", \"coordinates\": [33.5603628, 45.4370916]}, {\"type\": \"Point\", \"coordinates\": [33.5633412, 45.4407947]}, {\"type\": \"Point\", \"coordinates\": [33.5666855, 45.4451209]}, {\"type\": \"Point\", \"coordinates\": [33.5700819, 45.4493734]}, {\"type\": \"Point\", \"coordinates\": [33.5706344, 45.4500817]}, {\"type\": \"Point\", \"coordinates\": [33.5340792, 45.3951668]}, {\"type\": \"Point\", \"coordinates\": [33.5355423, 45.3990562]}, {\"type\": \"Point\", \"coordinates\": [33.5362216, 45.4007439]}, {\"type\": \"Point\", \"coordinates\": [33.5364318, 45.401171]}, {\"type\": \"Point\", \"coordinates\": [33.5371621, 45.4025417]}, {\"type\": \"Point\", \"coordinates\": [33.538573, 45.4052199]}, {\"type\": \"Point\", \"coordinates\": [33.5402451, 45.4082281]}, {\"type\": \"Point\", \"coordinates\": [33.5426488, 45.4124467]}, {\"type\": \"Point\", \"coordinates\": [33.5450524, 45.4164816]}, {\"type\": \"Point\", \"coordinates\": [33.5476129, 45.4208096]}, {\"type\": \"Point\", \"coordinates\": [33.5501211, 45.4249172]}, {\"type\": \"Point\", \"coordinates\": [33.5517409, 45.4277777]}, {\"type\": \"Point\", \"coordinates\": [33.5522359, 45.4283666]}, {\"type\": \"Point\", \"coordinates\": [33.5529427, 45.4292079]}, {\"type\": \"Point\", \"coordinates\": [33.5562347, 45.4326182]}, {\"type\": \"Point\", \"coordinates\": [33.5588474, 45.4353316]}, {\"type\": \"Point\", \"coordinates\": [33.5603628, 45.4370916]}, {\"type\": \"Point\", \"coordinates\": [33.5633412, 45.4407947]}, {\"type\": \"Point\", \"coordinates\": [33.5666855, 45.4451209]}, {\"type\": \"Point\", \"coordinates\": [33.5700819, 45.4493734]}, {\"type\": \"Point\", \"coordinates\": [33.5705542, 45.4500287]}, {\"type\": \"Point\", \"coordinates\": [33.5706344, 45.4500817]}, {\"type\": \"Point\", \"coordinates\": [33.5340792, 45.3951668]}, {\"type\": \"Point\", \"coordinates\": [33.5355423, 45.3990562]}, {\"type\": \"Point\", \"coordinates\": [33.5362216, 45.4007439]}, {\"type\": \"Point\", \"coordinates\": [33.5364318, 45.401171]}, {\"type\": \"Point\", \"coordinates\": [33.5371621, 45.4025417]}, {\"type\": \"Point\", \"coordinates\": [33.538573, 45.4052199]}, {\"type\": \"Point\", \"coordinates\": [33.5402451, 45.4082281]}, {\"type\": \"Point\", \"coordinates\": [33.5426488, 45.4124467]}, {\"type\": \"Point\", \"coordinates\": [33.5450524, 45.4164816]}, {\"type\": \"Point\", \"coordinates\": [33.5476129, 45.4208096]}, {\"type\": \"Point\", \"coordinates\": [33.5501211, 45.4249172]}, {\"type\": \"Point\", \"coordinates\": [33.5517409, 45.4277777]}, {\"type\": \"Point\", \"coordinates\": [33.5522359, 45.4283666]}, {\"type\": \"Point\", \"coordinates\": [33.5529427, 45.4292079]}, {\"type\": \"Point\", \"coordinates\": [33.5562347, 45.4326182]}, {\"type\": \"Point\", \"coordinates\": [33.5573027, 45.4337067]}, {\"type\": \"Point\", \"coordinates\": [33.5576214, 45.4340361]}, {\"type\": \"Point\", \"coordinates\": [33.5588474, 45.4353316]}, {\"type\": \"Point\", \"coordinates\": [33.5603628, 45.4370916]}, {\"type\": \"Point\", \"coordinates\": [33.5633412, 45.4407947]}, {\"type\": \"Point\", \"coordinates\": [33.5666855, 45.4451209]}, {\"type\": \"Point\", \"coordinates\": [33.5700819, 45.4493734]}, {\"type\": \"Point\", \"coordinates\": [33.5705542, 45.4500287]}, {\"type\": \"Point\", \"coordinates\": [33.5706344, 45.4500817]}, {\"type\": \"Point\", \"coordinates\": [33.5340792, 45.3951668]}, {\"type\": \"Point\", \"coordinates\": [33.5355423, 45.3990562]}, {\"type\": \"Point\", \"coordinates\": [33.5362216, 45.4007439]}, {\"type\": \"Point\", \"coordinates\": [33.5364318, 45.401171]}, {\"type\": \"Point\", \"coordinates\": [33.5371621, 45.4025417]}, {\"type\": \"Point\", \"coordinates\": [33.538573, 45.4052199]}, {\"type\": \"Point\", \"coordinates\": [33.5402451, 45.4082281]}, {\"type\": \"Point\", \"coordinates\": [33.5426488, 45.4124467]}, {\"type\": \"Point\", \"coordinates\": [33.5450524, 45.4164816]}, {\"type\": \"Point\", \"coordinates\": [33.5461944, 45.4184031]}, {\"type\": \"Point\", \"coordinates\": [33.546668, 45.4192386]}, {\"type\": \"Point\", \"coordinates\": [33.5476129, 45.4208096]}, {\"type\": \"Point\", \"coordinates\": [33.549685, 45.4243014]}, {\"type\": \"Point\", \"coordinates\": [33.5501211, 45.4249172]}, {\"type\": \"Point\", \"coordinates\": [33.5517409, 45.4277777]}, {\"type\": \"Point\", \"coordinates\": [33.5522359, 45.4283666]}, {\"type\": \"Point\", \"coordinates\": [33.5529427, 45.4292079]}, {\"type\": \"Point\", \"coordinates\": [33.5562347, 45.4326182]}, {\"type\": \"Point\", \"coordinates\": [33.5573027, 45.4337067]}, {\"type\": \"Point\", \"coordinates\": [33.5576214, 45.4340361]}, {\"type\": \"Point\", \"coordinates\": [33.5588474, 45.4353316]}, {\"type\": \"Point\", \"coordinates\": [33.5603628, 45.4370916]}, {\"type\": \"Point\", \"coordinates\": [33.5633412, 45.4407947]}, {\"type\": \"Point\", \"coordinates\": [33.5666855, 45.4451209]}, {\"type\": \"Point\", \"coordinates\": [33.5700819, 45.4493734]}, {\"type\": \"Point\", \"coordinates\": [33.5705542, 45.4500287]}, {\"type\": \"Point\", \"coordinates\": [33.5706344, 45.4500817]}, {\"type\": \"Point\", \"coordinates\": [33.5340792, 45.3951668]}, {\"type\": \"Point\", \"coordinates\": [33.5355423, 45.3990562]}, {\"type\": \"Point\", \"coordinates\": [33.5362216, 45.4007439]}, {\"type\": \"Point\", \"coordinates\": [33.5364318, 45.401171]}, {\"type\": \"Point\", \"coordinates\": [33.5371621, 45.4025417]}, {\"type\": \"Point\", \"coordinates\": [33.538573, 45.4052199]}, {\"type\": \"Point\", \"coordinates\": [33.5402451, 45.4082281]}, {\"type\": \"Point\", \"coordinates\": [33.5426488, 45.4124467]}, {\"type\": \"Point\", \"coordinates\": [33.5450524, 45.4164816]}, {\"type\": \"Point\", \"coordinates\": [33.5461944, 45.4184031]}, {\"type\": \"Point\", \"coordinates\": [33.546668, 45.4192386]}, {\"type\": \"Point\", \"coordinates\": [33.5476129, 45.4208096]}, {\"type\": \"Point\", \"coordinates\": [33.549685, 45.4243014]}, {\"type\": \"Point\", \"coordinates\": [33.5501211, 45.4249172]}, {\"type\": \"Point\", \"coordinates\": [33.5517409, 45.4277777]}, {\"type\": \"Point\", \"coordinates\": [33.5522359, 45.4283666]}, {\"type\": \"Point\", \"coordinates\": [33.5529427, 45.4292079]}, {\"type\": \"Point\", \"coordinates\": [33.5562347, 45.4326182]}, {\"type\": \"Point\", \"coordinates\": [33.5573027, 45.4337067]}, {\"type\": \"Point\", \"coordinates\": [33.5576214, 45.4340361]}, {\"type\": \"Point\", \"coordinates\": [33.5588474, 45.4353316]}, {\"type\": \"Point\", \"coordinates\": [33.5603628, 45.4370916]}, {\"type\": \"Point\", \"coordinates\": [33.5633412, 45.4407947]}, {\"type\": \"Point\", \"coordinates\": [33.5666855, 45.4451209]}, {\"type\": \"Point\", \"coordinates\": [33.5700819, 45.4493734]}, {\"type\": \"Point\", \"coordinates\": [33.5705542, 45.4500287]}, {\"type\": \"Point\", \"coordinates\": [33.5706344, 45.4500817]}, {\"type\": \"Point\", \"coordinates\": [33.6019567, 45.4937487]}, {\"type\": \"Point\", \"coordinates\": [33.6077568, 45.4923568]}, {\"type\": \"Point\", \"coordinates\": [33.6085406, 45.4926132]}, {\"type\": \"Point\", \"coordinates\": [33.6116758, 45.4959098]}, {\"type\": \"Point\", \"coordinates\": [33.6123551, 45.4963859]}, {\"type\": \"Point\", \"coordinates\": [33.6171625, 45.4962394]}, {\"type\": \"Point\", \"coordinates\": [33.6233807, 45.4960197]}, {\"type\": \"Point\", \"coordinates\": [33.6299124, 45.4957266]}, {\"type\": \"Point\", \"coordinates\": [33.6382729, 45.4952505]}, {\"type\": \"Point\", \"coordinates\": [33.646947, 45.494701]}, {\"type\": \"Point\", \"coordinates\": [33.6548896, 45.4943348]}, {\"type\": \"Point\", \"coordinates\": [33.6613168, 45.4939318]}, {\"type\": \"Point\", \"coordinates\": [33.6657061, 45.4936388]}, {\"type\": \"Point\", \"coordinates\": [33.6665944, 45.4938586]}, {\"type\": \"Point\", \"coordinates\": [33.667744, 45.4943714]}, {\"type\": \"Point\", \"coordinates\": [33.6687368, 45.4948476]}, {\"type\": \"Point\", \"coordinates\": [33.6698864, 45.4951772]}, {\"type\": \"Point\", \"coordinates\": [33.6719765, 45.4952138]}, {\"type\": \"Point\", \"coordinates\": [33.6792921, 45.4952505]}, {\"type\": \"Point\", \"coordinates\": [33.6855102, 45.4952138]}, {\"type\": \"Point\", \"coordinates\": [33.6923555, 45.4952871]}], \"type\": \"GeometryCollection\"}'"
      ]
     },
     "execution_count": 244,
     "metadata": {},
     "output_type": "execute_result"
    }
   ],
   "source": [
    "json.dumps({\"type\":\"GeometryCollection\", \"geometries\" : [mapping(p) for p in points[:1000]]})"
   ]
  },
  {
   "cell_type": "code",
   "execution_count": null,
   "metadata": {
    "collapsed": true
   },
   "outputs": [],
   "source": []
  }
 ],
 "metadata": {
  "kernelspec": {
   "display_name": "IPython (Python 3)",
   "language": "python",
   "name": "python3"
  },
  "language_info": {
   "codemirror_mode": {
    "name": "ipython",
    "version": 3
   },
   "file_extension": ".py",
   "mimetype": "text/x-python",
   "name": "python",
   "nbconvert_exporter": "python",
   "pygments_lexer": "ipython3",
   "version": "3.4.3"
  }
 },
 "nbformat": 4,
 "nbformat_minor": 1
}
