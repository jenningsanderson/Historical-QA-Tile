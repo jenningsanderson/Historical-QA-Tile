{
 "cells": [
  {
   "cell_type": "code",
   "execution_count": 7,
   "metadata": {
    "collapsed": false
   },
   "outputs": [
    {
     "data": {
      "text/plain": [
       "undefined"
      ]
     },
     "execution_count": 7,
     "metadata": {},
     "output_type": "execute_result"
    }
   ],
   "source": [
    "var obj = JSON.parse('{\"users\":{\"Oberaffe\":1,\"brogo\":1,\"fx99\":1,\"Geofreund1\":1,\"shashish\":1,\"marek kleciak\":1,\"venza\":1,\"JeffH\":1,\"Rub21\":1,\"momobites\":1,\"amritkarma\":1,\"Poshan\":1,\"sureshmdhr\":1,\"Manoj-OSMNepal\":1,\"Helina\":1,\"shangharsha\":1,\"suman bikram\":1,\"Niru Pradhan\":1,\"FreedSky\":1,\"Sushmita Timilslna\":1,\"ediyes\":1,\"MeghaShrestha\":1,\"Thapa Manisha\":1,\"Sushant123\":1,\"girija\":1,\"bidurnkb\":1,\"sumes\":1,\"Test360\":1,\"jgpacker\":1,\"luschi\":1,\"Manoj Shah123\":1,\"suroj\":1,\"Abhishek Dhungel\":1,\"Rajeev Gyawali\":1,\"sristi1\":1,\"Karkiroshan\":1,\"Durga Pd Ojha\":1,\"basu999\":1,\"friendmebipul\":1,\"OMapEnthusiast\":1,\"Shushant\":1,\"Kristan Shrestha\":1,\"Ashish Koirala1234\":1,\"Kiran5\":1,\"prazool adhikari\":1,\"Ujjwal palanchoke\":1,\"Ashish Koirala4\":1,\"kuxlandija\":1}}')"
   ]
  },
  {
   "cell_type": "code",
   "execution_count": 13,
   "metadata": {
    "collapsed": false
   },
   "outputs": [
    {
     "data": {
      "text/plain": [
       "48"
      ]
     },
     "execution_count": 13,
     "metadata": {},
     "output_type": "execute_result"
    }
   ],
   "source": [
    "Object.keys(obj.users).length"
   ]
  },
  {
   "cell_type": "markdown",
   "metadata": {},
   "source": [
    "34km of named roads / 82.8 by 48 users ()"
   ]
  },
  {
   "cell_type": "code",
   "execution_count": 14,
   "metadata": {
    "collapsed": false
   },
   "outputs": [
    {
     "data": {
      "text/plain": [
       "undefined"
      ]
     },
     "execution_count": 14,
     "metadata": {},
     "output_type": "execute_result"
    }
   ],
   "source": [
    "var obj2 = JSON.parse('{\"users\":{\"Ka-Ka\":1,\"garaolaza\":1,\"milovanderlinden\":1,\"cybic\":1,\"Hartmut Holzgraefe\":1,\"bahnpirat\":1,\"lucadelu\":1,\"patzi\":1,\"sfrank\":1,\"Claudius Henrichs\":1,\"tiso\":1,\"napo\":1,\"Athemis\":1,\"hatochan\":1,\"richardbrinkman\":1,\"mcyc\":1,\"seichter\":1,\"vogelfreier\":1,\"Svalbard\":1,\"Heinz_V\":1,\"techlady\":1,\"maggot27\":1,\"Matteo Quatrida\":1,\"Scare!\":1,\"woodpeck_repair\":1,\"keithonearth\":1,\"CloCkWeRX\":1,\"Manu1400\":1,\"magnunor\":1,\"KeumpSeattle\":1,\"wambacher\":1,\"sev_hotosm\":1,\"PierZen\":1,\"shashish\":1,\"DF45\":1,\"Dr Kludge\":1,\"marek kleciak\":1,\"mahesh thapa\":1,\"Hans Wurst\":1,\"bgirardot\":1,\"maxerickson\":1,\"Cascafico\":1,\"NCC-1701\":1,\"Kostik\":1,\"bdiscoe\":1,\"Data411\":1,\"u_kubota\":1,\"Gummiaffe\":1,\"ngt\":1,\"iWowik\":1,\"Rub21\":1,\"ninjamask\":1,\"Natfoot\":1,\"jamacho\":1,\"msdess\":1,\"mueschel\":1,\"joehand\":1,\"amritkarma\":1,\"下り専門\":1,\"Super-Map\":1,\"LordOfMaps\":1,\"austi1996\":1,\"jacquestardie\":1,\"TKE-waka\":1,\"Max1234-ITA\":1,\"Kretzer\":1,\"MMoreno\":1,\"jwalseth\":1,\"shravan91\":1,\"Milli1201\":1,\"ryanbank\":1,\"jporto\":1,\"ediyes\":1,\"isabellekh\":1,\"foxrobs\":1,\"彭小五\":1,\"4rch\":1,\"Jacek_str\":1,\"gnuggi\":1,\"bsmith54\":1,\"kou_kita\":1,\"VrindaM\":1,\"Piazetta\":1,\"DeBigC\":1,\"Agatefilm\":1,\"sokusetu-osm\":1,\"biplovparajuli\":1,\"srividya_c\":1,\"Emmece\":1,\"RichRico\":1,\"dannykath\":1,\"vichada\":1,\"hebolz\":1,\"Kristan Shrestha\":1,\"Eysler\":1,\"-Christoph-\":1,\"Rhizomes\":1,\"Khym\":1,\"etajin\":1,\"calfarome\":1,\"samely\":1,\"gurlsam\":1,\"tasauf1980\":1,\"jlcod\":1,\"ChristyToes\":1,\"iharada\":1,\"idjih\":1,\"odkrywczyni\":1,\"mayra!\":1,\"james1652\":1,\"EmB-E\":1,\"maddieday\":1,\"GoUtes!\":1,\"karitotp\":1,\"Samir Luintel\":1,\"osm-953\":1,\"shioriko\":1,\"not lonely\":1,\"AlbusC\":1,\"kuo Cobo\":1,\"Testperson\":1,\"Fredrik Bergstrand\":1,\"Shushuf\":1,\"Katja Ulbert\":1,\"gregledingham7\":1,\"tinymoon3210\":1,\"on9+pk\":1,\"dhinjjam\":1,\"Jaouen20\":1,\"lricobeck\":1,\"Iktaminika\":1,\"CowtownBassGirl\":1,\"Chloe_Barnes\":1,\"geo51\":1,\"cjdavi11\":1,\"kantien\":1,\"Sophiathina\":1,\"ganeshanh\":1,\"vitopepito\":1,\"rdyess41\":1,\"Jim Aycock\":1,\"Chad Gagnier\":1,\"Brissia\":1,\"spurs1999\":1,\"eric123rod\":1,\"Mergoos\":1,\"sujanadh\":1,\"AnjanSapkota\":1,\"12marina9\":1,\"Omry\":1,\"johisg11\":1,\"gabry501\":1,\"Mohammad Reza Hamid Lak Zaeiyan\":1,\"bartleandy\":1,\"Mari-etta\":1,\"André Hoek\":1,\"SietskeT\":1,\"Steve Pack\":1,\"amandanectar\":1,\"Wertulen\":1,\"Pimail Project\":1,\"ianchen_82\":1,\"SBella\":1,\"BProkopowicz\":1,\"indy83\":1,\"sgrimes\":1,\"Aidan Magee\":1,\"sauree\":1,\"FinnMiller\":1,\"ShreyaPokharel\":1,\"Krisztián620\":1,\"Shyma Abdul Latheef\":1,\"Sianski\":1,\"Marie Dette\":1,\"goodhen\":1,\"DayTobite\":1,\"Takács Zsolt\":1,\"OnceUpon\":1,\"Mufana\":1,\"MuckaG\":1,\"Nekko\":1,\"westdale\":1,\"LizaFarr\":1,\"Tylon585\":1,\"apamo\":1,\"Saliha Abubakr\":1,\"KHoffman13\":1,\"Manish Kokh\":1,\"nicenicenice\":1,\"Lynnss\":1,\"Koozithing\":1,\"edgarbaculi\":1,\"kpong\":1,\"Nandee87\":1,\"hunterellens\":1,\"lamoaat\":1,\"Anith\":1,\"Ruru2\":1,\"Sebastian H\":1,\"stenico115\":1,\"xtronix\":1,\"stoberbauer\":1,\"Art10\":1,\"Hugo-FR\":1,\"Lisa_001\":1,\"thijsradijs\":1,\"SpaiasLazaros\":1,\"tombewernick\":1,\"SarahCarter\":1,\"Sammartindelc\":1,\"alvaro_lau\":1,\"Mistae\":1,\"Keenan Joseph Fuller\":1,\"wingshadoww Lam\":1,\"Shreeram Dhakal\":1,\"lknutsen\":1,\"Rúben Octávio\":1,\"nlac24\":1,\"Kopila Shrestha\":1,\"amirrajgiri\":1}}')"
   ]
  },
  {
   "cell_type": "code",
   "execution_count": 15,
   "metadata": {
    "collapsed": false
   },
   "outputs": [
    {
     "data": {
      "text/plain": [
       "220"
      ]
     },
     "execution_count": 15,
     "metadata": {},
     "output_type": "execute_result"
    }
   ],
   "source": [
    "Object.keys(obj2.users).length"
   ]
  },
  {
   "cell_type": "markdown",
   "metadata": {},
   "source": [
    "49km of named roads / 433 km by 220 users"
   ]
  },
  {
   "cell_type": "code",
   "execution_count": null,
   "metadata": {
    "collapsed": true
   },
   "outputs": [],
   "source": []
  }
 ],
 "metadata": {
  "kernelspec": {
   "display_name": "Javascript (Node.js)",
   "language": "javascript",
   "name": "javascript"
  },
  "language_info": {
   "file_extension": ".js",
   "mimetype": "application/javascript",
   "name": "javascript",
   "version": "6.4.0"
  }
 },
 "nbformat": 4,
 "nbformat_minor": 1
}
