{
 "cells": [
  {
   "cell_type": "markdown",
   "metadata": {},
   "source": [
    "# Using _osmium_ to count features in Nepal"
   ]
  },
  {
   "cell_type": "code",
   "execution_count": 2,
   "metadata": {
    "collapsed": true
   },
   "outputs": [],
   "source": [
    "import osmium as o\n",
    "import numpy as np\n",
    "import sys, os, json, pprint, copy\n",
    "from collections import Counter"
   ]
  },
  {
   "cell_type": "code",
   "execution_count": 8,
   "metadata": {
    "collapsed": false
   },
   "outputs": [],
   "source": [
    "class FileHandler(o.SimpleHandler):                                                                                           \n",
    "    def __init__(self):\n",
    "        o.SimpleHandler.__init__(self)                                                                                              \n",
    "        self.w_cnt = 0\n",
    "        self.n_cnt = 0\n",
    "\n",
    "#     def node(self, n):\n",
    "#         '''\n",
    "#             Only save nodes which have extra attributes...\n",
    "#             TODO: If the first version of a node has 0 tags, but version 2 has tags, then version 1 may not show up in the history... maybe?\n",
    "#         '''\n",
    "#         self.n_cnt +=1\n",
    "#         if n.id in nodes:\n",
    "#             nodes[n.id].add(n)\n",
    "#         elif len(n.tags)>0:\n",
    "#             nodes[n.id] = Node(n)\n",
    "            \n",
    "#         #Cache these locations:\n",
    "#         if n.id not in node_locations:\n",
    "#             node_locations[n.id] = []\n",
    "\n",
    "#         node_locations[n.id].append({\n",
    "#                 'v':n.version,\n",
    "#                 'c':n.changeset,\n",
    "#                 'g':[n.location.lon, n.location.lat]\n",
    "#             })\n",
    "        \n",
    "#         if self.n_cnt%10000==0:\n",
    "#             sys.stderr.write(\"\\r{0} nodes processed\".format(self.n_cnt))\n",
    "\n",
    "    def way(self, w):\n",
    "        self.w_cnt += 1\n",
    "    \n",
    "        if w.id in ways: \n",
    "            ways[w.id] += 1\n",
    "        else:\n",
    "            ways[w.id] = 1\n",
    "        if self.w_cnt%1000==0:\n",
    "            sys.stderr.write(\"\\r{0} ways processed\".format(self.w_cnt))"
   ]
  },
  {
   "cell_type": "markdown",
   "metadata": {},
   "source": [
    "Run the handler to create the objects"
   ]
  },
  {
   "cell_type": "markdown",
   "metadata": {},
   "source": [
    "## Now process the objects"
   ]
  },
  {
   "cell_type": "code",
   "execution_count": 9,
   "metadata": {
    "collapsed": false
   },
   "outputs": [
    {
     "name": "stderr",
     "output_type": "stream",
     "text": [
      "3185000 ways processed"
     ]
    }
   ],
   "source": [
    "node_locations = {}\n",
    "nodes = dict({})\n",
    "ways  = dict({})\n",
    "h = FileHandler()\n",
    "h.apply_file('/data/osm/nepal.osh.pbf', locations=False)"
   ]
  },
  {
   "cell_type": "code",
   "execution_count": 12,
   "metadata": {
    "collapsed": false
   },
   "outputs": [],
   "source": [
    "c = Counter(list(ways.values()))"
   ]
  },
  {
   "cell_type": "code",
   "execution_count": 13,
   "metadata": {
    "collapsed": false
   },
   "outputs": [
    {
     "data": {
      "text/plain": [
       "[(1, 2391544),\n",
       " (2, 184928),\n",
       " (3, 46689),\n",
       " (4, 17746),\n",
       " (6, 9889),\n",
       " (5, 8254),\n",
       " (7, 3275),\n",
       " (8, 1800),\n",
       " (9, 1176),\n",
       " (10, 850),\n",
       " (11, 609),\n",
       " (12, 471),\n",
       " (13, 350),\n",
       " (14, 264),\n",
       " (15, 243),\n",
       " (16, 178),\n",
       " (17, 155),\n",
       " (18, 120),\n",
       " (19, 91),\n",
       " (20, 79),\n",
       " (21, 65),\n",
       " (22, 59),\n",
       " (23, 45),\n",
       " (24, 42),\n",
       " (25, 35),\n",
       " (27, 30),\n",
       " (28, 28),\n",
       " (26, 26),\n",
       " (29, 18),\n",
       " (30, 16),\n",
       " (31, 15),\n",
       " (32, 14),\n",
       " (34, 13),\n",
       " (35, 12),\n",
       " (41, 12),\n",
       " (37, 9),\n",
       " (36, 8),\n",
       " (38, 8),\n",
       " (39, 8),\n",
       " (40, 7),\n",
       " (33, 6),\n",
       " (43, 4),\n",
       " (46, 4),\n",
       " (48, 3),\n",
       " (216, 3),\n",
       " (42, 2),\n",
       " (45, 2),\n",
       " (49, 2),\n",
       " (53, 2),\n",
       " (54, 2),\n",
       " (64, 2),\n",
       " (205, 2),\n",
       " (212, 2),\n",
       " (213, 2),\n",
       " (214, 2),\n",
       " (217, 2),\n",
       " (44, 1),\n",
       " (47, 1),\n",
       " (50, 1),\n",
       " (51, 1),\n",
       " (55, 1),\n",
       " (56, 1),\n",
       " (57, 1),\n",
       " (58, 1),\n",
       " (315, 1),\n",
       " (61, 1),\n",
       " (62, 1),\n",
       " (63, 1),\n",
       " (65, 1),\n",
       " (67, 1),\n",
       " (68, 1),\n",
       " (69, 1),\n",
       " (72, 1),\n",
       " (77, 1),\n",
       " (81, 1),\n",
       " (83, 1),\n",
       " (106, 1),\n",
       " (107, 1),\n",
       " (276, 1),\n",
       " (195, 1),\n",
       " (196, 1),\n",
       " (203, 1),\n",
       " (204, 1),\n",
       " (215, 1),\n",
       " (220, 1),\n",
       " (225, 1),\n",
       " (226, 1),\n",
       " (227, 1),\n",
       " (228, 1),\n",
       " (229, 1),\n",
       " (230, 1)]"
      ]
     },
     "execution_count": 13,
     "metadata": {},
     "output_type": "execute_result"
    }
   ],
   "source": [
    "c.most_common()"
   ]
  },
  {
   "cell_type": "code",
   "execution_count": null,
   "metadata": {
    "collapsed": false
   },
   "outputs": [],
   "source": [
    "#Actually process the data:\n",
    "for idx, (w_id, way) in enumerate(ways.items()):\n",
    "    way.process_history()\n",
    "    if idx%1000==0:\n",
    "        sys.stderr.write(\"\\r{0} ways processed\".format(idx))"
   ]
  },
  {
   "cell_type": "code",
   "execution_count": null,
   "metadata": {
    "collapsed": false
   },
   "outputs": [],
   "source": [
    "for idx, (n_id, node) in enumerate(nodes.items()):\n",
    "    node.process_history() \n",
    "    if idx%1000==0:\n",
    "        sys.stderr.write(\"\\r{0} nodes processed\".format(idx))"
   ]
  },
  {
   "cell_type": "code",
   "execution_count": null,
   "metadata": {
    "collapsed": true
   },
   "outputs": [],
   "source": [
    "# Choose sample of data and print it\n",
    "sample_ways  = np.random.choice(list(ways.keys()),10)\n",
    "sample_nodes = np.random.choice(list(nodes.keys()),10)"
   ]
  },
  {
   "cell_type": "code",
   "execution_count": null,
   "metadata": {
    "collapsed": false,
    "scrolled": true
   },
   "outputs": [],
   "source": [
    "for way in [ways[w_id] for w_id in sample_ways]:\n",
    "    print(way)\n",
    "    pprint.pprint(way.as_geojson())\n",
    "    \n",
    "for node in [nodes[n_id] for n_id in sample_nodes]:\n",
    "    print(node)\n",
    "    pprint.pprint(node.as_geojson(geometries=False))\n",
    "    pprint.pprint(node.as_geojson())"
   ]
  },
  {
   "cell_type": "code",
   "execution_count": null,
   "metadata": {
    "collapsed": false,
    "scrolled": false
   },
   "outputs": [],
   "source": [
    "# Write out the geojsonl file\n",
    "with open('nepal_history_no_geometry.geojsonl','w') as outFile:\n",
    "    for w_id, way in ways.items():\n",
    "        outFile.write(json.dumps(way.as_geojson(geometries=False))+\"\\n\")\n",
    "    \n",
    "    for n_id, node in nodes.items():\n",
    "        outFile.write(json.dumps(node.as_geojson(geometries=False))+\"\\n\")"
   ]
  },
  {
   "cell_type": "markdown",
   "metadata": {},
   "source": [
    "Tippecanoe Instructions\n",
    "\n",
    "    $ tippecanoe -o colorado_history_no_geometry.mbtiles -Pf -ps -pt -pf -pk -Z12 -z12 -d14 -l osm -n osm boulder_history.geojsonl\n",
    "\n",
    "The geometries are stil _not quite right_... but they're close?"
   ]
  },
  {
   "cell_type": "raw",
   "metadata": {
    "collapsed": false
   },
   "source": [
    "with open('colorado_history_geometry_diffs.geojsonl','w') as outFile:\n",
    "    for idx, (w_id, way) in enumerate(ways.items()):\n",
    "        outFile.write(json.dumps(way.as_geojson())+\"\\n\")\n",
    "        if idx%1000==0:\n",
    "            sys.stderr.write(\"\\r{0} ways processed\".format(idx))\n",
    "    for idx, (n_id, node) in enumerate(nodes.items()):\n",
    "        outFile.write(json.dumps(node.as_geojson())+\"\\n\")\n",
    "        if idx%1000==0:\n",
    "            sys.stderr.write(\"\\r{0} nodes processed\".format(idx))"
   ]
  },
  {
   "cell_type": "code",
   "execution_count": null,
   "metadata": {
    "collapsed": true
   },
   "outputs": [],
   "source": []
  }
 ],
 "metadata": {
  "kernelspec": {
   "display_name": "IPython (Python 3)",
   "language": "python",
   "name": "python3"
  },
  "language_info": {
   "codemirror_mode": {
    "name": "ipython",
    "version": 3
   },
   "file_extension": ".py",
   "mimetype": "text/x-python",
   "name": "python",
   "nbconvert_exporter": "python",
   "pygments_lexer": "ipython3",
   "version": "3.4.3"
  }
 },
 "nbformat": 4,
 "nbformat_minor": 1
}
