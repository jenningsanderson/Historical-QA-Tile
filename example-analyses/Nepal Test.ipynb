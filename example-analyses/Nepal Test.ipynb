{
 "cells": [
  {
   "cell_type": "code",
   "execution_count": 1,
   "metadata": {
    "collapsed": false
   },
   "outputs": [],
   "source": [
    "import pandas as pd\n",
    "import matplotlib.pyplot as plt\n",
    "import json, datetime, os, sys\n",
    "%matplotlib inline"
   ]
  },
  {
   "cell_type": "markdown",
   "metadata": {},
   "source": [
    "# Nepal"
   ]
  },
  {
   "cell_type": "code",
   "execution_count": 3,
   "metadata": {
    "collapsed": false
   },
   "outputs": [],
   "source": [
    "n_data = pd.read_csv('nepal_edit_timetstamps.csv', header=None, names=['user','time','version'], index_col=False)\n",
    "n_data['time'] = pd.to_datetime(n_data.time)"
   ]
  },
  {
   "cell_type": "code",
   "execution_count": 4,
   "metadata": {
    "collapsed": false,
    "scrolled": true
   },
   "outputs": [
    {
     "data": {
      "text/html": [
       "<div>\n",
       "<table border=\"1\" class=\"dataframe\">\n",
       "  <thead>\n",
       "    <tr style=\"text-align: right;\">\n",
       "      <th></th>\n",
       "      <th>user</th>\n",
       "      <th>time</th>\n",
       "      <th>version</th>\n",
       "    </tr>\n",
       "  </thead>\n",
       "  <tbody>\n",
       "    <tr>\n",
       "      <th>0</th>\n",
       "      <td>Geofreund1</td>\n",
       "      <td>2014-02-02 21:10:41</td>\n",
       "      <td>5</td>\n",
       "    </tr>\n",
       "    <tr>\n",
       "      <th>1</th>\n",
       "      <td>PlaneMad</td>\n",
       "      <td>2011-05-12 19:51:06</td>\n",
       "      <td>1</td>\n",
       "    </tr>\n",
       "    <tr>\n",
       "      <th>2</th>\n",
       "      <td>PlaneMad</td>\n",
       "      <td>2011-10-19 14:07:27</td>\n",
       "      <td>2</td>\n",
       "    </tr>\n",
       "    <tr>\n",
       "      <th>3</th>\n",
       "      <td>PlaneMad</td>\n",
       "      <td>2012-12-18 11:19:35</td>\n",
       "      <td>3</td>\n",
       "    </tr>\n",
       "    <tr>\n",
       "      <th>4</th>\n",
       "      <td>Geofreund1</td>\n",
       "      <td>2014-01-15 13:12:06</td>\n",
       "      <td>4</td>\n",
       "    </tr>\n",
       "  </tbody>\n",
       "</table>\n",
       "</div>"
      ],
      "text/plain": [
       "         user                time  version\n",
       "0  Geofreund1 2014-02-02 21:10:41        5\n",
       "1    PlaneMad 2011-05-12 19:51:06        1\n",
       "2    PlaneMad 2011-10-19 14:07:27        2\n",
       "3    PlaneMad 2012-12-18 11:19:35        3\n",
       "4  Geofreund1 2014-01-15 13:12:06        4"
      ]
     },
     "execution_count": 4,
     "metadata": {},
     "output_type": "execute_result"
    }
   ],
   "source": [
    "n_data.head()"
   ]
  },
  {
   "cell_type": "code",
   "execution_count": 14,
   "metadata": {
    "collapsed": false
   },
   "outputs": [
    {
     "data": {
      "text/plain": [
       "user       3790243\n",
       "time       3790243\n",
       "version    3790243\n",
       "dtype: int64"
      ]
     },
     "execution_count": 14,
     "metadata": {},
     "output_type": "execute_result"
    }
   ],
   "source": [
    "n_data.count()"
   ]
  },
  {
   "cell_type": "code",
   "execution_count": 15,
   "metadata": {
    "collapsed": false
   },
   "outputs": [
    {
     "data": {
      "text/plain": [
       "Heinz_V                                216779\n",
       "Geofreund1                              86706\n",
       "bookbugs                                79093\n",
       "seichter                                69355\n",
       "Manoj Thapa                             56460\n",
       "amritkarma                              52253\n",
       "vichada                                 51047\n",
       "lja60                                   48630\n",
       "GeoFrizz                                38527\n",
       "7of9                                    35712\n",
       "tgertin                                 34093\n",
       "Natuser                                 31534\n",
       "MeghaShrestha                           31162\n",
       "marek kleciak                           28609\n",
       "Helina                                  25356\n",
       "Blarneystone                            24962\n",
       "ngt                                     23264\n",
       "abel801                                 23115\n",
       "Kiran215                                22939\n",
       "samely                                  22452\n",
       "calfarome                               22363\n",
       "Super-Map                               20653\n",
       "ninjamask                               20589\n",
       "karitotp                                20052\n",
       "Shushuf                                 18458\n",
       "Scare!                                  18439\n",
       "ikiya                                   17507\n",
       "ediyes                                  16799\n",
       "dannykath                               16491\n",
       "Valkyrielouise                          15819\n",
       "                                        ...  \n",
       "Subodhu                                     1\n",
       "Axon Shrestha                               1\n",
       "八雲遙                                         1\n",
       "TMoneyZ                                     1\n",
       "citynet                                     1\n",
       "Ur2gdfrn                                    1\n",
       "basnet dev                                  1\n",
       "thevirginian                                1\n",
       "gwendolynburke                              1\n",
       "Sashant                                     1\n",
       "André Landeck Moreira Franco Caiado         1\n",
       "國七忠                                         1\n",
       "Chhunta                                     1\n",
       "Sajan Shrestha                              1\n",
       "akstha                                      1\n",
       "Charlie Peck                                1\n",
       "Manishrestha                                1\n",
       "JFayne                                      1\n",
       "Naima_H                                     1\n",
       "Arjun Chhetri                               1\n",
       "Dhiroj Kc                                   1\n",
       "Nemi123                                     1\n",
       "turkhan                                     1\n",
       "Pol Creignou                                1\n",
       "KlKing1612                                  1\n",
       "Dhruba Rajbanshi                            1\n",
       "agrgas                                      1\n",
       "zorque                                      1\n",
       "Narendra Basyal                             1\n",
       "ranzanme7                                   1\n",
       "Name: user, dtype: int64"
      ]
     },
     "execution_count": 15,
     "metadata": {},
     "output_type": "execute_result"
    }
   ],
   "source": [
    "n_data.user.value_counts()"
   ]
  },
  {
   "cell_type": "code",
   "execution_count": 19,
   "metadata": {
    "collapsed": true
   },
   "outputs": [],
   "source": [
    "n_data['date'] = n_data.time.apply(lambda x: x.date())"
   ]
  },
  {
   "cell_type": "code",
   "execution_count": 20,
   "metadata": {
    "collapsed": false
   },
   "outputs": [
    {
     "data": {
      "text/html": [
       "<div>\n",
       "<table border=\"1\" class=\"dataframe\">\n",
       "  <thead>\n",
       "    <tr style=\"text-align: right;\">\n",
       "      <th></th>\n",
       "      <th>user</th>\n",
       "      <th>time</th>\n",
       "      <th>version</th>\n",
       "      <th>date</th>\n",
       "    </tr>\n",
       "  </thead>\n",
       "  <tbody>\n",
       "    <tr>\n",
       "      <th>0</th>\n",
       "      <td>Geofreund1</td>\n",
       "      <td>2014-02-02 21:10:41</td>\n",
       "      <td>5</td>\n",
       "      <td>2014-02-02</td>\n",
       "    </tr>\n",
       "    <tr>\n",
       "      <th>1</th>\n",
       "      <td>PlaneMad</td>\n",
       "      <td>2011-05-12 19:51:06</td>\n",
       "      <td>1</td>\n",
       "      <td>2011-05-12</td>\n",
       "    </tr>\n",
       "    <tr>\n",
       "      <th>2</th>\n",
       "      <td>PlaneMad</td>\n",
       "      <td>2011-10-19 14:07:27</td>\n",
       "      <td>2</td>\n",
       "      <td>2011-10-19</td>\n",
       "    </tr>\n",
       "    <tr>\n",
       "      <th>3</th>\n",
       "      <td>PlaneMad</td>\n",
       "      <td>2012-12-18 11:19:35</td>\n",
       "      <td>3</td>\n",
       "      <td>2012-12-18</td>\n",
       "    </tr>\n",
       "    <tr>\n",
       "      <th>4</th>\n",
       "      <td>Geofreund1</td>\n",
       "      <td>2014-01-15 13:12:06</td>\n",
       "      <td>4</td>\n",
       "      <td>2014-01-15</td>\n",
       "    </tr>\n",
       "  </tbody>\n",
       "</table>\n",
       "</div>"
      ],
      "text/plain": [
       "         user                time  version        date\n",
       "0  Geofreund1 2014-02-02 21:10:41        5  2014-02-02\n",
       "1    PlaneMad 2011-05-12 19:51:06        1  2011-05-12\n",
       "2    PlaneMad 2011-10-19 14:07:27        2  2011-10-19\n",
       "3    PlaneMad 2012-12-18 11:19:35        3  2012-12-18\n",
       "4  Geofreund1 2014-01-15 13:12:06        4  2014-01-15"
      ]
     },
     "execution_count": 20,
     "metadata": {},
     "output_type": "execute_result"
    }
   ],
   "source": [
    "n_data.head()"
   ]
  },
  {
   "cell_type": "code",
   "execution_count": 24,
   "metadata": {
    "collapsed": false
   },
   "outputs": [],
   "source": [
    "gb_date = n_data.groupby('date')"
   ]
  },
  {
   "cell_type": "code",
   "execution_count": 28,
   "metadata": {
    "collapsed": false
   },
   "outputs": [
    {
     "data": {
      "text/plain": [
       "<matplotlib.axes._subplots.AxesSubplot at 0x7f2fa76ffc18>"
      ]
     },
     "execution_count": 28,
     "metadata": {},
     "output_type": "execute_result"
    },
    {
     "data": {
      "image/png": "[encoded data removed]",
      "text/plain": [
       "<matplotlib.figure.Figure at 0x7f2fb3704c50>"
      ]
     },
     "metadata": {},
     "output_type": "display_data"
    }
   ],
   "source": [
    "gb_date.agg({'user': {'count':pd.Series.count}}).plot(figsize=(20,10))"
   ]
  },
  {
   "cell_type": "code",
   "execution_count": null,
   "metadata": {
    "collapsed": true
   },
   "outputs": [],
   "source": []
  }
 ],
 "metadata": {
  "kernelspec": {
   "display_name": "IPython (Python 3)",
   "language": "python",
   "name": "python3"
  },
  "language_info": {
   "codemirror_mode": {
    "name": "ipython",
    "version": 3
   },
   "file_extension": ".py",
   "mimetype": "text/x-python",
   "name": "python",
   "nbconvert_exporter": "python",
   "pygments_lexer": "ipython3",
   "version": "3.4.3"
  }
 },
 "nbformat": 4,
 "nbformat_minor": 1
}
