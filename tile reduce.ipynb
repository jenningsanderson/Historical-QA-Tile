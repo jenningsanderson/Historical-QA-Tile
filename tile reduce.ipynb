{
 "cells": [
  {
   "cell_type": "code",
   "execution_count": 1,
   "metadata": {
    "collapsed": false
   },
   "outputs": [
    {
     "data": {
      "text/plain": [
       "undefined"
      ]
     },
     "execution_count": 1,
     "metadata": {},
     "output_type": "execute_result"
    }
   ],
   "source": [
    "var tileReduce = require('tile-reduce')\n",
    "var fs = require('fs')\n",
    "var path = require('path');"
   ]
  },
  {
   "cell_type": "code",
   "execution_count": 2,
   "metadata": {
    "collapsed": false
   },
   "outputs": [
    {
     "name": "stderr",
     "output_type": "stream",
     "text": [
      "Starting up 16 workers... "
     ]
    },
    {
     "data": {
      "text/plain": [
       "null"
      ]
     },
     "execution_count": 2,
     "metadata": {},
     "output_type": "execute_result"
    },
    {
     "name": "stderr",
     "output_type": "stream",
     "text": [
      "(node:8034) Warning: Possible EventEmitter memory leak detected. 11 unpipe listeners added. Use emitter.setMaxListeners() to increase limit\n",
      "(node:8034) Warning: Possible EventEmitter memory leak detected. 11 drain listeners added. Use emitter.setMaxListeners() to increase limit\n",
      "(node:8034) Warning: Possible EventEmitter memory leak detected. 11 error listeners added. Use emitter.setMaxListeners() to increase limit\n",
      "(node:8034) Warning: Possible EventEmitter memory leak detected. 11 close listeners added. Use emitter.setMaxListeners() to increase limit\n",
      "(node:8034) Warning: Possible EventEmitter memory leak detected. 11 finish listeners added. Use emitter.setMaxListeners() to increase limit\n",
      "Job started.\n",
      "Processing tile coords from \"osm\" source.\n"
     ]
    }
   ],
   "source": [
    "var inFile = '/data/tiles2/planet-20160916.mbtiles'\n",
    "var outFile = 'out.log'\n",
    "\n",
    "var total_nodes = 0;\n",
    "\n",
    "tileReduce({\n",
    "//     bbox: [-105.301453,39.964348,-105.178093,40.09441],\n",
    "    zoom: 12,\n",
    "    map: '/home/anderstj/dumpster-fire/map.js',\n",
    "    sources: [{name: 'osm', \n",
    "        mbtiles: path.join(inFile), \n",
    "        raw: false}],\n",
    "//     output: fs.createWriteStream(outFile),\n",
    "    maxWorkers: 16\n",
    "})\n",
    ".on('reduce', function(cnt) {\n",
    "    total_nodes += cnt\n",
    "})\n",
    ".on('end', function() {\n",
    "    console.log(total_nodes)\n",
    "    console.log('done')\n",
    "});\n",
    "null"
   ]
  },
  {
   "cell_type": "code",
   "execution_count": null,
   "metadata": {
    "collapsed": true
   },
   "outputs": [],
   "source": []
  },
  {
   "cell_type": "code",
   "execution_count": null,
   "metadata": {
    "collapsed": true
   },
   "outputs": [],
   "source": []
  }
 ],
 "metadata": {
  "kernelspec": {
   "display_name": "Javascript (Node.js)",
   "language": "javascript",
   "name": "javascript"
  },
  "language_info": {
   "file_extension": ".js",
   "mimetype": "application/javascript",
   "name": "javascript",
   "version": "6.4.0"
  }
 },
 "nbformat": 4,
 "nbformat_minor": 1
}
