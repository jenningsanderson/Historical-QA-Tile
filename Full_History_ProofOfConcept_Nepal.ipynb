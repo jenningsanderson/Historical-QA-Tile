{
 "cells": [
  {
   "cell_type": "markdown",
   "metadata": {},
   "source": [
    "# Building OSM Full History objects from History Files\n",
    "\n",
    "> Test case: Nepal"
   ]
  },
  {
   "cell_type": "code",
   "execution_count": 1,
   "metadata": {
    "collapsed": true
   },
   "outputs": [],
   "source": [
    "import osmium as o\n",
    "import numpy as np\n",
    "import sys, os, json, pprint, copy\n",
    "from collections import Counter"
   ]
  },
  {
   "cell_type": "markdown",
   "metadata": {},
   "source": [
    "main runtime, unfortuantely it's single threaded (Can osmium run in parallel in native C?)"
   ]
  },
  {
   "cell_type": "code",
   "execution_count": 2,
   "metadata": {
    "collapsed": false
   },
   "outputs": [],
   "source": [
    "class FileHandler(o.SimpleHandler):                                                                                           \n",
    "    def __init__(self):\n",
    "        o.SimpleHandler.__init__(self)                                                                                              \n",
    "        self.w_cnt = 0\n",
    "        self.n_cnt = 0\n",
    "\n",
    "    def node(self, n):\n",
    "        '''\n",
    "            Only save nodes which have extra attributes...\n",
    "            TODO: If the first version of a node has 0 tags, but version 2 has tags, then version 1 may not show up in the history... maybe?\n",
    "        '''\n",
    "        self.n_cnt +=1\n",
    "        if n.id in nodes:\n",
    "            nodes[n.id].add(n)\n",
    "        elif len(n.tags)>0:\n",
    "            nodes[n.id] = Node(n)\n",
    "            \n",
    "        #Cache these locations:\n",
    "        if n.id not in node_locations:\n",
    "            node_locations[n.id] = []\n",
    "\n",
    "        node_locations[n.id].append({\n",
    "                'v':n.version,\n",
    "                'c':n.changeset,\n",
    "                'g':[n.location.lon, n.location.lat]\n",
    "            })\n",
    "        \n",
    "        if self.n_cnt%10000==0:\n",
    "            sys.stderr.write(\"\\r{0} nodes processed\".format(self.n_cnt))\n",
    "\n",
    "    def way(self, w):\n",
    "        self.w_cnt += 1\n",
    "        if w.id in ways: \n",
    "            ways[w.id].add(w)\n",
    "        else:\n",
    "            ways[w.id] = Way(w)\n",
    "        if self.w_cnt%1000==0:\n",
    "            sys.stderr.write(\"\\r{0} ways processed\".format(self.w_cnt))"
   ]
  },
  {
   "cell_type": "code",
   "execution_count": 3,
   "metadata": {
    "collapsed": false
   },
   "outputs": [],
   "source": [
    "class OSMObject:\n",
    "    def __init__(self, w):\n",
    "        self.id = w.id\n",
    "        self.history = []\n",
    "        self.add(w)\n",
    "        \n",
    "    def add(self,w):\n",
    "        self.history.append(\n",
    "            {\n",
    "                'version':w.version,\n",
    "#                 'deleted':w.deleted, # These are not doing their part\n",
    "#                 'visible':w.visible, #TODO: Why don't these work properly?\n",
    "                \n",
    "                'uid' : w.uid,\n",
    "                'user': w.user,\n",
    "                'created_at': w.timestamp.isoformat(),\n",
    "                'timestamp' : w.timestamp,\n",
    "                \n",
    "                'tags': dict( (t.k, t.v) for t in list(w.tags) ),\n",
    "                'geometry': self.get_geometry(w)\n",
    "            })\n",
    "        \n",
    "    def process_history(self):\n",
    "        if len(self.history[0]['tags']):\n",
    "            self.history[0]['new_tags'] = self.history[0]['tags']\n",
    "            \n",
    "        if len(self.history)>1:\n",
    "\n",
    "            #Ensure it's in order\n",
    "            self.history.sort(key=lambda x: x['version'])\n",
    "            \n",
    "            for prev_idx, w in enumerate(self.history[1:]):\n",
    "\n",
    "                prev_keys  = set(self.history[prev_idx]['tags'])\n",
    "                these_keys = set(w['tags'])\n",
    "\n",
    "                new_keys = these_keys - prev_keys\n",
    "                if len(new_keys) > 0:\n",
    "                    w['new_tags'] = dict( (k, w['tags'][k]) for k in new_keys)\n",
    "\n",
    "                del_keys = prev_keys - new_keys - these_keys\n",
    "                if len(del_keys) > 0:\n",
    "                    w['deleted_tags'] = dict( (k, self.history[prev_idx]['tags'][k]) for k in del_keys)\n",
    "                \n",
    "                changed_tags = {}\n",
    "                for k in these_keys:\n",
    "                    if k in prev_keys:\n",
    "                        if w['tags'][k] != self.history[prev_idx]['tags'][k]:\n",
    "                            changed_tags[k] = (self.history[prev_idx]['tags'][k], w['tags'][k])\n",
    "                if len(changed_tags):\n",
    "                    w['changed_tags'] = changed_tags\n",
    "                    \n",
    "                w['seconds_since_last_edit'] = int((w['timestamp'] - self.history[prev_idx]['timestamp']).total_seconds())\n",
    "                    \n",
    "    def as_geojson(self, geometries=True):\n",
    "        geojson = {'type':'Feature'}\n",
    "        geojson['properties']  = copy.deepcopy(self.history[-1]['tags'])\n",
    "        geojson['properties']['@id']          = self.id\n",
    "        geojson['properties']['@created_at']  = self.history[-1]['created_at']\n",
    "        geojson['properties']['@uid']         = self.history[-1]['uid']\n",
    "        geojson['properties']['@user']        = self.history[-1]['user']\n",
    "        geojson['properties']['@version']     = self.history[-1]['version']\n",
    "        \n",
    "        geojson['geometry'] = copy.deepcopy(self.history[-1]['geometry'])\n",
    "        \n",
    "        if len(self.history)>1:\n",
    "            geojson['properties']['@object_history'] = copy.deepcopy(self.history)\n",
    "            \n",
    "            for idx, hist_obj in enumerate(geojson['properties']['@object_history']):\n",
    "                if 'timestamp' in hist_obj:\n",
    "                    del hist_obj['timestamp']\n",
    "                    \n",
    "                if 'tags' in hist_obj:\n",
    "                    del hist_obj['tags']\n",
    "                \n",
    "                if idx>0:\n",
    "                    if hist_obj['geometry']['coordinates'] != geojson['properties']['@object_history'][idx-1]['geometry']['coordinates']:\n",
    "                        if geometries:\n",
    "                            hist_obj['geometry_change'] = {\n",
    "                                'old': geojson['properties']['@object_history'][idx-1]['geometry']['coordinates'],\n",
    "                                'new': hist_obj['geometry']['coordinates']\n",
    "                            }\n",
    "                        else:\n",
    "                            hist_obj['geometry_change'] = {\n",
    "                                'old':{'nodes': len(geojson['properties']['@object_history'][idx-1]['geometry']['coordinates'])},\n",
    "                                'new':{'nodes': len(hist_obj['geometry']['coordinates'])}\n",
    "                            }\n",
    "            \n",
    "            for hist_obj in geojson['properties']['@object_history']:\n",
    "                del hist_obj['geometry']\n",
    "\n",
    "#         else:\n",
    "#             if geometries: \n",
    "#                 #There is only 1 entry, so delete the geometry from history\n",
    "#                 del geojson['properties']['@object_history'][0]['geometry']\n",
    "#             else:\n",
    "#                 geojson['properties']['@object_history'][0]['geometry'] = {'nodes':len(geojson['geometry']['coordinates'])}\n",
    "            \n",
    "        return geojson\n",
    "    \n",
    "    def __str__(self):\n",
    "        \"\"\"\n",
    "            Override str() function so when calling print(), we get back the full information\n",
    "        \"\"\"\n",
    "        string = \"ID: {0}; revisions: {1}\".format(self.id, len(self.history)-1)\n",
    "        if len(self.history)>1:\n",
    "            string += \"\\n-------------------------------------------------------------------------------\"\n",
    "            for o in self.history:\n",
    "                string += \"\\n({0}) - {1} - {2}, Nodes: {3}\".format(o['version'], o['user'], o['created_at'], len(o['geometry']['coordinates']))\n",
    "                if 'new_tags' in o:\n",
    "                    string += \"\\n\\tNew Tags: {0}\".format(o['new_tags'])\n",
    "                if 'deleted_tags' in o:\n",
    "                    string += \"\\n\\tDeleted Tags: {0}\".format(o['deleted_tags'])\n",
    "                if 'changed_tags' in o:\n",
    "                    string += \"\\n\\tChanged Tags: {0}\".format(o['changed_tags'])\n",
    "            string += \"\\n===============================================================================\"\n",
    "        return string\n",
    "            \n",
    "class Way(OSMObject):\n",
    "    def __init__(self, w):\n",
    "        self.errors = 0\n",
    "        OSMObject.__init__(self, w)\n",
    "    \n",
    "    def get_geometry(self,w):\n",
    "        coords = []\n",
    "        for n in w.nodes:\n",
    "            #If there are multiple versions, then we sort and take the latest\n",
    "            if len(node_locations[n.ref]) > 1:\n",
    "                #Sort by changeset id\n",
    "                node_locations[n.ref].sort(key=lambda x: x['c'])\n",
    "                \n",
    "                # Due to silly error from JOSM or Potlatch, we have to get hacky with this...\n",
    "                try:\n",
    "                    c = [x for x in node_locations[n.ref] if not x['c'] > w.changeset][-1]\n",
    "                except:\n",
    "                    #just take the first one\n",
    "                    c = node_locations[n.ref][0]\n",
    "                coords.append(c['g'])\n",
    "            else:\n",
    "                coords.append(node_locations[n.ref][0]['g'])\n",
    "            \n",
    "        return {\"type\":\"LineString\", \"coordinates\": coords}\n",
    "#         try:\n",
    "#             geom = o.geom.WKBFactory.create_linestring(w.nodes)\n",
    "#         except Exception as e:\n",
    "#             self.errors += 1\n",
    "#             print(context(e))\n",
    "#             sys.exit(1)\n",
    "        \n",
    "class Node(OSMObject):\n",
    "    def __init__(self, n):\n",
    "        self.errors = 0\n",
    "        OSMObject.__init__(self, n)\n",
    "    \n",
    "    def get_geometry(self, n):\n",
    "        return {\"type\": \"Point\", \"coordinates\":[ n.location.lon, n.location.lat]}"
   ]
  },
  {
   "cell_type": "markdown",
   "metadata": {},
   "source": [
    "Run the handler to create the objects"
   ]
  },
  {
   "cell_type": "markdown",
   "metadata": {},
   "source": [
    "## Now process the objects"
   ]
  },
  {
   "cell_type": "code",
   "execution_count": null,
   "metadata": {
    "collapsed": false
   },
   "outputs": [
    {
     "name": "stderr",
     "output_type": "stream",
     "text": [
      "8160000 nodes processed"
     ]
    }
   ],
   "source": [
    "node_locations = {}\n",
    "nodes = dict({})\n",
    "ways  = dict({})\n",
    "h = FileHandler()\n",
    "h.apply_file('/data/osm/nepal.osh.pbf', locations=True)"
   ]
  },
  {
   "cell_type": "code",
   "execution_count": null,
   "metadata": {
    "collapsed": false
   },
   "outputs": [],
   "source": [
    "#Actually process the data:\n",
    "for idx, (w_id, way) in enumerate(ways.items()):\n",
    "    way.process_history()\n",
    "    if idx%1000==0:\n",
    "        sys.stderr.write(\"\\r{0} ways processed\".format(idx))"
   ]
  },
  {
   "cell_type": "code",
   "execution_count": null,
   "metadata": {
    "collapsed": false
   },
   "outputs": [],
   "source": [
    "for idx, (n_id, node) in enumerate(nodes.items()):\n",
    "    node.process_history() \n",
    "    if idx%1000==0:\n",
    "        sys.stderr.write(\"\\r{0} nodes processed\".format(idx))"
   ]
  },
  {
   "cell_type": "code",
   "execution_count": null,
   "metadata": {
    "collapsed": true
   },
   "outputs": [],
   "source": [
    "# Choose sample of data and print it\n",
    "sample_ways  = np.random.choice(list(ways.keys()),10)\n",
    "sample_nodes = np.random.choice(list(nodes.keys()),10)"
   ]
  },
  {
   "cell_type": "code",
   "execution_count": null,
   "metadata": {
    "collapsed": false,
    "scrolled": true
   },
   "outputs": [],
   "source": [
    "for way in [ways[w_id] for w_id in sample_ways]:\n",
    "    print(way)\n",
    "    pprint.pprint(way.as_geojson())\n",
    "    \n",
    "for node in [nodes[n_id] for n_id in sample_nodes]:\n",
    "    print(node)\n",
    "    pprint.pprint(node.as_geojson(geometries=False))\n",
    "    pprint.pprint(node.as_geojson())"
   ]
  },
  {
   "cell_type": "code",
   "execution_count": null,
   "metadata": {
    "collapsed": false,
    "scrolled": false
   },
   "outputs": [],
   "source": [
    "# Write out the geojsonl file\n",
    "with open('nepal_history_no_geometry.geojsonl','w') as outFile:\n",
    "    for w_id, way in ways.items():\n",
    "        outFile.write(json.dumps(way.as_geojson(geometries=False))+\"\\n\")\n",
    "    \n",
    "    for n_id, node in nodes.items():\n",
    "        outFile.write(json.dumps(node.as_geojson(geometries=False))+\"\\n\")"
   ]
  },
  {
   "cell_type": "markdown",
   "metadata": {},
   "source": [
    "Tippecanoe Instructions\n",
    "\n",
    "    $ tippecanoe -o colorado_history_no_geometry.mbtiles -Pf -ps -pt -pf -pk -Z12 -z12 -d14 -l osm -n osm boulder_history.geojsonl\n",
    "\n",
    "The geometries are stil _not quite right_... but they're close?"
   ]
  },
  {
   "cell_type": "raw",
   "metadata": {
    "collapsed": false
   },
   "source": [
    "with open('colorado_history_geometry_diffs.geojsonl','w') as outFile:\n",
    "    for idx, (w_id, way) in enumerate(ways.items()):\n",
    "        outFile.write(json.dumps(way.as_geojson())+\"\\n\")\n",
    "        if idx%1000==0:\n",
    "            sys.stderr.write(\"\\r{0} ways processed\".format(idx))\n",
    "    for idx, (n_id, node) in enumerate(nodes.items()):\n",
    "        outFile.write(json.dumps(node.as_geojson())+\"\\n\")\n",
    "        if idx%1000==0:\n",
    "            sys.stderr.write(\"\\r{0} nodes processed\".format(idx))"
   ]
  },
  {
   "cell_type": "code",
   "execution_count": null,
   "metadata": {
    "collapsed": true
   },
   "outputs": [],
   "source": []
  }
 ],
 "metadata": {
  "kernelspec": {
   "display_name": "IPython (Python 3)",
   "language": "python",
   "name": "python3"
  },
  "language_info": {
   "codemirror_mode": {
    "name": "ipython",
    "version": 3
   },
   "file_extension": ".py",
   "mimetype": "text/x-python",
   "name": "python",
   "nbconvert_exporter": "python",
   "pygments_lexer": "ipython3",
   "version": "3.4.3"
  }
 },
 "nbformat": 4,
 "nbformat_minor": 1
}
